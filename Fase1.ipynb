{
 "cells": [
  {
   "cell_type": "markdown",
   "metadata": {},
   "source": [
    "### Importaciones\n",
    "Necesarias para el correcto funcionamiento del proyecto."
   ]
  },
  {
   "cell_type": "code",
   "execution_count": 1,
   "metadata": {},
   "outputs": [],
   "source": [
    "import numpy as np\n",
    "from random import randint"
   ]
  },
  {
   "cell_type": "markdown",
   "metadata": {},
   "source": [
    "# Aprendizaje por Refuerzo\n",
    "## Tablero\n",
    "Definimos el tablero por defecto a utilizar, que en un futuro será configurable."
   ]
  },
  {
   "cell_type": "code",
   "execution_count": 2,
   "metadata": {
    "tags": []
   },
   "outputs": [
    {
     "output_type": "stream",
     "name": "stdout",
     "text": "[[8 7 6]\n [3 2 5]\n [0 1 4]]\n"
    }
   ],
   "source": [
    "T = np.array([[8,7,6],\n",
    "              [3,2,5],\n",
    "              [0,1,4]])\n",
    "print(T)"
   ]
  },
  {
   "cell_type": "markdown",
   "metadata": {},
   "source": [
    "## Matriz R\n",
    "Definimos la matriz R calculada a partir de los posibles movimientos del tablero."
   ]
  },
  {
   "cell_type": "code",
   "execution_count": 3,
   "metadata": {
    "tags": []
   },
   "outputs": [
    {
     "output_type": "stream",
     "name": "stdout",
     "text": "[[ -1   0   0   0  -1  -1  -1  -1  -1]\n [  0  -1   0   0   0   0  -1  -1  -1]\n [  0   0  -1   0   0   0 100   0   0]\n [  0   0   0  -1  -1  -1  -1   0   0]\n [ -1   0   0  -1  -1   0  -1  -1  -1]\n [ -1   0   0  -1   0  -1 100   0  -1]\n [ -1  -1   0  -1  -1   0 100   0  -1]\n [ -1  -1   0   0  -1   0 100  -1   0]\n [ -1  -1   0   0  -1  -1  -1   0  -1]]\n"
    }
   ],
   "source": [
    "R = np.array([[-1,0,0,0,-1,-1,-1,-1,-1],\n",
    "              [0,-1,0,0,0,0,-1,-1,-1],\n",
    "              [0,0,-1,0,0,0,100,0,0],\n",
    "              [0,0,0,-1,-1,-1,-1,0,0],\n",
    "              [-1,0,0,-1,-1,0,-1,-1,-1],\n",
    "              [-1,0,0,-1,0,-1,100,0,-1],\n",
    "              [-1,-1,0,-1,-1,0,100,0,-1],\n",
    "              [-1,-1,0,0,-1,0,100,-1,0],\n",
    "              [-1,-1,0,0,-1,-1,-1,0,-1]])\n",
    "print(R)"
   ]
  },
  {
   "cell_type": "markdown",
   "metadata": {},
   "source": [
    "## Matriz Q\n",
    "Inicializamos Q como una matriz de 0s del mismo tamaño que la matriz R."
   ]
  },
  {
   "cell_type": "code",
   "execution_count": 4,
   "metadata": {
    "tags": []
   },
   "outputs": [
    {
     "output_type": "stream",
     "name": "stdout",
     "text": "[[0. 0. 0. 0. 0. 0. 0. 0. 0.]\n [0. 0. 0. 0. 0. 0. 0. 0. 0.]\n [0. 0. 0. 0. 0. 0. 0. 0. 0.]\n [0. 0. 0. 0. 0. 0. 0. 0. 0.]\n [0. 0. 0. 0. 0. 0. 0. 0. 0.]\n [0. 0. 0. 0. 0. 0. 0. 0. 0.]\n [0. 0. 0. 0. 0. 0. 0. 0. 0.]\n [0. 0. 0. 0. 0. 0. 0. 0. 0.]\n [0. 0. 0. 0. 0. 0. 0. 0. 0.]]\n"
    }
   ],
   "source": [
    "Q = np.zeros((9,9))\n",
    "print(Q)"
   ]
  },
  {
   "cell_type": "markdown",
   "metadata": {},
   "source": [
    "## Parámetros\n",
    "Apartado para configurar los distintos parámetros que utilizará el algoritmo."
   ]
  },
  {
   "cell_type": "code",
   "execution_count": 5,
   "metadata": {
    "tags": []
   },
   "outputs": [
    {
     "output_type": "stream",
     "name": "stdout",
     "text": "La celda de inicio será la 0 y la celda objetivo será la 6.\nEl número de episodios será 10000 y el factor de aprendizaje gamma será de 0.8.\n"
    }
   ],
   "source": [
    "inicio = 0\n",
    "objetivo = 6\n",
    "episodios = 10000\n",
    "gamma = 0.8\n",
    "print(\"La celda de inicio será la \" + str(inicio) + \" y la celda objetivo será la \" + str(objetivo) +\".\")\n",
    "print(\"El número de episodios será \" + str(episodios) + \" y el factor de aprendizaje gamma es de \" + str(gamma) + \".\")"
   ]
  },
  {
   "cell_type": "markdown",
   "metadata": {},
   "source": [
    "## Algoritmo\n",
    "La ejecución del algoritmo."
   ]
  },
  {
   "cell_type": "code",
   "execution_count": 6,
   "metadata": {
    "tags": [
     "outputPrepend"
    ]
   },
   "outputs": [
    {
     "output_type": "stream",
     "name": "stdout",
     "text": "ista de siguientes celdas posibles es: [0, 1, 3, 4, 5, 6, 7, 8]\nSe elige aleatoriamente la celda 5.\nSe actualiza el valor de Q[2][5] a 80.0.\nActualizamos la celda actual a 5.\nLa lista de siguientes celdas posibles es: [1, 2, 4, 6, 7]\nSe elige aleatoriamente la celda 6.\nSe actualiza el valor de Q[5][6] a 100.0.\nActualizamos la celda actual a 6.\nSe alcanza la celda objetivo.\n\nEpisodio 9992: Se establece 4 como celda de inicio, y se toma como celda objetivo la 6.\nLa lista de siguientes celdas posibles es: [1, 2, 5]\nSe elige aleatoriamente la celda 5.\nSe actualiza el valor de Q[4][5] a 80.0.\nActualizamos la celda actual a 5.\nLa lista de siguientes celdas posibles es: [1, 2, 4, 6, 7]\nSe elige aleatoriamente la celda 4.\nSe actualiza el valor de Q[5][4] a 64.0.\nActualizamos la celda actual a 4.\nLa lista de siguientes celdas posibles es: [1, 2, 5]\nSe elige aleatoriamente la celda 2.\nSe actualiza el valor de Q[4][2] a 80.0.\nActualizamos la celda actual a 2.\nLa lista de siguientes celdas posibles es: [0, 1, 3, 4, 5, 6, 7, 8]\nSe elige aleatoriamente la celda 3.\nSe actualiza el valor de Q[2][3] a 64.0.\nActualizamos la celda actual a 3.\nLa lista de siguientes celdas posibles es: [0, 1, 2, 7, 8]\nSe elige aleatoriamente la celda 0.\nSe actualiza el valor de Q[3][0] a 64.0.\nActualizamos la celda actual a 0.\nLa lista de siguientes celdas posibles es: [1, 2, 3]\nSe elige aleatoriamente la celda 1.\nSe actualiza el valor de Q[0][1] a 64.0.\nActualizamos la celda actual a 1.\nLa lista de siguientes celdas posibles es: [0, 2, 3, 4, 5]\nSe elige aleatoriamente la celda 0.\nSe actualiza el valor de Q[1][0] a 64.0.\nActualizamos la celda actual a 0.\nLa lista de siguientes celdas posibles es: [1, 2, 3]\nSe elige aleatoriamente la celda 1.\nSe actualiza el valor de Q[0][1] a 64.0.\nActualizamos la celda actual a 1.\nLa lista de siguientes celdas posibles es: [0, 2, 3, 4, 5]\nSe elige aleatoriamente la celda 4.\nSe actualiza el valor de Q[1][4] a 64.0.\nActualizamos la celda actual a 4.\nLa lista de siguientes celdas posibles es: [1, 2, 5]\nSe elige aleatoriamente la celda 5.\nSe actualiza el valor de Q[4][5] a 80.0.\nActualizamos la celda actual a 5.\nLa lista de siguientes celdas posibles es: [1, 2, 4, 6, 7]\nSe elige aleatoriamente la celda 7.\nSe actualiza el valor de Q[5][7] a 80.0.\nActualizamos la celda actual a 7.\nLa lista de siguientes celdas posibles es: [2, 3, 5, 6, 8]\nSe elige aleatoriamente la celda 8.\nSe actualiza el valor de Q[7][8] a 64.0.\nActualizamos la celda actual a 8.\nLa lista de siguientes celdas posibles es: [2, 3, 7]\nSe elige aleatoriamente la celda 3.\nSe actualiza el valor de Q[8][3] a 64.0.\nActualizamos la celda actual a 3.\nLa lista de siguientes celdas posibles es: [0, 1, 2, 7, 8]\nSe elige aleatoriamente la celda 8.\nSe actualiza el valor de Q[3][8] a 64.0.\nActualizamos la celda actual a 8.\nLa lista de siguientes celdas posibles es: [2, 3, 7]\nSe elige aleatoriamente la celda 7.\nSe actualiza el valor de Q[8][7] a 80.0.\nActualizamos la celda actual a 7.\nLa lista de siguientes celdas posibles es: [2, 3, 5, 6, 8]\nSe elige aleatoriamente la celda 2.\nSe actualiza el valor de Q[7][2] a 80.0.\nActualizamos la celda actual a 2.\nLa lista de siguientes celdas posibles es: [0, 1, 3, 4, 5, 6, 7, 8]\nSe elige aleatoriamente la celda 6.\nSe actualiza el valor de Q[2][6] a 100.0.\nActualizamos la celda actual a 6.\nSe alcanza la celda objetivo.\n\nEpisodio 9993: Se establece 3 como celda de inicio, y se toma como celda objetivo la 6.\nLa lista de siguientes celdas posibles es: [0, 1, 2, 7, 8]\nSe elige aleatoriamente la celda 1.\nSe actualiza el valor de Q[3][1] a 64.0.\nActualizamos la celda actual a 1.\nLa lista de siguientes celdas posibles es: [0, 2, 3, 4, 5]\nSe elige aleatoriamente la celda 4.\nSe actualiza el valor de Q[1][4] a 64.0.\nActualizamos la celda actual a 4.\nLa lista de siguientes celdas posibles es: [1, 2, 5]\nSe elige aleatoriamente la celda 2.\nSe actualiza el valor de Q[4][2] a 80.0.\nActualizamos la celda actual a 2.\nLa lista de siguientes celdas posibles es: [0, 1, 3, 4, 5, 6, 7, 8]\nSe elige aleatoriamente la celda 6.\nSe actualiza el valor de Q[2][6] a 100.0.\nActualizamos la celda actual a 6.\nSe alcanza la celda objetivo.\n\nEpisodio 9994: Se establece 6 como celda de inicio, y se toma como celda objetivo la 6.\nSe alcanza la celda objetivo.\n\nEpisodio 9995: Se establece 7 como celda de inicio, y se toma como celda objetivo la 6.\nLa lista de siguientes celdas posibles es: [2, 3, 5, 6, 8]\nSe elige aleatoriamente la celda 3.\nSe actualiza el valor de Q[7][3] a 64.0.\nActualizamos la celda actual a 3.\nLa lista de siguientes celdas posibles es: [0, 1, 2, 7, 8]\nSe elige aleatoriamente la celda 7.\nSe actualiza el valor de Q[3][7] a 80.0.\nActualizamos la celda actual a 7.\nLa lista de siguientes celdas posibles es: [2, 3, 5, 6, 8]\nSe elige aleatoriamente la celda 3.\nSe actualiza el valor de Q[7][3] a 64.0.\nActualizamos la celda actual a 3.\nLa lista de siguientes celdas posibles es: [0, 1, 2, 7, 8]\nSe elige aleatoriamente la celda 7.\nSe actualiza el valor de Q[3][7] a 80.0.\nActualizamos la celda actual a 7.\nLa lista de siguientes celdas posibles es: [2, 3, 5, 6, 8]\nSe elige aleatoriamente la celda 3.\nSe actualiza el valor de Q[7][3] a 64.0.\nActualizamos la celda actual a 3.\nLa lista de siguientes celdas posibles es: [0, 1, 2, 7, 8]\nSe elige aleatoriamente la celda 8.\nSe actualiza el valor de Q[3][8] a 64.0.\nActualizamos la celda actual a 8.\nLa lista de siguientes celdas posibles es: [2, 3, 7]\nSe elige aleatoriamente la celda 3.\nSe actualiza el valor de Q[8][3] a 64.0.\nActualizamos la celda actual a 3.\nLa lista de siguientes celdas posibles es: [0, 1, 2, 7, 8]\nSe elige aleatoriamente la celda 7.\nSe actualiza el valor de Q[3][7] a 80.0.\nActualizamos la celda actual a 7.\nLa lista de siguientes celdas posibles es: [2, 3, 5, 6, 8]\nSe elige aleatoriamente la celda 8.\nSe actualiza el valor de Q[7][8] a 64.0.\nActualizamos la celda actual a 8.\nLa lista de siguientes celdas posibles es: [2, 3, 7]\nSe elige aleatoriamente la celda 2.\nSe actualiza el valor de Q[8][2] a 80.0.\nActualizamos la celda actual a 2.\nLa lista de siguientes celdas posibles es: [0, 1, 3, 4, 5, 6, 7, 8]\nSe elige aleatoriamente la celda 8.\nSe actualiza el valor de Q[2][8] a 64.0.\nActualizamos la celda actual a 8.\nLa lista de siguientes celdas posibles es: [2, 3, 7]\nSe elige aleatoriamente la celda 3.\nSe actualiza el valor de Q[8][3] a 64.0.\nActualizamos la celda actual a 3.\nLa lista de siguientes celdas posibles es: [0, 1, 2, 7, 8]\nSe elige aleatoriamente la celda 7.\nSe actualiza el valor de Q[3][7] a 80.0.\nActualizamos la celda actual a 7.\nLa lista de siguientes celdas posibles es: [2, 3, 5, 6, 8]\nSe elige aleatoriamente la celda 5.\nSe actualiza el valor de Q[7][5] a 80.0.\nActualizamos la celda actual a 5.\nLa lista de siguientes celdas posibles es: [1, 2, 4, 6, 7]\nSe elige aleatoriamente la celda 2.\nSe actualiza el valor de Q[5][2] a 80.0.\nActualizamos la celda actual a 2.\nLa lista de siguientes celdas posibles es: [0, 1, 3, 4, 5, 6, 7, 8]\nSe elige aleatoriamente la celda 3.\nSe actualiza el valor de Q[2][3] a 64.0.\nActualizamos la celda actual a 3.\nLa lista de siguientes celdas posibles es: [0, 1, 2, 7, 8]\nSe elige aleatoriamente la celda 8.\nSe actualiza el valor de Q[3][8] a 64.0.\nActualizamos la celda actual a 8.\nLa lista de siguientes celdas posibles es: [2, 3, 7]\nSe elige aleatoriamente la celda 7.\nSe actualiza el valor de Q[8][7] a 80.0.\nActualizamos la celda actual a 7.\nLa lista de siguientes celdas posibles es: [2, 3, 5, 6, 8]\nSe elige aleatoriamente la celda 3.\nSe actualiza el valor de Q[7][3] a 64.0.\nActualizamos la celda actual a 3.\nLa lista de siguientes celdas posibles es: [0, 1, 2, 7, 8]\nSe elige aleatoriamente la celda 7.\nSe actualiza el valor de Q[3][7] a 80.0.\nActualizamos la celda actual a 7.\nLa lista de siguientes celdas posibles es: [2, 3, 5, 6, 8]\nSe elige aleatoriamente la celda 5.\nSe actualiza el valor de Q[7][5] a 80.0.\nActualizamos la celda actual a 5.\nLa lista de siguientes celdas posibles es: [1, 2, 4, 6, 7]\nSe elige aleatoriamente la celda 1.\nSe actualiza el valor de Q[5][1] a 64.0.\nActualizamos la celda actual a 1.\nLa lista de siguientes celdas posibles es: [0, 2, 3, 4, 5]\nSe elige aleatoriamente la celda 5.\nSe actualiza el valor de Q[1][5] a 80.0.\nActualizamos la celda actual a 5.\nLa lista de siguientes celdas posibles es: [1, 2, 4, 6, 7]\nSe elige aleatoriamente la celda 6.\nSe actualiza el valor de Q[5][6] a 100.0.\nActualizamos la celda actual a 6.\nSe alcanza la celda objetivo.\n\nEpisodio 9996: Se establece 8 como celda de inicio, y se toma como celda objetivo la 6.\nLa lista de siguientes celdas posibles es: [2, 3, 7]\nSe elige aleatoriamente la celda 7.\nSe actualiza el valor de Q[8][7] a 80.0.\nActualizamos la celda actual a 7.\nLa lista de siguientes celdas posibles es: [2, 3, 5, 6, 8]\nSe elige aleatoriamente la celda 5.\nSe actualiza el valor de Q[7][5] a 80.0.\nActualizamos la celda actual a 5.\nLa lista de siguientes celdas posibles es: [1, 2, 4, 6, 7]\nSe elige aleatoriamente la celda 1.\nSe actualiza el valor de Q[5][1] a 64.0.\nActualizamos la celda actual a 1.\nLa lista de siguientes celdas posibles es: [0, 2, 3, 4, 5]\nSe elige aleatoriamente la celda 4.\nSe actualiza el valor de Q[1][4] a 64.0.\nActualizamos la celda actual a 4.\nLa lista de siguientes celdas posibles es: [1, 2, 5]\nSe elige aleatoriamente la celda 2.\nSe actualiza el valor de Q[4][2] a 80.0.\nActualizamos la celda actual a 2.\nLa lista de siguientes celdas posibles es: [0, 1, 3, 4, 5, 6, 7, 8]\nSe elige aleatoriamente la celda 1.\nSe actualiza el valor de Q[2][1] a 64.0.\nActualizamos la celda actual a 1.\nLa lista de siguientes celdas posibles es: [0, 2, 3, 4, 5]\nSe elige aleatoriamente la celda 3.\nSe actualiza el valor de Q[1][3] a 64.0.\nActualizamos la celda actual a 3.\nLa lista de siguientes celdas posibles es: [0, 1, 2, 7, 8]\nSe elige aleatoriamente la celda 0.\nSe actualiza el valor de Q[3][0] a 64.0.\nActualizamos la celda actual a 0.\nLa lista de siguientes celdas posibles es: [1, 2, 3]\nSe elige aleatoriamente la celda 3.\nSe actualiza el valor de Q[0][3] a 64.0.\nActualizamos la celda actual a 3.\nLa lista de siguientes celdas posibles es: [0, 1, 2, 7, 8]\nSe elige aleatoriamente la celda 2.\nSe actualiza el valor de Q[3][2] a 80.0.\nActualizamos la celda actual a 2.\nLa lista de siguientes celdas posibles es: [0, 1, 3, 4, 5, 6, 7, 8]\nSe elige aleatoriamente la celda 7.\nSe actualiza el valor de Q[2][7] a 80.0.\nActualizamos la celda actual a 7.\nLa lista de siguientes celdas posibles es: [2, 3, 5, 6, 8]\nSe elige aleatoriamente la celda 8.\nSe actualiza el valor de Q[7][8] a 64.0.\nActualizamos la celda actual a 8.\nLa lista de siguientes celdas posibles es: [2, 3, 7]\nSe elige aleatoriamente la celda 7.\nSe actualiza el valor de Q[8][7] a 80.0.\nActualizamos la celda actual a 7.\nLa lista de siguientes celdas posibles es: [2, 3, 5, 6, 8]\nSe elige aleatoriamente la celda 6.\nSe actualiza el valor de Q[7][6] a 100.0.\nActualizamos la celda actual a 6.\nSe alcanza la celda objetivo.\n\nEpisodio 9997: Se establece 3 como celda de inicio, y se toma como celda objetivo la 6.\nLa lista de siguientes celdas posibles es: [0, 1, 2, 7, 8]\nSe elige aleatoriamente la celda 8.\nSe actualiza el valor de Q[3][8] a 64.0.\nActualizamos la celda actual a 8.\nLa lista de siguientes celdas posibles es: [2, 3, 7]\nSe elige aleatoriamente la celda 2.\nSe actualiza el valor de Q[8][2] a 80.0.\nActualizamos la celda actual a 2.\nLa lista de siguientes celdas posibles es: [0, 1, 3, 4, 5, 6, 7, 8]\nSe elige aleatoriamente la celda 4.\nSe actualiza el valor de Q[2][4] a 64.0.\nActualizamos la celda actual a 4.\nLa lista de siguientes celdas posibles es: [1, 2, 5]\nSe elige aleatoriamente la celda 5.\nSe actualiza el valor de Q[4][5] a 80.0.\nActualizamos la celda actual a 5.\nLa lista de siguientes celdas posibles es: [1, 2, 4, 6, 7]\nSe elige aleatoriamente la celda 2.\nSe actualiza el valor de Q[5][2] a 80.0.\nActualizamos la celda actual a 2.\nLa lista de siguientes celdas posibles es: [0, 1, 3, 4, 5, 6, 7, 8]\nSe elige aleatoriamente la celda 6.\nSe actualiza el valor de Q[2][6] a 100.0.\nActualizamos la celda actual a 6.\nSe alcanza la celda objetivo.\n\nEpisodio 9998: Se establece 0 como celda de inicio, y se toma como celda objetivo la 6.\nLa lista de siguientes celdas posibles es: [1, 2, 3]\nSe elige aleatoriamente la celda 3.\nSe actualiza el valor de Q[0][3] a 64.0.\nActualizamos la celda actual a 3.\nLa lista de siguientes celdas posibles es: [0, 1, 2, 7, 8]\nSe elige aleatoriamente la celda 2.\nSe actualiza el valor de Q[3][2] a 80.0.\nActualizamos la celda actual a 2.\nLa lista de siguientes celdas posibles es: [0, 1, 3, 4, 5, 6, 7, 8]\nSe elige aleatoriamente la celda 5.\nSe actualiza el valor de Q[2][5] a 80.0.\nActualizamos la celda actual a 5.\nLa lista de siguientes celdas posibles es: [1, 2, 4, 6, 7]\nSe elige aleatoriamente la celda 1.\nSe actualiza el valor de Q[5][1] a 64.0.\nActualizamos la celda actual a 1.\nLa lista de siguientes celdas posibles es: [0, 2, 3, 4, 5]\nSe elige aleatoriamente la celda 4.\nSe actualiza el valor de Q[1][4] a 64.0.\nActualizamos la celda actual a 4.\nLa lista de siguientes celdas posibles es: [1, 2, 5]\nSe elige aleatoriamente la celda 5.\nSe actualiza el valor de Q[4][5] a 80.0.\nActualizamos la celda actual a 5.\nLa lista de siguientes celdas posibles es: [1, 2, 4, 6, 7]\nSe elige aleatoriamente la celda 2.\nSe actualiza el valor de Q[5][2] a 80.0.\nActualizamos la celda actual a 2.\nLa lista de siguientes celdas posibles es: [0, 1, 3, 4, 5, 6, 7, 8]\nSe elige aleatoriamente la celda 6.\nSe actualiza el valor de Q[2][6] a 100.0.\nActualizamos la celda actual a 6.\nSe alcanza la celda objetivo.\n\nEpisodio 9999: Se establece 6 como celda de inicio, y se toma como celda objetivo la 6.\nSe alcanza la celda objetivo.\n\nEpisodio 10000: Se establece 0 como celda de inicio, y se toma como celda objetivo la 6.\nLa lista de siguientes celdas posibles es: [1, 2, 3]\nSe elige aleatoriamente la celda 2.\nSe actualiza el valor de Q[0][2] a 80.0.\nActualizamos la celda actual a 2.\nLa lista de siguientes celdas posibles es: [0, 1, 3, 4, 5, 6, 7, 8]\nSe elige aleatoriamente la celda 4.\nSe actualiza el valor de Q[2][4] a 64.0.\nActualizamos la celda actual a 4.\nLa lista de siguientes celdas posibles es: [1, 2, 5]\nSe elige aleatoriamente la celda 2.\nSe actualiza el valor de Q[4][2] a 80.0.\nActualizamos la celda actual a 2.\nLa lista de siguientes celdas posibles es: [0, 1, 3, 4, 5, 6, 7, 8]\nSe elige aleatoriamente la celda 1.\nSe actualiza el valor de Q[2][1] a 64.0.\nActualizamos la celda actual a 1.\nLa lista de siguientes celdas posibles es: [0, 2, 3, 4, 5]\nSe elige aleatoriamente la celda 3.\nSe actualiza el valor de Q[1][3] a 64.0.\nActualizamos la celda actual a 3.\nLa lista de siguientes celdas posibles es: [0, 1, 2, 7, 8]\nSe elige aleatoriamente la celda 2.\nSe actualiza el valor de Q[3][2] a 80.0.\nActualizamos la celda actual a 2.\nLa lista de siguientes celdas posibles es: [0, 1, 3, 4, 5, 6, 7, 8]\nSe elige aleatoriamente la celda 7.\nSe actualiza el valor de Q[2][7] a 80.0.\nActualizamos la celda actual a 7.\nLa lista de siguientes celdas posibles es: [2, 3, 5, 6, 8]\nSe elige aleatoriamente la celda 8.\nSe actualiza el valor de Q[7][8] a 64.0.\nActualizamos la celda actual a 8.\nLa lista de siguientes celdas posibles es: [2, 3, 7]\nSe elige aleatoriamente la celda 2.\nSe actualiza el valor de Q[8][2] a 80.0.\nActualizamos la celda actual a 2.\nLa lista de siguientes celdas posibles es: [0, 1, 3, 4, 5, 6, 7, 8]\nSe elige aleatoriamente la celda 4.\nSe actualiza el valor de Q[2][4] a 64.0.\nActualizamos la celda actual a 4.\nLa lista de siguientes celdas posibles es: [1, 2, 5]\nSe elige aleatoriamente la celda 2.\nSe actualiza el valor de Q[4][2] a 80.0.\nActualizamos la celda actual a 2.\nLa lista de siguientes celdas posibles es: [0, 1, 3, 4, 5, 6, 7, 8]\nSe elige aleatoriamente la celda 0.\nSe actualiza el valor de Q[2][0] a 64.0.\nActualizamos la celda actual a 0.\nLa lista de siguientes celdas posibles es: [1, 2, 3]\nSe elige aleatoriamente la celda 3.\nSe actualiza el valor de Q[0][3] a 64.0.\nActualizamos la celda actual a 3.\nLa lista de siguientes celdas posibles es: [0, 1, 2, 7, 8]\nSe elige aleatoriamente la celda 0.\nSe actualiza el valor de Q[3][0] a 64.0.\nActualizamos la celda actual a 0.\nLa lista de siguientes celdas posibles es: [1, 2, 3]\nSe elige aleatoriamente la celda 2.\nSe actualiza el valor de Q[0][2] a 80.0.\nActualizamos la celda actual a 2.\nLa lista de siguientes celdas posibles es: [0, 1, 3, 4, 5, 6, 7, 8]\nSe elige aleatoriamente la celda 5.\nSe actualiza el valor de Q[2][5] a 80.0.\nActualizamos la celda actual a 5.\nLa lista de siguientes celdas posibles es: [1, 2, 4, 6, 7]\nSe elige aleatoriamente la celda 1.\nSe actualiza el valor de Q[5][1] a 64.0.\nActualizamos la celda actual a 1.\nLa lista de siguientes celdas posibles es: [0, 2, 3, 4, 5]\nSe elige aleatoriamente la celda 3.\nSe actualiza el valor de Q[1][3] a 64.0.\nActualizamos la celda actual a 3.\nLa lista de siguientes celdas posibles es: [0, 1, 2, 7, 8]\nSe elige aleatoriamente la celda 0.\nSe actualiza el valor de Q[3][0] a 64.0.\nActualizamos la celda actual a 0.\nLa lista de siguientes celdas posibles es: [1, 2, 3]\nSe elige aleatoriamente la celda 2.\nSe actualiza el valor de Q[0][2] a 80.0.\nActualizamos la celda actual a 2.\nLa lista de siguientes celdas posibles es: [0, 1, 3, 4, 5, 6, 7, 8]\nSe elige aleatoriamente la celda 1.\nSe actualiza el valor de Q[2][1] a 64.0.\nActualizamos la celda actual a 1.\nLa lista de siguientes celdas posibles es: [0, 2, 3, 4, 5]\nSe elige aleatoriamente la celda 3.\nSe actualiza el valor de Q[1][3] a 64.0.\nActualizamos la celda actual a 3.\nLa lista de siguientes celdas posibles es: [0, 1, 2, 7, 8]\nSe elige aleatoriamente la celda 7.\nSe actualiza el valor de Q[3][7] a 80.0.\nActualizamos la celda actual a 7.\nLa lista de siguientes celdas posibles es: [2, 3, 5, 6, 8]\nSe elige aleatoriamente la celda 5.\nSe actualiza el valor de Q[7][5] a 80.0.\nActualizamos la celda actual a 5.\nLa lista de siguientes celdas posibles es: [1, 2, 4, 6, 7]\nSe elige aleatoriamente la celda 7.\nSe actualiza el valor de Q[5][7] a 80.0.\nActualizamos la celda actual a 7.\nLa lista de siguientes celdas posibles es: [2, 3, 5, 6, 8]\nSe elige aleatoriamente la celda 2.\nSe actualiza el valor de Q[7][2] a 80.0.\nActualizamos la celda actual a 2.\nLa lista de siguientes celdas posibles es: [0, 1, 3, 4, 5, 6, 7, 8]\nSe elige aleatoriamente la celda 5.\nSe actualiza el valor de Q[2][5] a 80.0.\nActualizamos la celda actual a 5.\nLa lista de siguientes celdas posibles es: [1, 2, 4, 6, 7]\nSe elige aleatoriamente la celda 7.\nSe actualiza el valor de Q[5][7] a 80.0.\nActualizamos la celda actual a 7.\nLa lista de siguientes celdas posibles es: [2, 3, 5, 6, 8]\nSe elige aleatoriamente la celda 3.\nSe actualiza el valor de Q[7][3] a 64.0.\nActualizamos la celda actual a 3.\nLa lista de siguientes celdas posibles es: [0, 1, 2, 7, 8]\nSe elige aleatoriamente la celda 2.\nSe actualiza el valor de Q[3][2] a 80.0.\nActualizamos la celda actual a 2.\nLa lista de siguientes celdas posibles es: [0, 1, 3, 4, 5, 6, 7, 8]\nSe elige aleatoriamente la celda 1.\nSe actualiza el valor de Q[2][1] a 64.0.\nActualizamos la celda actual a 1.\nLa lista de siguientes celdas posibles es: [0, 2, 3, 4, 5]\nSe elige aleatoriamente la celda 0.\nSe actualiza el valor de Q[1][0] a 64.0.\nActualizamos la celda actual a 0.\nLa lista de siguientes celdas posibles es: [1, 2, 3]\nSe elige aleatoriamente la celda 1.\nSe actualiza el valor de Q[0][1] a 64.0.\nActualizamos la celda actual a 1.\nLa lista de siguientes celdas posibles es: [0, 2, 3, 4, 5]\nSe elige aleatoriamente la celda 4.\nSe actualiza el valor de Q[1][4] a 64.0.\nActualizamos la celda actual a 4.\nLa lista de siguientes celdas posibles es: [1, 2, 5]\nSe elige aleatoriamente la celda 2.\nSe actualiza el valor de Q[4][2] a 80.0.\nActualizamos la celda actual a 2.\nLa lista de siguientes celdas posibles es: [0, 1, 3, 4, 5, 6, 7, 8]\nSe elige aleatoriamente la celda 6.\nSe actualiza el valor de Q[2][6] a 100.0.\nActualizamos la celda actual a 6.\nSe alcanza la celda objetivo.\n"
    }
   ],
   "source": [
    "rango = range(episodios)\n",
    "\n",
    "for x in rango:\n",
    "    inicio = randint(0, 8)\n",
    "    print(\"\\nEpisodio \" + str(x+1) + \": Se establece \" + str(inicio) + \" como celda de inicio, y se toma como celda objetivo la \" + str(objetivo) + \".\")\n",
    "    actual = inicio\n",
    "    while actual != objetivo:\n",
    "        posibles = []\n",
    "        for y in range(9):\n",
    "            if R[actual][y] == 0 or R[actual][y] == 100:\n",
    "                posibles.append(y)\n",
    "        print(\"La lista de siguientes celdas posibles es: \" + str(posibles))\n",
    "        aleatorioPosibles = randint(0,int(len(posibles)-1))\n",
    "        aleatorio = posibles[aleatorioPosibles]\n",
    "        print(\"Se elige aleatoriamente la celda \" + str(aleatorio) + \".\")\n",
    "        supuestos = []\n",
    "        for z in range(9):\n",
    "            if R[aleatorio][z] == 0 or R[aleatorio][z] == 100:\n",
    "                calculo = Q[aleatorio][z]\n",
    "                supuestos.append(calculo)\n",
    "        maximoSupuestos = max(supuestos)\n",
    "        Q[actual][aleatorio] = R[actual][aleatorio] + gamma * maximoSupuestos\n",
    "        print(\"Se actualiza el valor de Q[\" + str(actual) + \"]\" + \"[\" + str(aleatorio) + \"] a \" + str(Q[actual][aleatorio]) + \".\" )\n",
    "        actual = aleatorio\n",
    "        print(\"Actualizamos la celda actual a \" + str(actual) + \".\")\n",
    "    print(\"Se alcanza la celda objetivo.\")"
   ]
  },
  {
   "cell_type": "markdown",
   "metadata": {},
   "source": [
    "## Matriz Q resultante\n",
    "Así queda la matriz Q después de completar todos los episodios."
   ]
  },
  {
   "cell_type": "code",
   "execution_count": 7,
   "metadata": {
    "tags": []
   },
   "outputs": [
    {
     "output_type": "stream",
     "name": "stdout",
     "text": "[[  0.  64.  80.  64.   0.   0.   0.   0.   0.]\n [ 64.   0.  80.  64.  64.  80.   0.   0.   0.]\n [ 64.  64.   0.  64.  64.  80. 100.  80.  64.]\n [ 64.  64.  80.   0.   0.   0.   0.  80.  64.]\n [  0.  64.  80.   0.   0.  80.   0.   0.   0.]\n [  0.  64.  80.   0.  64.   0. 100.  80.   0.]\n [  0.   0.   0.   0.   0.   0.   0.   0.   0.]\n [  0.   0.  80.  64.   0.  80. 100.   0.  64.]\n [  0.   0.  80.  64.   0.   0.   0.  80.   0.]]\n"
    }
   ],
   "source": [
    "print(Q)"
   ]
  },
  {
   "cell_type": "markdown",
   "metadata": {},
   "source": [
    "## Comprobante\n",
    "Se comprueba que una vez entrenada la matriz Q el agente encuentra el mejor camino, que, por ejemplo partiendo de 0 debería ser 0, 2, 6."
   ]
  },
  {
   "cell_type": "code",
   "execution_count": 8,
   "metadata": {
    "tags": []
   },
   "outputs": [
    {
     "output_type": "stream",
     "name": "stdout",
     "text": "[0, 2, 6]\n"
    }
   ],
   "source": [
    "inicio = 0\n",
    "objetivo = 6\n",
    "camino = []\n",
    "camino.append(inicio)\n",
    "actual = inicio\n",
    "while actual != objetivo:\n",
    "    siguiente = np.argmax(Q[actual])\n",
    "    camino.append(siguiente)\n",
    "    actual = siguiente\n",
    "print(camino)\n"
   ]
  }
 ],
 "metadata": {
  "language_info": {
   "codemirror_mode": {
    "name": "ipython",
    "version": 3
   },
   "file_extension": ".py",
   "mimetype": "text/x-python",
   "name": "python",
   "nbconvert_exporter": "python",
   "pygments_lexer": "ipython3",
   "version": "3.8.2-final"
  },
  "orig_nbformat": 2,
  "kernelspec": {
   "name": "python38264bitc4c343130ed4464485181525644477d7",
   "display_name": "Python 3.8.2 64-bit"
  }
 },
 "nbformat": 4,
 "nbformat_minor": 2
}