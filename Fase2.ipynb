{
 "cells": [
  {
   "cell_type": "markdown",
   "metadata": {},
   "source": [
    "### Importaciones\n",
    "Necesarias para el correcto funcionamiento del proyecto."
   ]
  },
  {
   "cell_type": "code",
   "execution_count": 209,
   "metadata": {},
   "outputs": [],
   "source": [
    "import numpy as np\n",
    "import random\n",
    "from random import randint"
   ]
  },
  {
   "cell_type": "markdown",
   "metadata": {},
   "source": [
    "# Aprendizaje por Refuerzo\n",
    "## Tablero\n",
    "Definimos el tablero por defecto a utilizar, que en un futuro será configurable."
   ]
  },
  {
   "cell_type": "code",
   "execution_count": 210,
   "metadata": {
    "tags": []
   },
   "outputs": [
    {
     "output_type": "stream",
     "name": "stdout",
     "text": "[[8 7 6]\n [3 2 5]\n [0 1 4]]\n"
    }
   ],
   "source": [
    "T = np.array([[8,7,6],\n",
    "              [3,2,5],\n",
    "              [0,1,4]])\n",
    "print(T)"
   ]
  },
  {
   "cell_type": "markdown",
   "metadata": {},
   "source": [
    "## Matriz R\n",
    "Definimos la matriz R calculada a partir de los posibles movimientos del tablero."
   ]
  },
  {
   "cell_type": "code",
   "execution_count": 211,
   "metadata": {
    "tags": []
   },
   "outputs": [
    {
     "output_type": "stream",
     "name": "stdout",
     "text": "[[ -1   0   0   0  -1  -1  -1  -1  -1]\n [  0  -1   0   0   0   0  -1  -1  -1]\n [  0   0  -1   0   0   0 100   0   0]\n [  0   0   0  -1  -1  -1  -1   0   0]\n [ -1   0   0  -1  -1   0  -1  -1  -1]\n [ -1   0   0  -1   0  -1 100   0  -1]\n [ -1  -1   0  -1  -1   0 100   0  -1]\n [ -1  -1   0   0  -1   0 100  -1   0]\n [ -1  -1   0   0  -1  -1  -1   0  -1]]\n"
    }
   ],
   "source": [
    "R = np.array([[-1,0,0,0,-1,-1,-1,-1,-1],\n",
    "              [0,-1,0,0,0,0,-1,-1,-1],\n",
    "              [0,0,-1,0,0,0,100,0,0],\n",
    "              [0,0,0,-1,-1,-1,-1,0,0],\n",
    "              [-1,0,0,-1,-1,0,-1,-1,-1],\n",
    "              [-1,0,0,-1,0,-1,100,0,-1],\n",
    "              [-1,-1,0,-1,-1,0,100,0,-1],\n",
    "              [-1,-1,0,0,-1,0,100,-1,0],\n",
    "              [-1,-1,0,0,-1,-1,-1,0,-1]])\n",
    "print(R)"
   ]
  },
  {
   "cell_type": "markdown",
   "metadata": {},
   "source": [
    "## Matriz Q\n",
    "Inicializamos Q como una matriz de 0s del mismo tamaño que la matriz R."
   ]
  },
  {
   "cell_type": "code",
   "execution_count": 212,
   "metadata": {
    "tags": []
   },
   "outputs": [
    {
     "output_type": "stream",
     "name": "stdout",
     "text": "[[0. 0. 0. 0. 0. 0. 0. 0. 0.]\n [0. 0. 0. 0. 0. 0. 0. 0. 0.]\n [0. 0. 0. 0. 0. 0. 0. 0. 0.]\n [0. 0. 0. 0. 0. 0. 0. 0. 0.]\n [0. 0. 0. 0. 0. 0. 0. 0. 0.]\n [0. 0. 0. 0. 0. 0. 0. 0. 0.]\n [0. 0. 0. 0. 0. 0. 0. 0. 0.]\n [0. 0. 0. 0. 0. 0. 0. 0. 0.]\n [0. 0. 0. 0. 0. 0. 0. 0. 0.]]\n"
    }
   ],
   "source": [
    "Q = np.zeros((9,9))\n",
    "print(Q)"
   ]
  },
  {
   "cell_type": "markdown",
   "metadata": {},
   "source": [
    "## Parámetros\n",
    "Apartado para configurar los distintos parámetros que utilizará el algoritmo."
   ]
  },
  {
   "cell_type": "code",
   "execution_count": 213,
   "metadata": {
    "tags": []
   },
   "outputs": [
    {
     "output_type": "stream",
     "name": "stdout",
     "text": "La celda de inicio será la 0 y la celda objetivo será la 6.\nEl número de episodios será 100 y el factor de aprendizaje gamma es de 0.8.\nEl valor de épsilon es 1 y el de alpha es 0.99.\n"
    }
   ],
   "source": [
    "inicio = 0\n",
    "objetivo = 6\n",
    "episodios = 10000\n",
    "gamma = 0.8\n",
    "epsilon = 1\n",
    "alpha = 0.75\n",
    "print(\"La celda de inicio será la \" + str(inicio) + \" y la celda objetivo será la \" + str(objetivo) +\".\")\n",
    "print(\"El número de episodios será \" + str(episodios) + \" y el factor de aprendizaje gamma es de \" + str(gamma) + \".\")\n",
    "print(\"El valor de épsilon es \" + str(epsilon) + \" y el de alpha es \" + str(alpha) + \".\")"
   ]
  },
  {
   "cell_type": "markdown",
   "metadata": {},
   "source": [
    "## Algoritmo\n",
    "La ejecución del algoritmo."
   ]
  },
  {
   "cell_type": "code",
   "execution_count": 214,
   "metadata": {
    "tags": [
     "outputPrepend"
    ]
   },
   "outputs": [
    {
     "output_type": "stream",
     "name": "stdout",
     "text": "s menor que épsilon, el siguiente estado se elige al azar: 2.\nSe actualiza el valor de Q[3][2] a 80.0.\nActualizamos la celda actual a 2.\nLa lista de siguientes celdas posibles es: [0, 1, 3, 4, 5, 6, 7, 8]\nEl número generado aleatoriamente es mayor o igual que épsilon, se elige el siguiente estado con más valor entre los posibles: 6.\nSe actualiza el valor de Q[2][6] a 100.0.\nActualizamos la celda actual a 6.\nSe actualiza el valor de épsilon a 0.4612219674180955.\nSe alcanza la celda objetivo.\n\nEpisodio 78: Se establece 4 como celda de inicio, y se toma como celda objetivo la 6.\nLa lista de siguientes celdas posibles es: [1, 2, 5]\nEl número generado aleatoriamente es menor que épsilon, el siguiente estado se elige al azar: 1.\nSe actualiza el valor de Q[4][1] a 64.0.\nActualizamos la celda actual a 1.\nLa lista de siguientes celdas posibles es: [0, 2, 3, 4, 5]\nEl número generado aleatoriamente es menor que épsilon, el siguiente estado se elige al azar: 3.\nSe actualiza el valor de Q[1][3] a 64.0.\nActualizamos la celda actual a 3.\nLa lista de siguientes celdas posibles es: [0, 1, 2, 7, 8]\nEl número generado aleatoriamente es mayor o igual que épsilon, se elige el siguiente estado con más valor entre los posibles: 2.\nSe actualiza el valor de Q[3][2] a 80.0.\nActualizamos la celda actual a 2.\nLa lista de siguientes celdas posibles es: [0, 1, 3, 4, 5, 6, 7, 8]\nEl número generado aleatoriamente es mayor o igual que épsilon, se elige el siguiente estado con más valor entre los posibles: 6.\nSe actualiza el valor de Q[2][6] a 100.0.\nActualizamos la celda actual a 6.\nSe actualiza el valor de épsilon a 0.45660974774391455.\nSe alcanza la celda objetivo.\n\nEpisodio 79: Se establece 1 como celda de inicio, y se toma como celda objetivo la 6.\nLa lista de siguientes celdas posibles es: [0, 2, 3, 4, 5]\nEl número generado aleatoriamente es mayor o igual que épsilon, se elige el siguiente estado con más valor entre los posibles: 2.\nSe actualiza el valor de Q[1][2] a 80.0.\nActualizamos la celda actual a 2.\nLa lista de siguientes celdas posibles es: [0, 1, 3, 4, 5, 6, 7, 8]\nEl número generado aleatoriamente es mayor o igual que épsilon, se elige el siguiente estado con más valor entre los posibles: 6.\nSe actualiza el valor de Q[2][6] a 100.0.\nActualizamos la celda actual a 6.\nSe actualiza el valor de épsilon a 0.4520436502664754.\nSe alcanza la celda objetivo.\n\nEpisodio 80: Se establece 6 como celda de inicio, y se toma como celda objetivo la 6.\nSe actualiza el valor de épsilon a 0.44752321376381066.\nSe alcanza la celda objetivo.\n\nEpisodio 81: Se establece 3 como celda de inicio, y se toma como celda objetivo la 6.\nLa lista de siguientes celdas posibles es: [0, 1, 2, 7, 8]\nEl número generado aleatoriamente es mayor o igual que épsilon, se elige el siguiente estado con más valor entre los posibles: 2.\nSe actualiza el valor de Q[3][2] a 80.0.\nActualizamos la celda actual a 2.\nLa lista de siguientes celdas posibles es: [0, 1, 3, 4, 5, 6, 7, 8]\nEl número generado aleatoriamente es mayor o igual que épsilon, se elige el siguiente estado con más valor entre los posibles: 6.\nSe actualiza el valor de Q[2][6] a 100.0.\nActualizamos la celda actual a 6.\nSe actualiza el valor de épsilon a 0.44304798162617254.\nSe alcanza la celda objetivo.\n\nEpisodio 82: Se establece 3 como celda de inicio, y se toma como celda objetivo la 6.\nLa lista de siguientes celdas posibles es: [0, 1, 2, 7, 8]\nEl número generado aleatoriamente es menor que épsilon, el siguiente estado se elige al azar: 2.\nSe actualiza el valor de Q[3][2] a 80.0.\nActualizamos la celda actual a 2.\nLa lista de siguientes celdas posibles es: [0, 1, 3, 4, 5, 6, 7, 8]\nEl número generado aleatoriamente es mayor o igual que épsilon, se elige el siguiente estado con más valor entre los posibles: 6.\nSe actualiza el valor de Q[2][6] a 100.0.\nActualizamos la celda actual a 6.\nSe actualiza el valor de épsilon a 0.4386175018099108.\nSe alcanza la celda objetivo.\n\nEpisodio 83: Se establece 8 como celda de inicio, y se toma como celda objetivo la 6.\nLa lista de siguientes celdas posibles es: [2, 3, 7]\nEl número generado aleatoriamente es menor que épsilon, el siguiente estado se elige al azar: 3.\nSe actualiza el valor de Q[8][3] a 64.0.\nActualizamos la celda actual a 3.\nLa lista de siguientes celdas posibles es: [0, 1, 2, 7, 8]\nEl número generado aleatoriamente es mayor o igual que épsilon, se elige el siguiente estado con más valor entre los posibles: 2.\nSe actualiza el valor de Q[3][2] a 80.0.\nActualizamos la celda actual a 2.\nLa lista de siguientes celdas posibles es: [0, 1, 3, 4, 5, 6, 7, 8]\nEl número generado aleatoriamente es mayor o igual que épsilon, se elige el siguiente estado con más valor entre los posibles: 6.\nSe actualiza el valor de Q[2][6] a 100.0.\nActualizamos la celda actual a 6.\nSe actualiza el valor de épsilon a 0.4342313267918117.\nSe alcanza la celda objetivo.\n\nEpisodio 84: Se establece 6 como celda de inicio, y se toma como celda objetivo la 6.\nSe actualiza el valor de épsilon a 0.4298890135238936.\nSe alcanza la celda objetivo.\n\nEpisodio 85: Se establece 3 como celda de inicio, y se toma como celda objetivo la 6.\nLa lista de siguientes celdas posibles es: [0, 1, 2, 7, 8]\nEl número generado aleatoriamente es menor que épsilon, el siguiente estado se elige al azar: 8.\nSe actualiza el valor de Q[3][8] a 64.0.\nActualizamos la celda actual a 8.\nLa lista de siguientes celdas posibles es: [2, 3, 7]\nEl número generado aleatoriamente es menor que épsilon, el siguiente estado se elige al azar: 3.\nSe actualiza el valor de Q[8][3] a 64.0.\nActualizamos la celda actual a 3.\nLa lista de siguientes celdas posibles es: [0, 1, 2, 7, 8]\nEl número generado aleatoriamente es mayor o igual que épsilon, se elige el siguiente estado con más valor entre los posibles: 2.\nSe actualiza el valor de Q[3][2] a 80.0.\nActualizamos la celda actual a 2.\nLa lista de siguientes celdas posibles es: [0, 1, 3, 4, 5, 6, 7, 8]\nEl número generado aleatoriamente es mayor o igual que épsilon, se elige el siguiente estado con más valor entre los posibles: 6.\nSe actualiza el valor de Q[2][6] a 100.0.\nActualizamos la celda actual a 6.\nSe actualiza el valor de épsilon a 0.42559012338865465.\nSe alcanza la celda objetivo.\n\nEpisodio 86: Se establece 5 como celda de inicio, y se toma como celda objetivo la 6.\nLa lista de siguientes celdas posibles es: [1, 2, 4, 6, 7]\nEl número generado aleatoriamente es mayor o igual que épsilon, se elige el siguiente estado con más valor entre los posibles: 6.\nSe actualiza el valor de Q[5][6] a 100.0.\nActualizamos la celda actual a 6.\nSe actualiza el valor de épsilon a 0.4213342221547681.\nSe alcanza la celda objetivo.\n\nEpisodio 87: Se establece 8 como celda de inicio, y se toma como celda objetivo la 6.\nLa lista de siguientes celdas posibles es: [2, 3, 7]\nEl número generado aleatoriamente es mayor o igual que épsilon, se elige el siguiente estado con más valor entre los posibles: 2.\nSe actualiza el valor de Q[8][2] a 80.0.\nActualizamos la celda actual a 2.\nLa lista de siguientes celdas posibles es: [0, 1, 3, 4, 5, 6, 7, 8]\nEl número generado aleatoriamente es menor que épsilon, el siguiente estado se elige al azar: 7.\nSe actualiza el valor de Q[2][7] a 80.0.\nActualizamos la celda actual a 7.\nLa lista de siguientes celdas posibles es: [2, 3, 5, 6, 8]\nEl número generado aleatoriamente es mayor o igual que épsilon, se elige el siguiente estado con más valor entre los posibles: 6.\nSe actualiza el valor de Q[7][6] a 100.0.\nActualizamos la celda actual a 6.\nSe actualiza el valor de épsilon a 0.41712087993322045.\nSe alcanza la celda objetivo.\n\nEpisodio 88: Se establece 4 como celda de inicio, y se toma como celda objetivo la 6.\nLa lista de siguientes celdas posibles es: [1, 2, 5]\nEl número generado aleatoriamente es menor que épsilon, el siguiente estado se elige al azar: 1.\nSe actualiza el valor de Q[4][1] a 64.0.\nActualizamos la celda actual a 1.\nLa lista de siguientes celdas posibles es: [0, 2, 3, 4, 5]\nEl número generado aleatoriamente es mayor o igual que épsilon, se elige el siguiente estado con más valor entre los posibles: 2.\nSe actualiza el valor de Q[1][2] a 80.0.\nActualizamos la celda actual a 2.\nLa lista de siguientes celdas posibles es: [0, 1, 3, 4, 5, 6, 7, 8]\nEl número generado aleatoriamente es mayor o igual que épsilon, se elige el siguiente estado con más valor entre los posibles: 6.\nSe actualiza el valor de Q[2][6] a 100.0.\nActualizamos la celda actual a 6.\nSe actualiza el valor de épsilon a 0.41294967113388825.\nSe alcanza la celda objetivo.\n\nEpisodio 89: Se establece 0 como celda de inicio, y se toma como celda objetivo la 6.\nLa lista de siguientes celdas posibles es: [1, 2, 3]\nEl número generado aleatoriamente es menor que épsilon, el siguiente estado se elige al azar: 3.\nSe actualiza el valor de Q[0][3] a 64.0.\nActualizamos la celda actual a 3.\nLa lista de siguientes celdas posibles es: [0, 1, 2, 7, 8]\nEl número generado aleatoriamente es mayor o igual que épsilon, se elige el siguiente estado con más valor entre los posibles: 2.\nSe actualiza el valor de Q[3][2] a 80.0.\nActualizamos la celda actual a 2.\nLa lista de siguientes celdas posibles es: [0, 1, 3, 4, 5, 6, 7, 8]\nEl número generado aleatoriamente es menor que épsilon, el siguiente estado se elige al azar: 1.\nSe actualiza el valor de Q[2][1] a 64.0.\nActualizamos la celda actual a 1.\nLa lista de siguientes celdas posibles es: [0, 2, 3, 4, 5]\nEl número generado aleatoriamente es mayor o igual que épsilon, se elige el siguiente estado con más valor entre los posibles: 2.\nSe actualiza el valor de Q[1][2] a 80.0.\nActualizamos la celda actual a 2.\nLa lista de siguientes celdas posibles es: [0, 1, 3, 4, 5, 6, 7, 8]\nEl número generado aleatoriamente es menor que épsilon, el siguiente estado se elige al azar: 5.\nSe actualiza el valor de Q[2][5] a 80.0.\nActualizamos la celda actual a 5.\nLa lista de siguientes celdas posibles es: [1, 2, 4, 6, 7]\nEl número generado aleatoriamente es mayor o igual que épsilon, se elige el siguiente estado con más valor entre los posibles: 6.\nSe actualiza el valor de Q[5][6] a 100.0.\nActualizamos la celda actual a 6.\nSe actualiza el valor de épsilon a 0.40882017442254937.\nSe alcanza la celda objetivo.\n\nEpisodio 90: Se establece 4 como celda de inicio, y se toma como celda objetivo la 6.\nLa lista de siguientes celdas posibles es: [1, 2, 5]\nEl número generado aleatoriamente es mayor o igual que épsilon, se elige el siguiente estado con más valor entre los posibles: 2.\nSe actualiza el valor de Q[4][2] a 80.0.\nActualizamos la celda actual a 2.\nLa lista de siguientes celdas posibles es: [0, 1, 3, 4, 5, 6, 7, 8]\nEl número generado aleatoriamente es menor que épsilon, el siguiente estado se elige al azar: 7.\nSe actualiza el valor de Q[2][7] a 80.0.\nActualizamos la celda actual a 7.\nLa lista de siguientes celdas posibles es: [2, 3, 5, 6, 8]\nEl número generado aleatoriamente es menor que épsilon, el siguiente estado se elige al azar: 5.\nSe actualiza el valor de Q[7][5] a 80.0.\nActualizamos la celda actual a 5.\nLa lista de siguientes celdas posibles es: [1, 2, 4, 6, 7]\nEl número generado aleatoriamente es menor que épsilon, el siguiente estado se elige al azar: 4.\nSe actualiza el valor de Q[5][4] a 64.0.\nActualizamos la celda actual a 4.\nLa lista de siguientes celdas posibles es: [1, 2, 5]\nEl número generado aleatoriamente es menor que épsilon, el siguiente estado se elige al azar: 5.\nSe actualiza el valor de Q[4][5] a 80.0.\nActualizamos la celda actual a 5.\nLa lista de siguientes celdas posibles es: [1, 2, 4, 6, 7]\nEl número generado aleatoriamente es mayor o igual que épsilon, se elige el siguiente estado con más valor entre los posibles: 6.\nSe actualiza el valor de Q[5][6] a 100.0.\nActualizamos la celda actual a 6.\nSe actualiza el valor de épsilon a 0.4047319726783239.\nSe alcanza la celda objetivo.\n\nEpisodio 91: Se establece 3 como celda de inicio, y se toma como celda objetivo la 6.\nLa lista de siguientes celdas posibles es: [0, 1, 2, 7, 8]\nEl número generado aleatoriamente es menor que épsilon, el siguiente estado se elige al azar: 7.\nSe actualiza el valor de Q[3][7] a 80.0.\nActualizamos la celda actual a 7.\nLa lista de siguientes celdas posibles es: [2, 3, 5, 6, 8]\nEl número generado aleatoriamente es menor que épsilon, el siguiente estado se elige al azar: 8.\nSe actualiza el valor de Q[7][8] a 64.0.\nActualizamos la celda actual a 8.\nLa lista de siguientes celdas posibles es: [2, 3, 7]\nEl número generado aleatoriamente es menor que épsilon, el siguiente estado se elige al azar: 7.\nSe actualiza el valor de Q[8][7] a 80.0.\nActualizamos la celda actual a 7.\nLa lista de siguientes celdas posibles es: [2, 3, 5, 6, 8]\nEl número generado aleatoriamente es mayor o igual que épsilon, se elige el siguiente estado con más valor entre los posibles: 6.\nSe actualiza el valor de Q[7][6] a 100.0.\nActualizamos la celda actual a 6.\nSe actualiza el valor de épsilon a 0.40068465295154065.\nSe alcanza la celda objetivo.\n\nEpisodio 92: Se establece 0 como celda de inicio, y se toma como celda objetivo la 6.\nLa lista de siguientes celdas posibles es: [1, 2, 3]\nEl número generado aleatoriamente es menor que épsilon, el siguiente estado se elige al azar: 2.\nSe actualiza el valor de Q[0][2] a 80.0.\nActualizamos la celda actual a 2.\nLa lista de siguientes celdas posibles es: [0, 1, 3, 4, 5, 6, 7, 8]\nEl número generado aleatoriamente es menor que épsilon, el siguiente estado se elige al azar: 7.\nSe actualiza el valor de Q[2][7] a 80.0.\nActualizamos la celda actual a 7.\nLa lista de siguientes celdas posibles es: [2, 3, 5, 6, 8]\nEl número generado aleatoriamente es mayor o igual que épsilon, se elige el siguiente estado con más valor entre los posibles: 6.\nSe actualiza el valor de Q[7][6] a 100.0.\nActualizamos la celda actual a 6.\nSe actualiza el valor de épsilon a 0.39667780642202527.\nSe alcanza la celda objetivo.\n\nEpisodio 93: Se establece 5 como celda de inicio, y se toma como celda objetivo la 6.\nLa lista de siguientes celdas posibles es: [1, 2, 4, 6, 7]\nEl número generado aleatoriamente es menor que épsilon, el siguiente estado se elige al azar: 2.\nSe actualiza el valor de Q[5][2] a 80.0.\nActualizamos la celda actual a 2.\nLa lista de siguientes celdas posibles es: [0, 1, 3, 4, 5, 6, 7, 8]\nEl número generado aleatoriamente es menor que épsilon, el siguiente estado se elige al azar: 6.\nSe actualiza el valor de Q[2][6] a 100.0.\nActualizamos la celda actual a 6.\nSe actualiza el valor de épsilon a 0.392711028357805.\nSe alcanza la celda objetivo.\n\nEpisodio 94: Se establece 8 como celda de inicio, y se toma como celda objetivo la 6.\nLa lista de siguientes celdas posibles es: [2, 3, 7]\nEl número generado aleatoriamente es menor que épsilon, el siguiente estado se elige al azar: 7.\nSe actualiza el valor de Q[8][7] a 80.0.\nActualizamos la celda actual a 7.\nLa lista de siguientes celdas posibles es: [2, 3, 5, 6, 8]\nEl número generado aleatoriamente es menor que épsilon, el siguiente estado se elige al azar: 8.\nSe actualiza el valor de Q[7][8] a 64.0.\nActualizamos la celda actual a 8.\nLa lista de siguientes celdas posibles es: [2, 3, 7]\nEl número generado aleatoriamente es menor que épsilon, el siguiente estado se elige al azar: 2.\nSe actualiza el valor de Q[8][2] a 80.0.\nActualizamos la celda actual a 2.\nLa lista de siguientes celdas posibles es: [0, 1, 3, 4, 5, 6, 7, 8]\nEl número generado aleatoriamente es menor que épsilon, el siguiente estado se elige al azar: 8.\nSe actualiza el valor de Q[2][8] a 64.0.\nActualizamos la celda actual a 8.\nLa lista de siguientes celdas posibles es: [2, 3, 7]\nEl número generado aleatoriamente es mayor o igual que épsilon, se elige el siguiente estado con más valor entre los posibles: 2.\nSe actualiza el valor de Q[8][2] a 80.0.\nActualizamos la celda actual a 2.\nLa lista de siguientes celdas posibles es: [0, 1, 3, 4, 5, 6, 7, 8]\nEl número generado aleatoriamente es menor que épsilon, el siguiente estado se elige al azar: 5.\nSe actualiza el valor de Q[2][5] a 80.0.\nActualizamos la celda actual a 5.\nLa lista de siguientes celdas posibles es: [1, 2, 4, 6, 7]\nEl número generado aleatoriamente es mayor o igual que épsilon, se elige el siguiente estado con más valor entre los posibles: 6.\nSe actualiza el valor de Q[5][6] a 100.0.\nActualizamos la celda actual a 6.\nSe actualiza el valor de épsilon a 0.38878391807422696.\nSe alcanza la celda objetivo.\n\nEpisodio 95: Se establece 4 como celda de inicio, y se toma como celda objetivo la 6.\nLa lista de siguientes celdas posibles es: [1, 2, 5]\nEl número generado aleatoriamente es mayor o igual que épsilon, se elige el siguiente estado con más valor entre los posibles: 2.\nSe actualiza el valor de Q[4][2] a 80.0.\nActualizamos la celda actual a 2.\nLa lista de siguientes celdas posibles es: [0, 1, 3, 4, 5, 6, 7, 8]\nEl número generado aleatoriamente es menor que épsilon, el siguiente estado se elige al azar: 8.\nSe actualiza el valor de Q[2][8] a 64.0.\nActualizamos la celda actual a 8.\nLa lista de siguientes celdas posibles es: [2, 3, 7]\nEl número generado aleatoriamente es mayor o igual que épsilon, se elige el siguiente estado con más valor entre los posibles: 2.\nSe actualiza el valor de Q[8][2] a 80.0.\nActualizamos la celda actual a 2.\nLa lista de siguientes celdas posibles es: [0, 1, 3, 4, 5, 6, 7, 8]\nEl número generado aleatoriamente es mayor o igual que épsilon, se elige el siguiente estado con más valor entre los posibles: 6.\nSe actualiza el valor de Q[2][6] a 100.0.\nActualizamos la celda actual a 6.\nSe actualiza el valor de épsilon a 0.3848960788934847.\nSe alcanza la celda objetivo.\n\nEpisodio 96: Se establece 0 como celda de inicio, y se toma como celda objetivo la 6.\nLa lista de siguientes celdas posibles es: [1, 2, 3]\nEl número generado aleatoriamente es mayor o igual que épsilon, se elige el siguiente estado con más valor entre los posibles: 2.\nSe actualiza el valor de Q[0][2] a 80.0.\nActualizamos la celda actual a 2.\nLa lista de siguientes celdas posibles es: [0, 1, 3, 4, 5, 6, 7, 8]\nEl número generado aleatoriamente es mayor o igual que épsilon, se elige el siguiente estado con más valor entre los posibles: 6.\nSe actualiza el valor de Q[2][6] a 100.0.\nActualizamos la celda actual a 6.\nSe actualiza el valor de épsilon a 0.38104711810454983.\nSe alcanza la celda objetivo.\n\nEpisodio 97: Se establece 6 como celda de inicio, y se toma como celda objetivo la 6.\nSe actualiza el valor de épsilon a 0.37723664692350434.\nSe alcanza la celda objetivo.\n\nEpisodio 98: Se establece 7 como celda de inicio, y se toma como celda objetivo la 6.\nLa lista de siguientes celdas posibles es: [2, 3, 5, 6, 8]\nEl número generado aleatoriamente es mayor o igual que épsilon, se elige el siguiente estado con más valor entre los posibles: 6.\nSe actualiza el valor de Q[7][6] a 100.0.\nActualizamos la celda actual a 6.\nSe actualiza el valor de épsilon a 0.37346428045426927.\nSe alcanza la celda objetivo.\n\nEpisodio 99: Se establece 5 como celda de inicio, y se toma como celda objetivo la 6.\nLa lista de siguientes celdas posibles es: [1, 2, 4, 6, 7]\nEl número generado aleatoriamente es mayor o igual que épsilon, se elige el siguiente estado con más valor entre los posibles: 6.\nSe actualiza el valor de Q[5][6] a 100.0.\nActualizamos la celda actual a 6.\nSe actualiza el valor de épsilon a 0.36972963764972655.\nSe alcanza la celda objetivo.\n\nEpisodio 100: Se establece 0 como celda de inicio, y se toma como celda objetivo la 6.\nLa lista de siguientes celdas posibles es: [1, 2, 3]\nEl número generado aleatoriamente es mayor o igual que épsilon, se elige el siguiente estado con más valor entre los posibles: 2.\nSe actualiza el valor de Q[0][2] a 80.0.\nActualizamos la celda actual a 2.\nLa lista de siguientes celdas posibles es: [0, 1, 3, 4, 5, 6, 7, 8]\nEl número generado aleatoriamente es mayor o igual que épsilon, se elige el siguiente estado con más valor entre los posibles: 6.\nSe actualiza el valor de Q[2][6] a 100.0.\nActualizamos la celda actual a 6.\nSe actualiza el valor de épsilon a 0.36603234127322926.\nSe alcanza la celda objetivo.\n"
    }
   ],
   "source": [
    "rango = range(episodios)\n",
    "\n",
    "for x in rango:\n",
    "    inicio = randint(0, 8)\n",
    "    print(\"\\nEpisodio \" + str(x+1) + \": Se establece \" + str(inicio) + \" como celda de inicio, y se toma como celda objetivo la \" + str(objetivo) + \".\")\n",
    "    actual = inicio\n",
    "    while actual != objetivo:\n",
    "        posibles = []\n",
    "        for y in range(9):\n",
    "            if R[actual][y] == 0 or R[actual][y] == 100:\n",
    "                posibles.append(y)\n",
    "        print(\"La lista de siguientes celdas posibles es: \" + str(posibles))\n",
    "        ##Implementación epsilon fase 2\n",
    "        aleatorioEpsilon = random.uniform(0,1)\n",
    "        if aleatorioEpsilon < epsilon:\n",
    "            aleatorioPosibles = randint(0,int(len(posibles)-1))\n",
    "            aleatorio = posibles[aleatorioPosibles]\n",
    "            print(\"El número generado aleatoriamente es menor que épsilon, el siguiente estado se elige al azar: \" + str(aleatorio) + \".\")\n",
    "        else:\n",
    "            posiblesValor = []\n",
    "            for posible in posibles:\n",
    "                supuestosPosible = []\n",
    "                for aux in range(9):\n",
    "                    if R[posible][aux] == 0 or R[posible][aux] == 100:\n",
    "                        valor = Q[posible][aux]\n",
    "                        supuestosPosible.append(valor)\n",
    "                maximoSupuestosPosible = max(supuestosPosible)\n",
    "                posiblesValor.append(R[actual][posible] + gamma * maximoSupuestosPosible)\n",
    "            aleatorio = posibles[np.argmax(posiblesValor)]\n",
    "            print(\"El número generado aleatoriamente es mayor o igual que épsilon, se elige el siguiente estado con más valor entre los posibles: \" + str(aleatorio) + \".\")\n",
    "        ##---------------------\n",
    "        supuestos = []\n",
    "        for z in range(9):\n",
    "            if R[aleatorio][z] == 0 or R[aleatorio][z] == 100:\n",
    "                calculo = Q[aleatorio][z]\n",
    "                supuestos.append(calculo)\n",
    "        maximoSupuestos = max(supuestos)\n",
    "        Q[actual][aleatorio] = R[actual][aleatorio] + gamma * maximoSupuestos\n",
    "        print(\"Se actualiza el valor de Q[\" + str(actual) + \"]\" + \"[\" + str(aleatorio) + \"] a \" + str(Q[actual][aleatorio]) + \".\" )\n",
    "        actual = aleatorio\n",
    "        print(\"Actualizamos la celda actual a \" + str(actual) + \".\")\n",
    "    epsilon = epsilon * alpha\n",
    "    print(\"Se actualiza el valor de épsilon a \" + str(epsilon) + \".\")\n",
    "    print(\"Se alcanza la celda objetivo.\")"
   ]
  },
  {
   "cell_type": "markdown",
   "metadata": {},
   "source": [
    "## Matriz Q resultante\n",
    "Así queda la matriz Q después de completar todos los episodios."
   ]
  },
  {
   "cell_type": "code",
   "execution_count": 215,
   "metadata": {
    "tags": []
   },
   "outputs": [
    {
     "output_type": "stream",
     "name": "stdout",
     "text": "[[  0.  64.  80.  64.   0.   0.   0.   0.   0.]\n [ 64.   0.  80.  64.  64.  80.   0.   0.   0.]\n [ 64.  64.   0.  64.  64.  80. 100.  80.  64.]\n [ 64.  64.  80.   0.   0.   0.   0.  80.  64.]\n [  0.  64.  80.   0.   0.  80.   0.   0.   0.]\n [  0.  64.  80.   0.  64.   0. 100.  80.   0.]\n [  0.   0.   0.   0.   0.   0.   0.   0.   0.]\n [  0.   0.  80.  64.   0.  80. 100.   0.  64.]\n [  0.   0.  80.  64.   0.   0.   0.  80.   0.]]\n"
    }
   ],
   "source": [
    "print(Q)"
   ]
  },
  {
   "cell_type": "markdown",
   "metadata": {},
   "source": [
    "## Comprobante\n",
    "Se comprueba que una vez entrenada la matriz Q el agente encuentra el mejor camino, que, por ejemplo partiendo de 0 debería ser 0, 2, 6."
   ]
  },
  {
   "cell_type": "code",
   "execution_count": 216,
   "metadata": {
    "tags": []
   },
   "outputs": [
    {
     "output_type": "stream",
     "name": "stdout",
     "text": "[0, 2, 6]\n"
    }
   ],
   "source": [
    "inicio = 0\n",
    "objetivo = 6\n",
    "camino = []\n",
    "camino.append(inicio)\n",
    "actual = inicio\n",
    "while actual != objetivo:\n",
    "    siguiente = np.argmax(Q[actual])\n",
    "    camino.append(siguiente)\n",
    "    actual = siguiente\n",
    "print(camino)\n"
   ]
  }
 ],
 "metadata": {
  "language_info": {
   "codemirror_mode": {
    "name": "ipython",
    "version": 3
   },
   "file_extension": ".py",
   "mimetype": "text/x-python",
   "name": "python",
   "nbconvert_exporter": "python",
   "pygments_lexer": "ipython3",
   "version": "3.8.2-final"
  },
  "orig_nbformat": 2,
  "kernelspec": {
   "name": "python38264bitc4c343130ed4464485181525644477d7",
   "display_name": "Python 3.8.2 64-bit"
  }
 },
 "nbformat": 4,
 "nbformat_minor": 2
}