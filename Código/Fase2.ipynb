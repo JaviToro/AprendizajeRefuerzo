{
 "cells": [
  {
   "cell_type": "markdown",
   "metadata": {},
   "source": [
    "### Importaciones\n",
    "Necesarias para el correcto funcionamiento del proyecto."
   ]
  },
  {
   "cell_type": "code",
   "execution_count": 83,
   "metadata": {},
   "outputs": [],
   "source": [
    "import time\n",
    "import numpy as np\n",
    "import random\n",
    "from random import randint\n",
    "np.set_printoptions(threshold=sys.maxsize)"
   ]
  },
  {
   "cell_type": "markdown",
   "metadata": {},
   "source": [
    "# Aprendizaje por Refuerzo\n",
    "## Tablero\n",
    "Definimos el tablero por defecto a utilizar, en este caso será el mismo que en la Fase 1"
   ]
  },
  {
   "cell_type": "code",
   "execution_count": 86,
   "metadata": {
    "tags": []
   },
   "outputs": [
    {
     "output_type": "stream",
     "name": "stdout",
     "text": "[[8 7 6]\n [3 2 5]\n [0 1 4]]\n"
    }
   ],
   "source": [
    "T = np.array([[8,7,6],\n",
    "              [3,2,5],\n",
    "              [0,1,4]])\n",
    "print(T)"
   ]
  },
  {
   "cell_type": "markdown",
   "metadata": {},
   "source": [
    "## Matriz R\n",
    "Definimos la matriz R calculada a partir de los posibles movimientos del tablero."
   ]
  },
  {
   "cell_type": "code",
   "execution_count": 89,
   "metadata": {
    "tags": []
   },
   "outputs": [
    {
     "output_type": "stream",
     "name": "stdout",
     "text": "[[ -1   0   0   0  -1  -1  -1  -1  -1]\n [  0  -1   0   0   0   0  -1  -1  -1]\n [  0   0  -1   0   0   0 100   0   0]\n [  0   0   0  -1  -1  -1  -1   0   0]\n [ -1   0   0  -1  -1   0  -1  -1  -1]\n [ -1   0   0  -1   0  -1 100   0  -1]\n [ -1  -1   0  -1  -1   0 100   0  -1]\n [ -1  -1   0   0  -1   0 100  -1   0]\n [ -1  -1   0   0  -1  -1  -1   0  -1]]\n"
    }
   ],
   "source": [
    "R = np.array([[-1,0,0,0,-1,-1,-1,-1,-1],\n",
    "              [0,-1,0,0,0,0,-1,-1,-1],\n",
    "              [0,0,-1,0,0,0,100,0,0],\n",
    "              [0,0,0,-1,-1,-1,-1,0,0],\n",
    "              [-1,0,0,-1,-1,0,-1,-1,-1],\n",
    "              [-1,0,0,-1,0,-1,100,0,-1],\n",
    "              [-1,-1,0,-1,-1,0,100,0,-1],\n",
    "              [-1,-1,0,0,-1,0,100,-1,0],\n",
    "              [-1,-1,0,0,-1,-1,-1,0,-1]])\n",
    "print(R)"
   ]
  },
  {
   "cell_type": "markdown",
   "metadata": {},
   "source": [
    "## Matriz Q\n",
    "Inicializamos Q como una matriz de 0s del mismo tamaño que la matriz R."
   ]
  },
  {
   "cell_type": "code",
   "execution_count": 92,
   "metadata": {
    "tags": []
   },
   "outputs": [
    {
     "output_type": "stream",
     "name": "stdout",
     "text": "[[0. 0. 0. 0. 0. 0. 0. 0. 0.]\n [0. 0. 0. 0. 0. 0. 0. 0. 0.]\n [0. 0. 0. 0. 0. 0. 0. 0. 0.]\n [0. 0. 0. 0. 0. 0. 0. 0. 0.]\n [0. 0. 0. 0. 0. 0. 0. 0. 0.]\n [0. 0. 0. 0. 0. 0. 0. 0. 0.]\n [0. 0. 0. 0. 0. 0. 0. 0. 0.]\n [0. 0. 0. 0. 0. 0. 0. 0. 0.]\n [0. 0. 0. 0. 0. 0. 0. 0. 0.]]\n"
    }
   ],
   "source": [
    "Q = np.zeros((9,9))\n",
    "print(Q)"
   ]
  },
  {
   "cell_type": "markdown",
   "metadata": {},
   "source": [
    "## Parámetros\n",
    "Apartado para configurar los distintos parámetros que utilizará el algoritmo."
   ]
  },
  {
   "cell_type": "code",
   "execution_count": 95,
   "metadata": {
    "tags": []
   },
   "outputs": [
    {
     "output_type": "stream",
     "name": "stdout",
     "text": "La celda de inicio será la 0 y la celda objetivo será la 6.\nEl número de episodios será 1000 y el factor de aprendizaje gamma es de 0.9.\nEl valor de épsilon es 1 y el de alpha es 1.\n"
    }
   ],
   "source": [
    "inicio = 0\n",
    "objetivo = 6\n",
    "episodios = 1000\n",
    "gamma = 0.9\n",
    "epsilon = 1\n",
    "alpha = 1\n",
    "tamano = 9 # Número total de casillas de la matriz\n",
    "print(\"La celda de inicio será la \" + str(inicio) + \" y la celda objetivo será la \" + str(objetivo) +\".\")\n",
    "print(\"El número de episodios será \" + str(episodios) + \" y el factor de aprendizaje gamma es de \" + str(gamma) + \".\")\n",
    "print(\"El valor de épsilon es \" + str(epsilon) + \" y el de alpha es \" + str(alpha) + \".\")"
   ]
  },
  {
   "cell_type": "markdown",
   "metadata": {},
   "source": [
    "## Algoritmo\n",
    "Incluimos, en este caso, las variables epsilon y alpha"
   ]
  },
  {
   "cell_type": "code",
   "execution_count": 97,
   "metadata": {
    "tags": [
     "outputPrepend"
    ]
   },
   "outputs": [
    {
     "output_type": "stream",
     "name": "stdout",
     "text": "1] a 809.9999999999997.\nActualizamos la celda actual a 1.\nLa lista de siguientes celdas posibles es: [0, 2, 3, 4, 5]\nEl número generado aleatoriamente es menor que épsilon, el siguiente estado se elige al azar: 3.\nSe actualiza el valor de Q[1][3] a 809.9999999999997.\nActualizamos la celda actual a 3.\nLa lista de siguientes celdas posibles es: [0, 1, 2, 7, 8]\nEl número generado aleatoriamente es menor que épsilon, el siguiente estado se elige al azar: 0.\nSe actualiza el valor de Q[3][0] a 809.9999999999997.\nActualizamos la celda actual a 0.\nLa lista de siguientes celdas posibles es: [1, 2, 3]\nEl número generado aleatoriamente es menor que épsilon, el siguiente estado se elige al azar: 1.\nSe actualiza el valor de Q[0][1] a 809.9999999999997.\nActualizamos la celda actual a 1.\nLa lista de siguientes celdas posibles es: [0, 2, 3, 4, 5]\nEl número generado aleatoriamente es menor que épsilon, el siguiente estado se elige al azar: 5.\nSe actualiza el valor de Q[1][5] a 899.9999999999997.\nActualizamos la celda actual a 5.\nLa lista de siguientes celdas posibles es: [1, 2, 4, 6, 7]\nEl número generado aleatoriamente es menor que épsilon, el siguiente estado se elige al azar: 6.\nSe actualiza el valor de Q[5][6] a 999.9999999999997.\nActualizamos la celda actual a 6.\nSe actualiza el valor de épsilon a 1.\nSe alcanza la celda objetivo.\n\nEpisodio 988: Se establece 2 como celda de inicio, y se toma como celda objetivo la 6.\nLa lista de siguientes celdas posibles es: [0, 1, 3, 4, 5, 6, 7, 8]\nEl número generado aleatoriamente es menor que épsilon, el siguiente estado se elige al azar: 7.\nSe actualiza el valor de Q[2][7] a 899.9999999999997.\nActualizamos la celda actual a 7.\nLa lista de siguientes celdas posibles es: [2, 3, 5, 6, 8]\nEl número generado aleatoriamente es menor que épsilon, el siguiente estado se elige al azar: 8.\nSe actualiza el valor de Q[7][8] a 809.9999999999997.\nActualizamos la celda actual a 8.\nLa lista de siguientes celdas posibles es: [2, 3, 7]\nEl número generado aleatoriamente es menor que épsilon, el siguiente estado se elige al azar: 2.\nSe actualiza el valor de Q[8][2] a 899.9999999999997.\nActualizamos la celda actual a 2.\nLa lista de siguientes celdas posibles es: [0, 1, 3, 4, 5, 6, 7, 8]\nEl número generado aleatoriamente es menor que épsilon, el siguiente estado se elige al azar: 8.\nSe actualiza el valor de Q[2][8] a 809.9999999999997.\nActualizamos la celda actual a 8.\nLa lista de siguientes celdas posibles es: [2, 3, 7]\nEl número generado aleatoriamente es menor que épsilon, el siguiente estado se elige al azar: 2.\nSe actualiza el valor de Q[8][2] a 899.9999999999997.\nActualizamos la celda actual a 2.\nLa lista de siguientes celdas posibles es: [0, 1, 3, 4, 5, 6, 7, 8]\nEl número generado aleatoriamente es menor que épsilon, el siguiente estado se elige al azar: 5.\nSe actualiza el valor de Q[2][5] a 899.9999999999997.\nActualizamos la celda actual a 5.\nLa lista de siguientes celdas posibles es: [1, 2, 4, 6, 7]\nEl número generado aleatoriamente es menor que épsilon, el siguiente estado se elige al azar: 6.\nSe actualiza el valor de Q[5][6] a 999.9999999999997.\nActualizamos la celda actual a 6.\nSe actualiza el valor de épsilon a 1.\nSe alcanza la celda objetivo.\n\nEpisodio 989: Se establece 7 como celda de inicio, y se toma como celda objetivo la 6.\nLa lista de siguientes celdas posibles es: [2, 3, 5, 6, 8]\nEl número generado aleatoriamente es menor que épsilon, el siguiente estado se elige al azar: 5.\nSe actualiza el valor de Q[7][5] a 899.9999999999997.\nActualizamos la celda actual a 5.\nLa lista de siguientes celdas posibles es: [1, 2, 4, 6, 7]\nEl número generado aleatoriamente es menor que épsilon, el siguiente estado se elige al azar: 6.\nSe actualiza el valor de Q[5][6] a 999.9999999999997.\nActualizamos la celda actual a 6.\nSe actualiza el valor de épsilon a 1.\nSe alcanza la celda objetivo.\n\nEpisodio 990: Se establece 1 como celda de inicio, y se toma como celda objetivo la 6.\nLa lista de siguientes celdas posibles es: [0, 2, 3, 4, 5]\nEl número generado aleatoriamente es menor que épsilon, el siguiente estado se elige al azar: 4.\nSe actualiza el valor de Q[1][4] a 809.9999999999997.\nActualizamos la celda actual a 4.\nLa lista de siguientes celdas posibles es: [1, 2, 5]\nEl número generado aleatoriamente es menor que épsilon, el siguiente estado se elige al azar: 5.\nSe actualiza el valor de Q[4][5] a 899.9999999999997.\nActualizamos la celda actual a 5.\nLa lista de siguientes celdas posibles es: [1, 2, 4, 6, 7]\nEl número generado aleatoriamente es menor que épsilon, el siguiente estado se elige al azar: 6.\nSe actualiza el valor de Q[5][6] a 999.9999999999997.\nActualizamos la celda actual a 6.\nSe actualiza el valor de épsilon a 1.\nSe alcanza la celda objetivo.\n\nEpisodio 991: Se establece 6 como celda de inicio, y se toma como celda objetivo la 6.\nSe actualiza el valor de épsilon a 1.\nSe alcanza la celda objetivo.\n\nEpisodio 992: Se establece 1 como celda de inicio, y se toma como celda objetivo la 6.\nLa lista de siguientes celdas posibles es: [0, 2, 3, 4, 5]\nEl número generado aleatoriamente es menor que épsilon, el siguiente estado se elige al azar: 2.\nSe actualiza el valor de Q[1][2] a 899.9999999999997.\nActualizamos la celda actual a 2.\nLa lista de siguientes celdas posibles es: [0, 1, 3, 4, 5, 6, 7, 8]\nEl número generado aleatoriamente es menor que épsilon, el siguiente estado se elige al azar: 5.\nSe actualiza el valor de Q[2][5] a 899.9999999999997.\nActualizamos la celda actual a 5.\nLa lista de siguientes celdas posibles es: [1, 2, 4, 6, 7]\nEl número generado aleatoriamente es menor que épsilon, el siguiente estado se elige al azar: 6.\nSe actualiza el valor de Q[5][6] a 999.9999999999997.\nActualizamos la celda actual a 6.\nSe actualiza el valor de épsilon a 1.\nSe alcanza la celda objetivo.\n\nEpisodio 993: Se establece 0 como celda de inicio, y se toma como celda objetivo la 6.\nLa lista de siguientes celdas posibles es: [1, 2, 3]\nEl número generado aleatoriamente es menor que épsilon, el siguiente estado se elige al azar: 1.\nSe actualiza el valor de Q[0][1] a 809.9999999999997.\nActualizamos la celda actual a 1.\nLa lista de siguientes celdas posibles es: [0, 2, 3, 4, 5]\nEl número generado aleatoriamente es menor que épsilon, el siguiente estado se elige al azar: 3.\nSe actualiza el valor de Q[1][3] a 809.9999999999997.\nActualizamos la celda actual a 3.\nLa lista de siguientes celdas posibles es: [0, 1, 2, 7, 8]\nEl número generado aleatoriamente es menor que épsilon, el siguiente estado se elige al azar: 1.\nSe actualiza el valor de Q[3][1] a 809.9999999999997.\nActualizamos la celda actual a 1.\nLa lista de siguientes celdas posibles es: [0, 2, 3, 4, 5]\nEl número generado aleatoriamente es menor que épsilon, el siguiente estado se elige al azar: 2.\nSe actualiza el valor de Q[1][2] a 899.9999999999997.\nActualizamos la celda actual a 2.\nLa lista de siguientes celdas posibles es: [0, 1, 3, 4, 5, 6, 7, 8]\nEl número generado aleatoriamente es menor que épsilon, el siguiente estado se elige al azar: 3.\nSe actualiza el valor de Q[2][3] a 809.9999999999997.\nActualizamos la celda actual a 3.\nLa lista de siguientes celdas posibles es: [0, 1, 2, 7, 8]\nEl número generado aleatoriamente es menor que épsilon, el siguiente estado se elige al azar: 8.\nSe actualiza el valor de Q[3][8] a 809.9999999999997.\nActualizamos la celda actual a 8.\nLa lista de siguientes celdas posibles es: [2, 3, 7]\nEl número generado aleatoriamente es menor que épsilon, el siguiente estado se elige al azar: 2.\nSe actualiza el valor de Q[8][2] a 899.9999999999997.\nActualizamos la celda actual a 2.\nLa lista de siguientes celdas posibles es: [0, 1, 3, 4, 5, 6, 7, 8]\nEl número generado aleatoriamente es menor que épsilon, el siguiente estado se elige al azar: 8.\nSe actualiza el valor de Q[2][8] a 809.9999999999997.\nActualizamos la celda actual a 8.\nLa lista de siguientes celdas posibles es: [2, 3, 7]\nEl número generado aleatoriamente es menor que épsilon, el siguiente estado se elige al azar: 3.\nSe actualiza el valor de Q[8][3] a 809.9999999999997.\nActualizamos la celda actual a 3.\nLa lista de siguientes celdas posibles es: [0, 1, 2, 7, 8]\nEl número generado aleatoriamente es menor que épsilon, el siguiente estado se elige al azar: 8.\nSe actualiza el valor de Q[3][8] a 809.9999999999997.\nActualizamos la celda actual a 8.\nLa lista de siguientes celdas posibles es: [2, 3, 7]\nEl número generado aleatoriamente es menor que épsilon, el siguiente estado se elige al azar: 3.\nSe actualiza el valor de Q[8][3] a 809.9999999999997.\nActualizamos la celda actual a 3.\nLa lista de siguientes celdas posibles es: [0, 1, 2, 7, 8]\nEl número generado aleatoriamente es menor que épsilon, el siguiente estado se elige al azar: 0.\nSe actualiza el valor de Q[3][0] a 809.9999999999997.\nActualizamos la celda actual a 0.\nLa lista de siguientes celdas posibles es: [1, 2, 3]\nEl número generado aleatoriamente es menor que épsilon, el siguiente estado se elige al azar: 2.\nSe actualiza el valor de Q[0][2] a 899.9999999999997.\nActualizamos la celda actual a 2.\nLa lista de siguientes celdas posibles es: [0, 1, 3, 4, 5, 6, 7, 8]\nEl número generado aleatoriamente es menor que épsilon, el siguiente estado se elige al azar: 5.\nSe actualiza el valor de Q[2][5] a 899.9999999999997.\nActualizamos la celda actual a 5.\nLa lista de siguientes celdas posibles es: [1, 2, 4, 6, 7]\nEl número generado aleatoriamente es menor que épsilon, el siguiente estado se elige al azar: 1.\nSe actualiza el valor de Q[5][1] a 809.9999999999997.\nActualizamos la celda actual a 1.\nLa lista de siguientes celdas posibles es: [0, 2, 3, 4, 5]\nEl número generado aleatoriamente es menor que épsilon, el siguiente estado se elige al azar: 4.\nSe actualiza el valor de Q[1][4] a 809.9999999999997.\nActualizamos la celda actual a 4.\nLa lista de siguientes celdas posibles es: [1, 2, 5]\nEl número generado aleatoriamente es menor que épsilon, el siguiente estado se elige al azar: 2.\nSe actualiza el valor de Q[4][2] a 899.9999999999997.\nActualizamos la celda actual a 2.\nLa lista de siguientes celdas posibles es: [0, 1, 3, 4, 5, 6, 7, 8]\nEl número generado aleatoriamente es menor que épsilon, el siguiente estado se elige al azar: 0.\nSe actualiza el valor de Q[2][0] a 809.9999999999997.\nActualizamos la celda actual a 0.\nLa lista de siguientes celdas posibles es: [1, 2, 3]\nEl número generado aleatoriamente es menor que épsilon, el siguiente estado se elige al azar: 2.\nSe actualiza el valor de Q[0][2] a 899.9999999999997.\nActualizamos la celda actual a 2.\nLa lista de siguientes celdas posibles es: [0, 1, 3, 4, 5, 6, 7, 8]\nEl número generado aleatoriamente es menor que épsilon, el siguiente estado se elige al azar: 7.\nSe actualiza el valor de Q[2][7] a 899.9999999999997.\nActualizamos la celda actual a 7.\nLa lista de siguientes celdas posibles es: [2, 3, 5, 6, 8]\nEl número generado aleatoriamente es menor que épsilon, el siguiente estado se elige al azar: 5.\nSe actualiza el valor de Q[7][5] a 899.9999999999997.\nActualizamos la celda actual a 5.\nLa lista de siguientes celdas posibles es: [1, 2, 4, 6, 7]\nEl número generado aleatoriamente es menor que épsilon, el siguiente estado se elige al azar: 6.\nSe actualiza el valor de Q[5][6] a 999.9999999999997.\nActualizamos la celda actual a 6.\nSe actualiza el valor de épsilon a 1.\nSe alcanza la celda objetivo.\n\nEpisodio 994: Se establece 6 como celda de inicio, y se toma como celda objetivo la 6.\nSe actualiza el valor de épsilon a 1.\nSe alcanza la celda objetivo.\n\nEpisodio 995: Se establece 2 como celda de inicio, y se toma como celda objetivo la 6.\nLa lista de siguientes celdas posibles es: [0, 1, 3, 4, 5, 6, 7, 8]\nEl número generado aleatoriamente es menor que épsilon, el siguiente estado se elige al azar: 3.\nSe actualiza el valor de Q[2][3] a 809.9999999999997.\nActualizamos la celda actual a 3.\nLa lista de siguientes celdas posibles es: [0, 1, 2, 7, 8]\nEl número generado aleatoriamente es menor que épsilon, el siguiente estado se elige al azar: 8.\nSe actualiza el valor de Q[3][8] a 809.9999999999997.\nActualizamos la celda actual a 8.\nLa lista de siguientes celdas posibles es: [2, 3, 7]\nEl número generado aleatoriamente es menor que épsilon, el siguiente estado se elige al azar: 2.\nSe actualiza el valor de Q[8][2] a 899.9999999999997.\nActualizamos la celda actual a 2.\nLa lista de siguientes celdas posibles es: [0, 1, 3, 4, 5, 6, 7, 8]\nEl número generado aleatoriamente es menor que épsilon, el siguiente estado se elige al azar: 6.\nSe actualiza el valor de Q[2][6] a 999.9999999999997.\nActualizamos la celda actual a 6.\nSe actualiza el valor de épsilon a 1.\nSe alcanza la celda objetivo.\n\nEpisodio 996: Se establece 6 como celda de inicio, y se toma como celda objetivo la 6.\nSe actualiza el valor de épsilon a 1.\nSe alcanza la celda objetivo.\n\nEpisodio 997: Se establece 0 como celda de inicio, y se toma como celda objetivo la 6.\nLa lista de siguientes celdas posibles es: [1, 2, 3]\nEl número generado aleatoriamente es menor que épsilon, el siguiente estado se elige al azar: 1.\nSe actualiza el valor de Q[0][1] a 809.9999999999997.\nActualizamos la celda actual a 1.\nLa lista de siguientes celdas posibles es: [0, 2, 3, 4, 5]\nEl número generado aleatoriamente es menor que épsilon, el siguiente estado se elige al azar: 2.\nSe actualiza el valor de Q[1][2] a 899.9999999999997.\nActualizamos la celda actual a 2.\nLa lista de siguientes celdas posibles es: [0, 1, 3, 4, 5, 6, 7, 8]\nEl número generado aleatoriamente es menor que épsilon, el siguiente estado se elige al azar: 0.\nSe actualiza el valor de Q[2][0] a 809.9999999999997.\nActualizamos la celda actual a 0.\nLa lista de siguientes celdas posibles es: [1, 2, 3]\nEl número generado aleatoriamente es menor que épsilon, el siguiente estado se elige al azar: 1.\nSe actualiza el valor de Q[0][1] a 809.9999999999997.\nActualizamos la celda actual a 1.\nLa lista de siguientes celdas posibles es: [0, 2, 3, 4, 5]\nEl número generado aleatoriamente es menor que épsilon, el siguiente estado se elige al azar: 0.\nSe actualiza el valor de Q[1][0] a 809.9999999999997.\nActualizamos la celda actual a 0.\nLa lista de siguientes celdas posibles es: [1, 2, 3]\nEl número generado aleatoriamente es menor que épsilon, el siguiente estado se elige al azar: 3.\nSe actualiza el valor de Q[0][3] a 809.9999999999997.\nActualizamos la celda actual a 3.\nLa lista de siguientes celdas posibles es: [0, 1, 2, 7, 8]\nEl número generado aleatoriamente es menor que épsilon, el siguiente estado se elige al azar: 2.\nSe actualiza el valor de Q[3][2] a 899.9999999999997.\nActualizamos la celda actual a 2.\nLa lista de siguientes celdas posibles es: [0, 1, 3, 4, 5, 6, 7, 8]\nEl número generado aleatoriamente es menor que épsilon, el siguiente estado se elige al azar: 0.\nSe actualiza el valor de Q[2][0] a 809.9999999999997.\nActualizamos la celda actual a 0.\nLa lista de siguientes celdas posibles es: [1, 2, 3]\nEl número generado aleatoriamente es menor que épsilon, el siguiente estado se elige al azar: 3.\nSe actualiza el valor de Q[0][3] a 809.9999999999997.\nActualizamos la celda actual a 3.\nLa lista de siguientes celdas posibles es: [0, 1, 2, 7, 8]\nEl número generado aleatoriamente es menor que épsilon, el siguiente estado se elige al azar: 8.\nSe actualiza el valor de Q[3][8] a 809.9999999999997.\nActualizamos la celda actual a 8.\nLa lista de siguientes celdas posibles es: [2, 3, 7]\nEl número generado aleatoriamente es menor que épsilon, el siguiente estado se elige al azar: 2.\nSe actualiza el valor de Q[8][2] a 899.9999999999997.\nActualizamos la celda actual a 2.\nLa lista de siguientes celdas posibles es: [0, 1, 3, 4, 5, 6, 7, 8]\nEl número generado aleatoriamente es menor que épsilon, el siguiente estado se elige al azar: 8.\nSe actualiza el valor de Q[2][8] a 809.9999999999997.\nActualizamos la celda actual a 8.\nLa lista de siguientes celdas posibles es: [2, 3, 7]\nEl número generado aleatoriamente es menor que épsilon, el siguiente estado se elige al azar: 2.\nSe actualiza el valor de Q[8][2] a 899.9999999999997.\nActualizamos la celda actual a 2.\nLa lista de siguientes celdas posibles es: [0, 1, 3, 4, 5, 6, 7, 8]\nEl número generado aleatoriamente es menor que épsilon, el siguiente estado se elige al azar: 4.\nSe actualiza el valor de Q[2][4] a 809.9999999999997.\nActualizamos la celda actual a 4.\nLa lista de siguientes celdas posibles es: [1, 2, 5]\nEl número generado aleatoriamente es menor que épsilon, el siguiente estado se elige al azar: 1.\nSe actualiza el valor de Q[4][1] a 809.9999999999997.\nActualizamos la celda actual a 1.\nLa lista de siguientes celdas posibles es: [0, 2, 3, 4, 5]\nEl número generado aleatoriamente es menor que épsilon, el siguiente estado se elige al azar: 2.\nSe actualiza el valor de Q[1][2] a 899.9999999999997.\nActualizamos la celda actual a 2.\nLa lista de siguientes celdas posibles es: [0, 1, 3, 4, 5, 6, 7, 8]\nEl número generado aleatoriamente es menor que épsilon, el siguiente estado se elige al azar: 6.\nSe actualiza el valor de Q[2][6] a 999.9999999999997.\nActualizamos la celda actual a 6.\nSe actualiza el valor de épsilon a 1.\nSe alcanza la celda objetivo.\n\nEpisodio 998: Se establece 8 como celda de inicio, y se toma como celda objetivo la 6.\nLa lista de siguientes celdas posibles es: [2, 3, 7]\nEl número generado aleatoriamente es menor que épsilon, el siguiente estado se elige al azar: 2.\nSe actualiza el valor de Q[8][2] a 899.9999999999997.\nActualizamos la celda actual a 2.\nLa lista de siguientes celdas posibles es: [0, 1, 3, 4, 5, 6, 7, 8]\nEl número generado aleatoriamente es menor que épsilon, el siguiente estado se elige al azar: 3.\nSe actualiza el valor de Q[2][3] a 809.9999999999997.\nActualizamos la celda actual a 3.\nLa lista de siguientes celdas posibles es: [0, 1, 2, 7, 8]\nEl número generado aleatoriamente es menor que épsilon, el siguiente estado se elige al azar: 8.\nSe actualiza el valor de Q[3][8] a 809.9999999999997.\nActualizamos la celda actual a 8.\nLa lista de siguientes celdas posibles es: [2, 3, 7]\nEl número generado aleatoriamente es menor que épsilon, el siguiente estado se elige al azar: 2.\nSe actualiza el valor de Q[8][2] a 899.9999999999997.\nActualizamos la celda actual a 2.\nLa lista de siguientes celdas posibles es: [0, 1, 3, 4, 5, 6, 7, 8]\nEl número generado aleatoriamente es menor que épsilon, el siguiente estado se elige al azar: 4.\nSe actualiza el valor de Q[2][4] a 809.9999999999997.\nActualizamos la celda actual a 4.\nLa lista de siguientes celdas posibles es: [1, 2, 5]\nEl número generado aleatoriamente es menor que épsilon, el siguiente estado se elige al azar: 2.\nSe actualiza el valor de Q[4][2] a 899.9999999999997.\nActualizamos la celda actual a 2.\nLa lista de siguientes celdas posibles es: [0, 1, 3, 4, 5, 6, 7, 8]\nEl número generado aleatoriamente es menor que épsilon, el siguiente estado se elige al azar: 4.\nSe actualiza el valor de Q[2][4] a 809.9999999999997.\nActualizamos la celda actual a 4.\nLa lista de siguientes celdas posibles es: [1, 2, 5]\nEl número generado aleatoriamente es menor que épsilon, el siguiente estado se elige al azar: 5.\nSe actualiza el valor de Q[4][5] a 899.9999999999997.\nActualizamos la celda actual a 5.\nLa lista de siguientes celdas posibles es: [1, 2, 4, 6, 7]\nEl número generado aleatoriamente es menor que épsilon, el siguiente estado se elige al azar: 6.\nSe actualiza el valor de Q[5][6] a 999.9999999999997.\nActualizamos la celda actual a 6.\nSe actualiza el valor de épsilon a 1.\nSe alcanza la celda objetivo.\n\nEpisodio 999: Se establece 5 como celda de inicio, y se toma como celda objetivo la 6.\nLa lista de siguientes celdas posibles es: [1, 2, 4, 6, 7]\nEl número generado aleatoriamente es menor que épsilon, el siguiente estado se elige al azar: 6.\nSe actualiza el valor de Q[5][6] a 999.9999999999997.\nActualizamos la celda actual a 6.\nSe actualiza el valor de épsilon a 1.\nSe alcanza la celda objetivo.\n\nEpisodio 1000: Se establece 6 como celda de inicio, y se toma como celda objetivo la 6.\nSe actualiza el valor de épsilon a 1.\nSe alcanza la celda objetivo.\n"
    }
   ],
   "source": [
    "#Iniciamos el contador de tiempo para medidas de rendimiento\n",
    "start = time.time()\n",
    "\n",
    "rango = range(episodios)\n",
    "\n",
    "for x in rango:\n",
    "    inicio = randint(0, tamano-1)\n",
    "    print(\"\\nEpisodio \" + str(x+1) + \": Se establece \" + str(inicio) + \" como celda de inicio, y se toma como celda objetivo la \" + str(objetivo) + \".\")\n",
    "    actual = inicio\n",
    "    while actual != objetivo:\n",
    "        posibles = []\n",
    "        for y in range(tamano):\n",
    "            if R[actual][y] != -1:\n",
    "                posibles.append(y)\n",
    "        print(\"La lista de siguientes celdas posibles es: \" + str(posibles))\n",
    "        # Implementación epsilon fase 2\n",
    "        aleatorioEpsilon = random.uniform(0,1)\n",
    "\n",
    "        # Si el valor aleatorio es menor que epsilon\n",
    "        if aleatorioEpsilon < epsilon:\n",
    "            # Elegimos aleatoriamente el estado siguiente\n",
    "            aleatorioPosibles = randint(0,int(len(posibles)-1))\n",
    "            aleatorio = posibles[aleatorioPosibles]\n",
    "            print(\"El número generado aleatoriamente es menor que épsilon, el siguiente estado se elige al azar: \" + str(aleatorio) + \".\")\n",
    "        # Si el valor aleatorio es mayor que epsilon\n",
    "        else:\n",
    "            posiblesValor = []\n",
    "            for posible in posibles:\n",
    "                supuestosPosible = []\n",
    "                # Analizamos cuales son las celdas viables segun la matriz R\n",
    "                for aux in range(tamano):\n",
    "                    if R[posible][aux] != -1:\n",
    "                        # Calculamos el valor de dicha celda en nuestra matriz Q\n",
    "                        valor = Q[posible][aux]\n",
    "                        supuestosPosible.append(valor)\n",
    "                # Seleccionamos la celda con mayor valor en nuestra matriz\n",
    "                maximoSupuestosPosible = max(supuestosPosible)\n",
    "                posiblesValor.append(R[actual][posible] + gamma * maximoSupuestosPosible)\n",
    "            aleatorio = posibles[np.argmax(posiblesValor)]\n",
    "            print(\"El número generado aleatoriamente es mayor o igual que épsilon, se elige el siguiente estado con más valor entre los posibles: \" + str(aleatorio) + \".\")\n",
    "        ##---------------------\n",
    "        supuestos = []\n",
    "        for z in range(tamano):\n",
    "            if R[aleatorio][z] != -1:\n",
    "                calculo = Q[aleatorio][z]\n",
    "                supuestos.append(calculo)\n",
    "        maximoSupuestos = max(supuestos)\n",
    "        # Actualizamos el valor de Q segun los estados seleccionados\n",
    "        Q[actual][aleatorio] = R[actual][aleatorio] + gamma * maximoSupuestos\n",
    "        print(\"Se actualiza el valor de Q[\" + str(actual) + \"]\" + \"[\" + str(aleatorio) + \"] a \" + str(Q[actual][aleatorio]) + \".\" )\n",
    "        actual = aleatorio\n",
    "        print(\"Actualizamos la celda actual a \" + str(actual) + \".\")\n",
    "    # Actualizamos el valor de Q para la celda objetivo\n",
    "    Q[actual][actual] = R[actual][actual] + gamma * Q[actual][actual]\n",
    "    # Actualizamos el valor de epsilon en base al alpha definido y repetimos la iteracion hasta el ultimo episodio\n",
    "    epsilon = epsilon * alpha\n",
    "    print(\"Se actualiza el valor de épsilon a \" + str(epsilon) + \".\")\n",
    "    print(\"Se alcanza la celda objetivo.\")\n",
    "\n",
    "#Finalizamos el contador de tiempo para medidas de rendimiento\n",
    "end = time.time()"
   ]
  },
  {
   "cell_type": "markdown",
   "metadata": {},
   "source": [
    "## Matriz Q resultante\n",
    "Así queda la matriz Q después de completar todos los episodios."
   ]
  },
  {
   "cell_type": "code",
   "execution_count": 99,
   "metadata": {
    "tags": []
   },
   "outputs": [
    {
     "output_type": "stream",
     "name": "stdout",
     "text": "[[   0.  810.  900.  810.    0.    0.    0.    0.    0.]\n [ 810.    0.  900.  810.  810.  900.    0.    0.    0.]\n [ 810.  810.    0.  810.  810.  900. 1000.  900.  810.]\n [ 810.  810.  900.    0.    0.    0.    0.  900.  810.]\n [   0.  810.  900.    0.    0.  900.    0.    0.    0.]\n [   0.  810.  900.    0.  810.    0. 1000.  900.    0.]\n [   0.    0.    0.    0.    0.    0. 1000.    0.    0.]\n [   0.    0.  900.  810.    0.  900. 1000.    0.  810.]\n [   0.    0.  900.  810.    0.    0.    0.  900.    0.]]\n"
    }
   ],
   "source": [
    "print(Q)"
   ]
  },
  {
   "cell_type": "markdown",
   "metadata": {},
   "source": [
    "## Comprobante\n",
    "Se comprueba que una vez entrenada la matriz Q el agente encuentra el mejor camino, que, por ejemplo partiendo de 0 debería ser (0 -> 2 -> 6)."
   ]
  },
  {
   "cell_type": "code",
   "execution_count": 101,
   "metadata": {
    "tags": []
   },
   "outputs": [
    {
     "output_type": "stream",
     "name": "stdout",
     "text": "[0, 2, 6]\n"
    }
   ],
   "source": [
    "inicio = 0\n",
    "objetivo = 6\n",
    "camino = []\n",
    "camino.append(inicio)\n",
    "actual = inicio\n",
    "while actual != objetivo:\n",
    "    siguiente = np.argmax(Q[actual])\n",
    "    camino.append(siguiente)\n",
    "    actual = siguiente\n",
    "print(camino)\n"
   ]
  },
  {
   "cell_type": "markdown",
   "metadata": {},
   "source": [
    "## Rendimiento\n",
    "\n",
    "Se considerarán como medidas de rendimiento:\n",
    "* La suma de todos los valores de Q divididos entre el máximo valor de Q multiplicados por 100.\n",
    "* El tiempo total de la ejecución."
   ]
  },
  {
   "cell_type": "code",
   "execution_count": 103,
   "metadata": {
    "tags": []
   },
   "outputs": [
    {
     "output_type": "stream",
     "name": "stdout",
     "text": "El valor del rendimiento siguiendo la fórmula mencionada es: 3289.0\nEl tiempo total de ejecución en segundos es: 3.769598960876465\n"
    }
   ],
   "source": [
    "# Obtenemos el valor máximo de la matriz Q\n",
    "maxQ = np.max(Q)\n",
    "# Dividimos cada elemento de la matriz Q por el valor máximo y lo multiplicamos por 100\n",
    "divQ = Q/maxQ*100\n",
    "# Sumamos todos los elementos de la matriz Q\n",
    "sumQ = divQ.sum()\n",
    "#Imprimimos los resultados de rendimiento\n",
    "print(\"El valor del rendimiento siguiendo la fórmula mencionada es: \" + str(divQ.sum()))\n",
    "print(\"El tiempo total de ejecución en segundos es: \" + str(end - start))"
   ]
  },
  {
   "cell_type": "code",
   "execution_count": 105,
   "metadata": {
    "tags": []
   },
   "outputs": [
    {
     "output_type": "stream",
     "name": "stdout",
     "text": "[[  0.  81.  90.  81.   0.   0.   0.   0.   0.]\n [ 81.   0.  90.  81.  81.  90.   0.   0.   0.]\n [ 81.  81.   0.  81.  81.  90. 100.  90.  81.]\n [ 81.  81.  90.   0.   0.   0.   0.  90.  81.]\n [  0.  81.  90.   0.   0.  90.   0.   0.   0.]\n [  0.  81.  90.   0.  81.   0. 100.  90.   0.]\n [  0.   0.   0.   0.   0.   0. 100.   0.   0.]\n [  0.   0.  90.  81.   0.  90. 100.   0.  81.]\n [  0.   0.  90.  81.   0.   0.   0.  90.   0.]]\n"
    }
   ],
   "source": [
    "# Imprimimos la matriz normalizada\n",
    "print(divQ)"
   ]
  }
 ],
 "metadata": {
  "language_info": {
   "codemirror_mode": {
    "name": "ipython",
    "version": 3
   },
   "file_extension": ".py",
   "mimetype": "text/x-python",
   "name": "python",
   "nbconvert_exporter": "python",
   "pygments_lexer": "ipython3",
   "version": "3.8.2-final"
  },
  "orig_nbformat": 2,
  "kernelspec": {
   "name": "python38264bitc4c343130ed4464485181525644477d7",
   "display_name": "Python 3.8.2 64-bit"
  }
 },
 "nbformat": 4,
 "nbformat_minor": 2
}