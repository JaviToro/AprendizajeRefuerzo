{
 "cells": [
  {
   "cell_type": "markdown",
   "metadata": {},
   "source": [
    "### Importaciones\n",
    "Necesarias para el correcto funcionamiento del proyecto."
   ]
  },
  {
   "cell_type": "code",
   "execution_count": 209,
   "metadata": {},
   "outputs": [],
   "source": [
    "import numpy as np\n",
    "import random\n",
    "from random import randint"
   ]
  },
  {
   "cell_type": "markdown",
   "metadata": {},
   "source": [
    "# Aprendizaje por Refuerzo\n",
    "## Tablero\n",
    "Definimos el tablero por defecto a utilizar, en este caso será el mismo que en la Fase 1"
   ]
  },
  {
   "cell_type": "code",
   "execution_count": 210,
   "metadata": {
    "tags": []
   },
   "outputs": [
    {
     "output_type": "stream",
     "name": "stdout",
     "text": "[[8 7 6]\n [3 2 5]\n [0 1 4]]\n"
    }
   ],
   "source": [
    "T = np.array([[8,7,6],\n",
    "              [3,2,5],\n",
    "              [0,1,4]])\n",
    "print(T)"
   ]
  },
  {
   "cell_type": "markdown",
   "metadata": {},
   "source": [
    "## Matriz R\n",
    "Definimos la matriz R calculada a partir de los posibles movimientos del tablero."
   ]
  },
  {
   "cell_type": "code",
   "execution_count": 211,
   "metadata": {
    "tags": []
   },
   "outputs": [
    {
     "output_type": "stream",
     "name": "stdout",
     "text": "[[ -1   0   0   0  -1  -1  -1  -1  -1]\n [  0  -1   0   0   0   0  -1  -1  -1]\n [  0   0  -1   0   0   0 100   0   0]\n [  0   0   0  -1  -1  -1  -1   0   0]\n [ -1   0   0  -1  -1   0  -1  -1  -1]\n [ -1   0   0  -1   0  -1 100   0  -1]\n [ -1  -1   0  -1  -1   0 100   0  -1]\n [ -1  -1   0   0  -1   0 100  -1   0]\n [ -1  -1   0   0  -1  -1  -1   0  -1]]\n"
    }
   ],
   "source": [
    "R = np.array([[-1,0,0,0,-1,-1,-1,-1,-1],\n",
    "              [0,-1,0,0,0,0,-1,-1,-1],\n",
    "              [0,0,-1,0,0,0,100,0,0],\n",
    "              [0,0,0,-1,-1,-1,-1,0,0],\n",
    "              [-1,0,0,-1,-1,0,-1,-1,-1],\n",
    "              [-1,0,0,-1,0,-1,100,0,-1],\n",
    "              [-1,-1,0,-1,-1,0,100,0,-1],\n",
    "              [-1,-1,0,0,-1,0,100,-1,0],\n",
    "              [-1,-1,0,0,-1,-1,-1,0,-1]])\n",
    "print(R)"
   ]
  },
  {
   "cell_type": "markdown",
   "metadata": {},
   "source": [
    "## Matriz Q\n",
    "Inicializamos Q como una matriz de 0s del mismo tamaño que la matriz R."
   ]
  },
  {
   "cell_type": "code",
   "execution_count": 212,
   "metadata": {
    "tags": []
   },
   "outputs": [
    {
     "output_type": "stream",
     "name": "stdout",
     "text": "[[0. 0. 0. 0. 0. 0. 0. 0. 0.]\n [0. 0. 0. 0. 0. 0. 0. 0. 0.]\n [0. 0. 0. 0. 0. 0. 0. 0. 0.]\n [0. 0. 0. 0. 0. 0. 0. 0. 0.]\n [0. 0. 0. 0. 0. 0. 0. 0. 0.]\n [0. 0. 0. 0. 0. 0. 0. 0. 0.]\n [0. 0. 0. 0. 0. 0. 0. 0. 0.]\n [0. 0. 0. 0. 0. 0. 0. 0. 0.]\n [0. 0. 0. 0. 0. 0. 0. 0. 0.]]\n"
    }
   ],
   "source": [
    "Q = np.zeros((9,9))\n",
    "print(Q)"
   ]
  },
  {
   "cell_type": "markdown",
   "metadata": {},
   "source": [
    "## Parámetros\n",
    "Apartado para configurar los distintos parámetros que utilizará el algoritmo."
   ]
  },
  {
   "cell_type": "code",
   "execution_count": 213,
   "metadata": {
    "tags": []
   },
   "outputs": [
    {
     "output_type": "stream",
     "name": "stdout",
     "text": "La celda de inicio será la 0 y la celda objetivo será la 6.\nEl número de episodios será 100 y el factor de aprendizaje gamma es de 0.8.\nEl valor de épsilon es 1 y el de alpha es 0.99.\n"
    }
   ],
   "source": [
    "inicio = 0\n",
    "objetivo = 6\n",
    "episodios = 10000\n",
    "gamma = 0.8\n",
    "epsilon = 1\n",
    "alpha = 0.75\n",
    "print(\"La celda de inicio será la \" + str(inicio) + \" y la celda objetivo será la \" + str(objetivo) +\".\")\n",
    "print(\"El número de episodios será \" + str(episodios) + \" y el factor de aprendizaje gamma es de \" + str(gamma) + \".\")\n",
    "print(\"El valor de épsilon es \" + str(epsilon) + \" y el de alpha es \" + str(alpha) + \".\")"
   ]
  },
  {
   "cell_type": "markdown",
   "metadata": {},
   "source": [
    "## Algoritmo\n",
    "Incluimos, en este caso, las variables epsilon y alpha"
   ]
  },
  {
   "cell_type": "code",
   "execution_count": 2,
   "metadata": {
    "tags": []
   },
   "outputs": [
    {
     "output_type": "error",
     "ename": "NameError",
     "evalue": "name 'episodios' is not defined",
     "traceback": [
      "\u001b[1;31m---------------------------------------------------------------------------\u001b[0m",
      "\u001b[1;31mNameError\u001b[0m                                 Traceback (most recent call last)",
      "\u001b[1;32m<ipython-input-2-023f9cadf0e8>\u001b[0m in \u001b[0;36m<module>\u001b[1;34m\u001b[0m\n\u001b[1;32m----> 1\u001b[1;33m \u001b[0mrango\u001b[0m \u001b[1;33m=\u001b[0m \u001b[0mrange\u001b[0m\u001b[1;33m(\u001b[0m\u001b[0mepisodios\u001b[0m\u001b[1;33m)\u001b[0m\u001b[1;33m\u001b[0m\u001b[1;33m\u001b[0m\u001b[0m\n\u001b[0m\u001b[0;32m      2\u001b[0m \u001b[1;33m\u001b[0m\u001b[0m\n\u001b[0;32m      3\u001b[0m \u001b[1;32mfor\u001b[0m \u001b[0mx\u001b[0m \u001b[1;32min\u001b[0m \u001b[0mrango\u001b[0m\u001b[1;33m:\u001b[0m\u001b[1;33m\u001b[0m\u001b[1;33m\u001b[0m\u001b[0m\n\u001b[0;32m      4\u001b[0m     \u001b[0minicio\u001b[0m \u001b[1;33m=\u001b[0m \u001b[0mrandint\u001b[0m\u001b[1;33m(\u001b[0m\u001b[1;36m0\u001b[0m\u001b[1;33m,\u001b[0m \u001b[1;36m8\u001b[0m\u001b[1;33m)\u001b[0m\u001b[1;33m\u001b[0m\u001b[1;33m\u001b[0m\u001b[0m\n\u001b[0;32m      5\u001b[0m     \u001b[0mprint\u001b[0m\u001b[1;33m(\u001b[0m\u001b[1;34m\"\\nEpisodio \"\u001b[0m \u001b[1;33m+\u001b[0m \u001b[0mstr\u001b[0m\u001b[1;33m(\u001b[0m\u001b[0mx\u001b[0m\u001b[1;33m+\u001b[0m\u001b[1;36m1\u001b[0m\u001b[1;33m)\u001b[0m \u001b[1;33m+\u001b[0m \u001b[1;34m\": Se establece \"\u001b[0m \u001b[1;33m+\u001b[0m \u001b[0mstr\u001b[0m\u001b[1;33m(\u001b[0m\u001b[0minicio\u001b[0m\u001b[1;33m)\u001b[0m \u001b[1;33m+\u001b[0m \u001b[1;34m\" como celda de inicio, y se toma como celda objetivo la \"\u001b[0m \u001b[1;33m+\u001b[0m \u001b[0mstr\u001b[0m\u001b[1;33m(\u001b[0m\u001b[0mobjetivo\u001b[0m\u001b[1;33m)\u001b[0m \u001b[1;33m+\u001b[0m \u001b[1;34m\".\"\u001b[0m\u001b[1;33m)\u001b[0m\u001b[1;33m\u001b[0m\u001b[1;33m\u001b[0m\u001b[0m\n",
      "\u001b[1;31mNameError\u001b[0m: name 'episodios' is not defined"
     ]
    }
   ],
   "source": [
    "rango = range(episodios)\n",
    "\n",
    "for x in rango:\n",
    "    inicio = randint(0, 8)\n",
    "    print(\"\\nEpisodio \" + str(x+1) + \": Se establece \" + str(inicio) + \" como celda de inicio, y se toma como celda objetivo la \" + str(objetivo) + \".\")\n",
    "    actual = inicio\n",
    "    while actual != objetivo:\n",
    "        posibles = []\n",
    "        for y in range(9):\n",
    "            if R[actual][y] == 0 or R[actual][y] == 100:\n",
    "                posibles.append(y)\n",
    "        print(\"La lista de siguientes celdas posibles es: \" + str(posibles))\n",
    "        # Implementación epsilon fase 2\n",
    "        aleatorioEpsilon = random.uniform(0,1)\n",
    "\n",
    "        # Si el valor aleatorio es menor que epsilon\n",
    "        if aleatorioEpsilon < epsilon:\n",
    "            # Elegimos aleatoriamente el estado siguiente\n",
    "            aleatorioPosibles = randint(0,int(len(posibles)-1))\n",
    "            aleatorio = posibles[aleatorioPosibles]\n",
    "            print(\"El número generado aleatoriamente es menor que épsilon, el siguiente estado se elige al azar: \" + str(aleatorio) + \".\")\n",
    "        # Si el valor aleatorio es mayor que epsilon\n",
    "        else:\n",
    "            posiblesValor = []\n",
    "            for posible in posibles:\n",
    "                supuestosPosible = []\n",
    "                # Analizamos cuales son las celdas viables segun la matriz R\n",
    "                for aux in range(9):\n",
    "                    if R[posible][aux] == 0 or R[posible][aux] == 100:\n",
    "                        # Calculamos el valor de dicha celda en nuestra matriz Q\n",
    "                        valor = Q[posible][aux]\n",
    "                        supuestosPosible.append(valor)\n",
    "                # Seleccionamos la celda con mayor valor en nuestra matriz\n",
    "                maximoSupuestosPosible = max(supuestosPosible)\n",
    "                posiblesValor.append(R[actual][posible] + gamma * maximoSupuestosPosible)\n",
    "            aleatorio = posibles[np.argmax(posiblesValor)]\n",
    "            print(\"El número generado aleatoriamente es mayor o igual que épsilon, se elige el siguiente estado con más valor entre los posibles: \" + str(aleatorio) + \".\")\n",
    "        ##---------------------\n",
    "        supuestos = []\n",
    "        for z in range(9):\n",
    "            if R[aleatorio][z] == 0 or R[aleatorio][z] == 100:\n",
    "                calculo = Q[aleatorio][z]\n",
    "                supuestos.append(calculo)\n",
    "        maximoSupuestos = max(supuestos)\n",
    "        # Actualizamos el valor de Q segun los estados seleccionados\n",
    "        Q[actual][aleatorio] = R[actual][aleatorio] + gamma * maximoSupuestos\n",
    "        print(\"Se actualiza el valor de Q[\" + str(actual) + \"]\" + \"[\" + str(aleatorio) + \"] a \" + str(Q[actual][aleatorio]) + \".\" )\n",
    "        actual = aleatorio\n",
    "        print(\"Actualizamos la celda actual a \" + str(actual) + \".\")\n",
    "    # Actualizamos el valor de epsilon en base al alpha definido y repetimos la iteracion hasta el ultimo episodio\n",
    "    epsilon = epsilon * alpha\n",
    "    print(\"Se actualiza el valor de épsilon a \" + str(epsilon) + \".\")\n",
    "    print(\"Se alcanza la celda objetivo.\")"
   ]
  },
  {
   "cell_type": "markdown",
   "metadata": {},
   "source": [
    "## Matriz Q resultante\n",
    "Así queda la matriz Q después de completar todos los episodios."
   ]
  },
  {
   "cell_type": "code",
   "execution_count": 215,
   "metadata": {
    "tags": []
   },
   "outputs": [
    {
     "output_type": "stream",
     "name": "stdout",
     "text": "[[  0.  64.  80.  64.   0.   0.   0.   0.   0.]\n [ 64.   0.  80.  64.  64.  80.   0.   0.   0.]\n [ 64.  64.   0.  64.  64.  80. 100.  80.  64.]\n [ 64.  64.  80.   0.   0.   0.   0.  80.  64.]\n [  0.  64.  80.   0.   0.  80.   0.   0.   0.]\n [  0.  64.  80.   0.  64.   0. 100.  80.   0.]\n [  0.   0.   0.   0.   0.   0.   0.   0.   0.]\n [  0.   0.  80.  64.   0.  80. 100.   0.  64.]\n [  0.   0.  80.  64.   0.   0.   0.  80.   0.]]\n"
    }
   ],
   "source": [
    "print(Q)"
   ]
  },
  {
   "cell_type": "markdown",
   "metadata": {},
   "source": [
    "## Comprobante\n",
    "Se comprueba que una vez entrenada la matriz Q el agente encuentra el mejor camino, que, por ejemplo partiendo de 0 debería ser 0, 2, 6."
   ]
  },
  {
   "cell_type": "code",
   "execution_count": 216,
   "metadata": {
    "tags": []
   },
   "outputs": [
    {
     "output_type": "stream",
     "name": "stdout",
     "text": "[0, 2, 6]\n"
    }
   ],
   "source": [
    "inicio = 0\n",
    "objetivo = 6\n",
    "camino = []\n",
    "camino.append(inicio)\n",
    "actual = inicio\n",
    "while actual != objetivo:\n",
    "    siguiente = np.argmax(Q[actual])\n",
    "    camino.append(siguiente)\n",
    "    actual = siguiente\n",
    "print(camino)\n"
   ]
  }
 ],
 "metadata": {
  "language_info": {
   "codemirror_mode": {
    "name": "ipython",
    "version": 3
   },
   "file_extension": ".py",
   "mimetype": "text/x-python",
   "name": "python",
   "nbconvert_exporter": "python",
   "pygments_lexer": "ipython3",
   "version": "3.8.2-final"
  },
  "orig_nbformat": 2,
  "kernelspec": {
   "name": "python38264bit19594017814c45149cc4d01e7f46d5d6",
   "display_name": "Python 3.8.2 64-bit"
  }
 },
 "nbformat": 4,
 "nbformat_minor": 2
}