{
 "cells": [
  {
   "cell_type": "markdown",
   "metadata": {},
   "source": [
    "### Importaciones\n",
    "Necesarias para el correcto funcionamiento del proyecto."
   ]
  },
  {
   "cell_type": "code",
   "execution_count": 771,
   "metadata": {},
   "outputs": [],
   "source": [
    "import time\n",
    "import numpy as np\n",
    "import random\n",
    "from random import randint\n",
    "np.set_printoptions(threshold=sys.maxsize)"
   ]
  },
  {
   "cell_type": "markdown",
   "metadata": {},
   "source": [
    "# Aprendizaje por Refuerzo\n",
    "## Tablero\n",
    "Definimos el tablero a utilizar, que por defecto será de 36 por 36 y los movimientos posibles se basan en los del caballo en el juego del ajedrez."
   ]
  },
  {
   "cell_type": "code",
   "execution_count": 772,
   "metadata": {
    "tags": []
   },
   "outputs": [
    {
     "output_type": "stream",
     "name": "stdout",
     "text": "[[35 34 33 32 31 30]\n [24 23 22 21 20 29]\n [15 14 13 12 19 28]\n [ 8  7  6 11 18 27]\n [ 3  2  5 10 17 26]\n [ 0  1  4  9 16 25]]\n"
    }
   ],
   "source": [
    "T = np.array([[35,34,33,32,31,30],\n",
    "              [24,23,22,21,20,29],\n",
    "              [15,14,13,12,19,28],\n",
    "              [8,7,6,11,18,27],\n",
    "              [3,2,5,10,17,26],\n",
    "              [0,1,4,9,16,25]])\n",
    "print(T)"
   ]
  },
  {
   "cell_type": "markdown",
   "metadata": {},
   "source": [
    "## Matriz R\n",
    "Definimos la matriz R calculada a partir de los posibles movimientos del tablero."
   ]
  },
  {
   "cell_type": "code",
   "execution_count": 773,
   "metadata": {
    "tags": []
   },
   "outputs": [
    {
     "output_type": "stream",
     "name": "stdout",
     "text": "[[ -1  -1  -1  -1  -1   1  -1   0  -1  -1  -1  -1  -1  -1  -1  -1  -1  -1\n   -1  -1  -1  -1  -1  -1  -1  -1  -1  -1  -1  -1  -1  -1  -1  -1  -1  -1]\n [ -1  -1  -1  -1  -1  -1   0  -1   0  -1   0  -1  -1  -1  -1  -1  -1  -1\n   -1  -1  -1  -1  -1  -1  -1  -1  -1  -1  -1  -1  -1  -1  -1  -1  -1  -1]\n [ -1  -1  -1  -1  -1  -1  -1  -1  -1   0  -1   0  -1   0  -1   0  -1  -1\n   -1  -1  -1  -1  -1  -1  -1  -1  -1  -1  -1  -1  -1  -1  -1  -1  -1  -1]\n [ -1  -1  -1  -1   0  -1   0  -1  -1  -1  -1  -1  -1  -1   0  -1  -1  -1\n   -1  -1  -1  -1  -1  -1  -1  -1  -1  -1  -1  -1  -1  -1  -1  -1  -1  -1]\n [ -1  -1  -1   0  -1  -1  -1   0  -1  -1  -1   0  -1  -1  -1  -1  -1   0\n   -1  -1  -1  -1  -1  -1  -1  -1  -1  -1  -1  -1  -1  -1  -1  -1  -1  -1]\n [  0  -1  -1  -1  -1  -1  -1  -1   0  -1  -1  -1   0  -1   0  -1   0  -1\n    5  -1  -1  -1  -1  -1  -1  -1  -1  -1  -1  -1  -1  -1  -1  -1  -1  -1]\n [ -1   0  -1   0  -1  -1  -1  -1  -1  -1  -1  -1  -1  -1  -1   0   0  -1\n    5   0  -1  10  -1   0  -1  -1  -1  -1  -1  -1  -1  -1  -1  -1  -1  -1]\n [  0  -1  -1  -1   0  -1  -1  -1  -1  -1   0  -1   0  -1  -1  -1  -1  -1\n   -1  -1  -1  -1   0  -1   0  -1  -1  -1  -1  -1  -1  -1  -1  -1  -1  -1]\n [ -1   0  -1  -1  -1   1  -1  -1  -1  -1  -1  -1  -1   0  -1  -1  -1  -1\n   -1  -1  -1  -1  -1   0  -1  -1  -1  -1  -1  -1  -1  -1  -1  -1  -1  -1]\n [ -1  -1   0  -1  -1  -1   0  -1  -1  -1  -1  -1  -1  -1  -1  -1  -1  -1\n    5  -1  -1  -1  -1  -1  -1  -1   0  -1  -1  -1  -1  -1  -1  -1  -1  -1]\n [ -1   0  -1  -1  -1  -1  -1   0  -1  -1  -1  -1  -1   0  -1  -1  -1  -1\n   -1   0  -1  -1  -1  -1  -1   0  -1   0  -1  -1  -1  -1  -1  -1  -1  -1]\n [ -1  -1   0  -1   0  -1  -1  -1  -1  -1  -1  -1  -1  -1   0  -1   0  -1\n   -1  -1   0  -1   0  -1  -1  -1   0  -1   0  -1  -1  -1  -1  -1  -1  -1]\n [ -1  -1  -1  -1  -1   1  -1   0  -1  -1  -1  -1  -1  -1  -1  -1  -1   0\n   -1  -1  -1  -1  -1   0  -1  -1  -1   0  -1   0  -1   0  -1   0  -1  -1]\n [ -1  -1   0  -1  -1  -1  -1  -1   0  -1   0  -1  -1  -1  -1  -1  -1  -1\n    5  -1   0  -1  -1  -1   0  -1  -1  -1  -1  -1  -1  -1   0  -1   0  -1]\n [ -1  -1  -1   0  -1   1  -1  -1  -1  -1  -1   0  -1  -1  -1  -1  -1  -1\n   -1  -1  -1  10  -1  -1  -1  -1  -1  -1  -1  -1  -1  -1  -1   0  -1   0]\n [ -1  -1   0  -1  -1  -1   0  -1  -1  -1  -1  -1  -1  -1  -1  -1  -1  -1\n   -1  -1  -1  -1   0  -1  -1  -1  -1  -1  -1  -1  -1  -1  -1  -1   0  -1]\n [ -1  -1  -1  -1  -1   1  -1  -1  -1  -1  -1   0  -1  -1  -1  -1  -1  -1\n   -1  -1  -1  -1  -1  -1  -1  -1  -1   0  -1  -1  -1  -1  -1  -1  -1  -1]\n [ -1  -1  -1  -1   0  -1   0  -1  -1  -1  -1  -1   0  -1  -1  -1  -1  -1\n   -1  -1  -1  -1  -1  -1  -1  -1  -1  -1   0  -1  -1  -1  -1  -1  -1  -1]\n [ -1  -1  -1  -1  -1   1  -1  -1  -1   0  -1  -1  -1   0  -1  -1  -1  -1\n   -1  -1  -1  10  -1  -1  -1   0  -1  -1  -1   0  -1  -1  -1  -1  -1  -1]\n [ -1  -1  -1  -1  -1  -1   0  -1  -1  -1   0  -1  -1  -1  -1  -1  -1  -1\n   -1  -1  -1  -1   0  -1  -1  -1   0  -1  -1  -1 100  -1   0  -1  -1  -1]\n [ -1  -1  -1  -1  -1  -1  -1  -1  -1  -1  -1   0  -1   0  -1  -1  -1  -1\n   -1  -1  -1  -1  -1  -1  -1  -1  -1   0  -1  -1  -1  -1  -1   0  -1  -1]\n [ -1  -1  -1  -1  -1  -1   0  -1  -1  -1  -1  -1  -1  -1   0  -1  -1  -1\n    5  -1  -1  -1  -1  -1  -1  -1  -1  -1   0  -1 100  -1  -1  -1   0  -1]\n [ -1  -1  -1  -1  -1  -1  -1   0  -1  -1  -1   0  -1  -1  -1   0  -1  -1\n   -1   0  -1  -1  -1  -1  -1  -1  -1  -1  -1  -1  -1   0  -1  -1  -1   0]\n [ -1  -1  -1  -1  -1  -1   0  -1   0  -1  -1  -1   0  -1  -1  -1  -1  -1\n   -1  -1  -1  -1  -1  -1  -1  -1  -1  -1  -1  -1  -1  -1   0  -1  -1  -1]\n [ -1  -1  -1  -1  -1  -1  -1   0  -1  -1  -1  -1  -1   0  -1  -1  -1  -1\n   -1  -1  -1  -1  -1  -1  -1  -1  -1  -1  -1  -1  -1  -1  -1   0  -1  -1]\n [ -1  -1  -1  -1  -1  -1  -1  -1  -1  -1   0  -1  -1  -1  -1  -1  -1  -1\n    5  -1  -1  -1  -1  -1  -1  -1  -1  -1  -1  -1  -1  -1  -1  -1  -1  -1]\n [ -1  -1  -1  -1  -1  -1  -1  -1  -1   0  -1   0  -1  -1  -1  -1  -1  -1\n   -1   0  -1  -1  -1  -1  -1  -1  -1  -1  -1  -1  -1  -1  -1  -1  -1  -1]\n [ -1  -1  -1  -1  -1  -1  -1  -1  -1  -1   0  -1   0  -1  -1  -1   0  -1\n   -1  -1   0  -1  -1  -1  -1  -1  -1  -1  -1  -1  -1  -1  -1  -1  -1  -1]\n [ -1  -1  -1  -1  -1  -1  -1  -1  -1  -1  -1   0  -1  -1  -1  -1  -1   0\n   -1  -1  -1  10  -1  -1  -1  -1  -1  -1  -1  -1  -1   0  -1  -1  -1  -1]\n [ -1  -1  -1  -1  -1  -1  -1  -1  -1  -1  -1  -1   0  -1  -1  -1  -1  -1\n    5  -1  -1  -1  -1  -1  -1  -1  -1  -1  -1  -1  -1  -1   0  -1  -1  -1]\n [ -1  -1  -1  -1  -1  -1  -1  -1  -1  -1  -1  -1  -1  -1  -1  -1  -1  -1\n   -1   0  -1  10  -1  -1  -1  -1  -1  -1  -1  -1 100  -1  -1  -1  -1  -1]\n [ -1  -1  -1  -1  -1  -1  -1  -1  -1  -1  -1  -1   0  -1  -1  -1  -1  -1\n   -1  -1  -1  -1   0  -1  -1  -1  -1  -1   0  -1  -1  -1  -1  -1  -1  -1]\n [ -1  -1  -1  -1  -1  -1  -1  -1  -1  -1  -1  -1  -1   0  -1  -1  -1  -1\n   -1   0  -1  -1  -1   0  -1  -1  -1  -1  -1   0  -1  -1  -1  -1  -1  -1]\n [ -1  -1  -1  -1  -1  -1  -1  -1  -1  -1  -1  -1   0  -1   0  -1  -1  -1\n   -1  -1   0  -1  -1  -1   0  -1  -1  -1  -1  -1  -1  -1  -1  -1  -1  -1]\n [ -1  -1  -1  -1  -1  -1  -1  -1  -1  -1  -1  -1  -1   0  -1   0  -1  -1\n   -1  -1  -1  10   0  -1  -1  -1  -1  -1  -1  -1  -1  -1  -1  -1  -1  -1]\n [ -1  -1  -1  -1  -1  -1  -1  -1  -1  -1  -1  -1  -1  -1   0  -1  -1  -1\n   -1  -1  -1  -1  -1  -1  -1  -1  -1  -1  -1  -1  -1  -1  -1  -1  -1  -1]]\n"
    }
   ],
   "source": [
    "R = np.full((36,36),-1)\n",
    "R[0][5] = 1\n",
    "R[0][7] = 0\n",
    "R[1][6] = 0\n",
    "R[1][8] = 0\n",
    "R[1][10] = 0\n",
    "R[2][9] = 0\n",
    "R[2][11] = 0\n",
    "R[2][13] = 0\n",
    "R[2][15] = 0\n",
    "R[3][4] = 0\n",
    "R[3][6] = 0\n",
    "R[3][14] = 0\n",
    "R[4][3] = 0\n",
    "R[4][7] = 0\n",
    "R[4][11] = 0\n",
    "R[4][17] = 0\n",
    "R[5][0] = 0\n",
    "R[5][8] = 0\n",
    "R[5][12] = 0\n",
    "R[5][14] = 0\n",
    "R[5][16] = 0\n",
    "R[5][18] = 5\n",
    "R[6][1] = 0\n",
    "R[6][3] = 0\n",
    "R[6][15] = 0\n",
    "R[6][16] = 0\n",
    "R[6][18] = 5\n",
    "R[6][19] = 0\n",
    "R[6][21] = 10\n",
    "R[6][23] = 0\n",
    "R[7][0] = 0\n",
    "R[7][4] = 0\n",
    "R[7][10] = 0\n",
    "R[7][12] = 0\n",
    "R[7][22] = 0\n",
    "R[7][24] = 0\n",
    "R[8][1] = 0\n",
    "R[8][5] = 1\n",
    "R[8][13] = 0\n",
    "R[8][23] = 0\n",
    "R[9][2] = 0\n",
    "R[9][6] = 0\n",
    "R[9][18] = 5\n",
    "R[9][26] = 0\n",
    "R[10][1] = 0\n",
    "R[10][7] = 0\n",
    "R[10][13] = 0\n",
    "R[10][19] = 0\n",
    "R[10][25] = 0\n",
    "R[10][27] = 0\n",
    "R[11][2] = 0\n",
    "R[11][4] = 0\n",
    "R[11][14] = 0\n",
    "R[11][16] = 0\n",
    "R[11][20] = 0\n",
    "R[11][22] = 0\n",
    "R[11][26] = 0\n",
    "R[11][28] = 0\n",
    "R[12][5] = 1\n",
    "R[12][7] = 0\n",
    "R[12][17] = 0\n",
    "R[12][23] = 0\n",
    "R[12][27] = 0\n",
    "R[12][29] = 0\n",
    "R[12][31] = 0\n",
    "R[12][33] = 0\n",
    "R[13][2] = 0\n",
    "R[13][8] = 0\n",
    "R[13][10] = 0\n",
    "R[13][18] = 5\n",
    "R[13][20] = 0\n",
    "R[13][24] = 0\n",
    "R[13][32] = 0\n",
    "R[13][34] = 0\n",
    "R[14][3] = 0\n",
    "R[14][5] = 1\n",
    "R[14][11] = 0\n",
    "R[14][21] = 10\n",
    "R[14][33] = 0\n",
    "R[14][35] = 0\n",
    "R[15][2] = 0\n",
    "R[15][6] = 0\n",
    "R[15][22] = 0\n",
    "R[15][34] = 0\n",
    "R[16][5] = 1\n",
    "R[16][11] = 0\n",
    "R[16][27] = 0\n",
    "R[17][4] = 0\n",
    "R[17][6] = 0\n",
    "R[17][12] = 0\n",
    "R[17][28] = 0\n",
    "R[18][5] = 1\n",
    "R[18][9] = 0\n",
    "R[18][13] = 0\n",
    "R[18][21] = 10\n",
    "R[18][25] = 0\n",
    "R[18][29] = 0\n",
    "R[19][6] = 0\n",
    "R[19][10] = 0\n",
    "R[19][22] = 0\n",
    "R[19][26] = 0\n",
    "R[19][30] = 100\n",
    "R[19][32] = 0\n",
    "R[20][11] = 0\n",
    "R[20][13] = 0\n",
    "R[20][27] = 0\n",
    "R[20][33] = 0\n",
    "R[21][6] = 0\n",
    "R[21][14] = 0\n",
    "R[21][18] = 5\n",
    "R[21][28] = 0\n",
    "R[21][30] = 100\n",
    "R[21][34] = 0\n",
    "R[22][7] = 0\n",
    "R[22][11] = 0\n",
    "R[22][15] = 0\n",
    "R[22][19] = 0\n",
    "R[22][31] = 0\n",
    "R[22][35] = 0\n",
    "R[23][6] = 0\n",
    "R[23][8] = 0\n",
    "R[23][12] = 0\n",
    "R[23][32] = 0\n",
    "R[24][7] = 0\n",
    "R[24][13] = 0\n",
    "R[24][33] = 0\n",
    "R[25][10] = 0\n",
    "R[25][18] = 5\n",
    "R[26][9] = 0\n",
    "R[26][11] = 0\n",
    "R[26][19] = 0\n",
    "R[27][10] = 0\n",
    "R[27][12] = 0\n",
    "R[27][16] = 0\n",
    "R[27][20] = 0\n",
    "R[28][11] = 0\n",
    "R[28][17] = 0\n",
    "R[28][21] = 10\n",
    "R[28][31] = 0\n",
    "R[29][12] = 0\n",
    "R[29][18] = 5\n",
    "R[29][32] = 0\n",
    "R[30][30] = 100\n",
    "R[30][19] = 0\n",
    "R[30][21] = 10\n",
    "R[31][12] = 0\n",
    "R[31][22] = 0\n",
    "R[31][28] = 0\n",
    "R[32][13] = 0\n",
    "R[32][19] = 0\n",
    "R[32][23] = 0\n",
    "R[32][29] = 0\n",
    "R[33][12] = 0\n",
    "R[33][14] = 0\n",
    "R[33][20] = 0\n",
    "R[33][24] = 0\n",
    "R[34][13] = 0\n",
    "R[34][15] = 0\n",
    "R[34][21] = 10\n",
    "R[35][14] = 0\n",
    "R[34][22] = 0\n",
    "print(R)"
   ]
  },
  {
   "cell_type": "markdown",
   "metadata": {},
   "source": [
    "## Matriz Q\n",
    "Inicializamos Q como una matriz de 0s del mismo tamaño que la matriz R."
   ]
  },
  {
   "cell_type": "code",
   "execution_count": 774,
   "metadata": {
    "tags": []
   },
   "outputs": [
    {
     "output_type": "stream",
     "name": "stdout",
     "text": "[[0. 0. 0. 0. 0. 0. 0. 0. 0. 0. 0. 0. 0. 0. 0. 0. 0. 0. 0. 0. 0. 0. 0. 0.\n  0. 0. 0. 0. 0. 0. 0. 0. 0. 0. 0. 0.]\n [0. 0. 0. 0. 0. 0. 0. 0. 0. 0. 0. 0. 0. 0. 0. 0. 0. 0. 0. 0. 0. 0. 0. 0.\n  0. 0. 0. 0. 0. 0. 0. 0. 0. 0. 0. 0.]\n [0. 0. 0. 0. 0. 0. 0. 0. 0. 0. 0. 0. 0. 0. 0. 0. 0. 0. 0. 0. 0. 0. 0. 0.\n  0. 0. 0. 0. 0. 0. 0. 0. 0. 0. 0. 0.]\n [0. 0. 0. 0. 0. 0. 0. 0. 0. 0. 0. 0. 0. 0. 0. 0. 0. 0. 0. 0. 0. 0. 0. 0.\n  0. 0. 0. 0. 0. 0. 0. 0. 0. 0. 0. 0.]\n [0. 0. 0. 0. 0. 0. 0. 0. 0. 0. 0. 0. 0. 0. 0. 0. 0. 0. 0. 0. 0. 0. 0. 0.\n  0. 0. 0. 0. 0. 0. 0. 0. 0. 0. 0. 0.]\n [0. 0. 0. 0. 0. 0. 0. 0. 0. 0. 0. 0. 0. 0. 0. 0. 0. 0. 0. 0. 0. 0. 0. 0.\n  0. 0. 0. 0. 0. 0. 0. 0. 0. 0. 0. 0.]\n [0. 0. 0. 0. 0. 0. 0. 0. 0. 0. 0. 0. 0. 0. 0. 0. 0. 0. 0. 0. 0. 0. 0. 0.\n  0. 0. 0. 0. 0. 0. 0. 0. 0. 0. 0. 0.]\n [0. 0. 0. 0. 0. 0. 0. 0. 0. 0. 0. 0. 0. 0. 0. 0. 0. 0. 0. 0. 0. 0. 0. 0.\n  0. 0. 0. 0. 0. 0. 0. 0. 0. 0. 0. 0.]\n [0. 0. 0. 0. 0. 0. 0. 0. 0. 0. 0. 0. 0. 0. 0. 0. 0. 0. 0. 0. 0. 0. 0. 0.\n  0. 0. 0. 0. 0. 0. 0. 0. 0. 0. 0. 0.]\n [0. 0. 0. 0. 0. 0. 0. 0. 0. 0. 0. 0. 0. 0. 0. 0. 0. 0. 0. 0. 0. 0. 0. 0.\n  0. 0. 0. 0. 0. 0. 0. 0. 0. 0. 0. 0.]\n [0. 0. 0. 0. 0. 0. 0. 0. 0. 0. 0. 0. 0. 0. 0. 0. 0. 0. 0. 0. 0. 0. 0. 0.\n  0. 0. 0. 0. 0. 0. 0. 0. 0. 0. 0. 0.]\n [0. 0. 0. 0. 0. 0. 0. 0. 0. 0. 0. 0. 0. 0. 0. 0. 0. 0. 0. 0. 0. 0. 0. 0.\n  0. 0. 0. 0. 0. 0. 0. 0. 0. 0. 0. 0.]\n [0. 0. 0. 0. 0. 0. 0. 0. 0. 0. 0. 0. 0. 0. 0. 0. 0. 0. 0. 0. 0. 0. 0. 0.\n  0. 0. 0. 0. 0. 0. 0. 0. 0. 0. 0. 0.]\n [0. 0. 0. 0. 0. 0. 0. 0. 0. 0. 0. 0. 0. 0. 0. 0. 0. 0. 0. 0. 0. 0. 0. 0.\n  0. 0. 0. 0. 0. 0. 0. 0. 0. 0. 0. 0.]\n [0. 0. 0. 0. 0. 0. 0. 0. 0. 0. 0. 0. 0. 0. 0. 0. 0. 0. 0. 0. 0. 0. 0. 0.\n  0. 0. 0. 0. 0. 0. 0. 0. 0. 0. 0. 0.]\n [0. 0. 0. 0. 0. 0. 0. 0. 0. 0. 0. 0. 0. 0. 0. 0. 0. 0. 0. 0. 0. 0. 0. 0.\n  0. 0. 0. 0. 0. 0. 0. 0. 0. 0. 0. 0.]\n [0. 0. 0. 0. 0. 0. 0. 0. 0. 0. 0. 0. 0. 0. 0. 0. 0. 0. 0. 0. 0. 0. 0. 0.\n  0. 0. 0. 0. 0. 0. 0. 0. 0. 0. 0. 0.]\n [0. 0. 0. 0. 0. 0. 0. 0. 0. 0. 0. 0. 0. 0. 0. 0. 0. 0. 0. 0. 0. 0. 0. 0.\n  0. 0. 0. 0. 0. 0. 0. 0. 0. 0. 0. 0.]\n [0. 0. 0. 0. 0. 0. 0. 0. 0. 0. 0. 0. 0. 0. 0. 0. 0. 0. 0. 0. 0. 0. 0. 0.\n  0. 0. 0. 0. 0. 0. 0. 0. 0. 0. 0. 0.]\n [0. 0. 0. 0. 0. 0. 0. 0. 0. 0. 0. 0. 0. 0. 0. 0. 0. 0. 0. 0. 0. 0. 0. 0.\n  0. 0. 0. 0. 0. 0. 0. 0. 0. 0. 0. 0.]\n [0. 0. 0. 0. 0. 0. 0. 0. 0. 0. 0. 0. 0. 0. 0. 0. 0. 0. 0. 0. 0. 0. 0. 0.\n  0. 0. 0. 0. 0. 0. 0. 0. 0. 0. 0. 0.]\n [0. 0. 0. 0. 0. 0. 0. 0. 0. 0. 0. 0. 0. 0. 0. 0. 0. 0. 0. 0. 0. 0. 0. 0.\n  0. 0. 0. 0. 0. 0. 0. 0. 0. 0. 0. 0.]\n [0. 0. 0. 0. 0. 0. 0. 0. 0. 0. 0. 0. 0. 0. 0. 0. 0. 0. 0. 0. 0. 0. 0. 0.\n  0. 0. 0. 0. 0. 0. 0. 0. 0. 0. 0. 0.]\n [0. 0. 0. 0. 0. 0. 0. 0. 0. 0. 0. 0. 0. 0. 0. 0. 0. 0. 0. 0. 0. 0. 0. 0.\n  0. 0. 0. 0. 0. 0. 0. 0. 0. 0. 0. 0.]\n [0. 0. 0. 0. 0. 0. 0. 0. 0. 0. 0. 0. 0. 0. 0. 0. 0. 0. 0. 0. 0. 0. 0. 0.\n  0. 0. 0. 0. 0. 0. 0. 0. 0. 0. 0. 0.]\n [0. 0. 0. 0. 0. 0. 0. 0. 0. 0. 0. 0. 0. 0. 0. 0. 0. 0. 0. 0. 0. 0. 0. 0.\n  0. 0. 0. 0. 0. 0. 0. 0. 0. 0. 0. 0.]\n [0. 0. 0. 0. 0. 0. 0. 0. 0. 0. 0. 0. 0. 0. 0. 0. 0. 0. 0. 0. 0. 0. 0. 0.\n  0. 0. 0. 0. 0. 0. 0. 0. 0. 0. 0. 0.]\n [0. 0. 0. 0. 0. 0. 0. 0. 0. 0. 0. 0. 0. 0. 0. 0. 0. 0. 0. 0. 0. 0. 0. 0.\n  0. 0. 0. 0. 0. 0. 0. 0. 0. 0. 0. 0.]\n [0. 0. 0. 0. 0. 0. 0. 0. 0. 0. 0. 0. 0. 0. 0. 0. 0. 0. 0. 0. 0. 0. 0. 0.\n  0. 0. 0. 0. 0. 0. 0. 0. 0. 0. 0. 0.]\n [0. 0. 0. 0. 0. 0. 0. 0. 0. 0. 0. 0. 0. 0. 0. 0. 0. 0. 0. 0. 0. 0. 0. 0.\n  0. 0. 0. 0. 0. 0. 0. 0. 0. 0. 0. 0.]\n [0. 0. 0. 0. 0. 0. 0. 0. 0. 0. 0. 0. 0. 0. 0. 0. 0. 0. 0. 0. 0. 0. 0. 0.\n  0. 0. 0. 0. 0. 0. 0. 0. 0. 0. 0. 0.]\n [0. 0. 0. 0. 0. 0. 0. 0. 0. 0. 0. 0. 0. 0. 0. 0. 0. 0. 0. 0. 0. 0. 0. 0.\n  0. 0. 0. 0. 0. 0. 0. 0. 0. 0. 0. 0.]\n [0. 0. 0. 0. 0. 0. 0. 0. 0. 0. 0. 0. 0. 0. 0. 0. 0. 0. 0. 0. 0. 0. 0. 0.\n  0. 0. 0. 0. 0. 0. 0. 0. 0. 0. 0. 0.]\n [0. 0. 0. 0. 0. 0. 0. 0. 0. 0. 0. 0. 0. 0. 0. 0. 0. 0. 0. 0. 0. 0. 0. 0.\n  0. 0. 0. 0. 0. 0. 0. 0. 0. 0. 0. 0.]\n [0. 0. 0. 0. 0. 0. 0. 0. 0. 0. 0. 0. 0. 0. 0. 0. 0. 0. 0. 0. 0. 0. 0. 0.\n  0. 0. 0. 0. 0. 0. 0. 0. 0. 0. 0. 0.]\n [0. 0. 0. 0. 0. 0. 0. 0. 0. 0. 0. 0. 0. 0. 0. 0. 0. 0. 0. 0. 0. 0. 0. 0.\n  0. 0. 0. 0. 0. 0. 0. 0. 0. 0. 0. 0.]]\n"
    }
   ],
   "source": [
    "Q = np.zeros((36,36))\n",
    "print(Q)"
   ]
  },
  {
   "cell_type": "markdown",
   "metadata": {},
   "source": [
    "## Parámetros\n",
    "Apartado para configurar los distintos parámetros que utilizará el algoritmo."
   ]
  },
  {
   "cell_type": "code",
   "execution_count": 775,
   "metadata": {
    "tags": []
   },
   "outputs": [
    {
     "output_type": "stream",
     "name": "stdout",
     "text": "La celda de inicio será la 0 y la celda objetivo será la 30.\nEl número de episodios será 1000 y el factor de aprendizaje gamma es de 0.9.\nEl valor de épsilon es 0 y el de alpha es 0.\n"
    }
   ],
   "source": [
    "inicio = 0\n",
    "objetivo = 30\n",
    "episodios = 1000\n",
    "gamma = 0.9\n",
    "epsilon = 0\n",
    "alpha = 0\n",
    "tamano = 36 # Número total de casillas de la matriz\n",
    "print(\"La celda de inicio será la \" + str(inicio) + \" y la celda objetivo será la \" + str(objetivo) +\".\")\n",
    "print(\"El número de episodios será \" + str(episodios) + \" y el factor de aprendizaje gamma es de \" + str(gamma) + \".\")\n",
    "print(\"El valor de épsilon es \" + str(epsilon) + \" y el de alpha es \" + str(alpha) + \".\")"
   ]
  },
  {
   "cell_type": "markdown",
   "metadata": {},
   "source": [
    "## Algoritmo\n",
    "La ejecución del algoritmo."
   ]
  },
  {
   "cell_type": "code",
   "execution_count": 776,
   "metadata": {
    "tags": [
     "outputPrepend"
    ]
   },
   "outputs": [
    {
     "output_type": "stream",
     "name": "stdout",
     "text": "La lista de siguientes celdas posibles es: [6, 14, 18, 28, 30, 34]\nEl número generado aleatoriamente es mayor o igual que épsilon, se elige el siguiente estado con más valor entre los posibles: 30.\nSe actualiza el valor de Q[21][30] a 999.9999999999997.\nActualizamos la celda actual a 30.\nSe actualiza el valor de épsilon a 0.\nSe alcanza la celda objetivo.\n\nEpisodio 980: Se establece 27 como celda de inicio, y se toma como celda objetivo la 30.\nLa lista de siguientes celdas posibles es: [10, 12, 16, 20]\nEl número generado aleatoriamente es mayor o igual que épsilon, se elige el siguiente estado con más valor entre los posibles: 10.\nSe actualiza el valor de Q[27][10] a 809.9999999999997.\nActualizamos la celda actual a 10.\nLa lista de siguientes celdas posibles es: [1, 7, 13, 19, 25, 27]\nEl número generado aleatoriamente es mayor o igual que épsilon, se elige el siguiente estado con más valor entre los posibles: 19.\nSe actualiza el valor de Q[10][19] a 899.9999999999997.\nActualizamos la celda actual a 19.\nLa lista de siguientes celdas posibles es: [6, 10, 22, 26, 30, 32]\nEl número generado aleatoriamente es mayor o igual que épsilon, se elige el siguiente estado con más valor entre los posibles: 30.\nSe actualiza el valor de Q[19][30] a 999.9999999999997.\nActualizamos la celda actual a 30.\nSe actualiza el valor de épsilon a 0.\nSe alcanza la celda objetivo.\n\nEpisodio 981: Se establece 14 como celda de inicio, y se toma como celda objetivo la 30.\nLa lista de siguientes celdas posibles es: [3, 5, 11, 21, 33, 35]\nEl número generado aleatoriamente es mayor o igual que épsilon, se elige el siguiente estado con más valor entre los posibles: 21.\nSe actualiza el valor de Q[14][21] a 909.9999999999997.\nActualizamos la celda actual a 21.\nLa lista de siguientes celdas posibles es: [6, 14, 18, 28, 30, 34]\nEl número generado aleatoriamente es mayor o igual que épsilon, se elige el siguiente estado con más valor entre los posibles: 30.\nSe actualiza el valor de Q[21][30] a 999.9999999999997.\nActualizamos la celda actual a 30.\nSe actualiza el valor de épsilon a 0.\nSe alcanza la celda objetivo.\n\nEpisodio 982: Se establece 3 como celda de inicio, y se toma como celda objetivo la 30.\nLa lista de siguientes celdas posibles es: [4, 6, 14]\nEl número generado aleatoriamente es mayor o igual que épsilon, se elige el siguiente estado con más valor entre los posibles: 6.\nSe actualiza el valor de Q[3][6] a 818.9999999999997.\nActualizamos la celda actual a 6.\nLa lista de siguientes celdas posibles es: [1, 3, 15, 16, 18, 19, 21, 23]\nEl número generado aleatoriamente es mayor o igual que épsilon, se elige el siguiente estado con más valor entre los posibles: 21.\nSe actualiza el valor de Q[6][21] a 909.9999999999997.\nActualizamos la celda actual a 21.\nLa lista de siguientes celdas posibles es: [6, 14, 18, 28, 30, 34]\nEl número generado aleatoriamente es mayor o igual que épsilon, se elige el siguiente estado con más valor entre los posibles: 30.\nSe actualiza el valor de Q[21][30] a 999.9999999999997.\nActualizamos la celda actual a 30.\nSe actualiza el valor de épsilon a 0.\nSe alcanza la celda objetivo.\n\nEpisodio 983: Se establece 34 como celda de inicio, y se toma como celda objetivo la 30.\nLa lista de siguientes celdas posibles es: [13, 15, 21, 22]\nEl número generado aleatoriamente es mayor o igual que épsilon, se elige el siguiente estado con más valor entre los posibles: 21.\nSe actualiza el valor de Q[34][21] a 909.9999999999997.\nActualizamos la celda actual a 21.\nLa lista de siguientes celdas posibles es: [6, 14, 18, 28, 30, 34]\nEl número generado aleatoriamente es mayor o igual que épsilon, se elige el siguiente estado con más valor entre los posibles: 30.\nSe actualiza el valor de Q[21][30] a 999.9999999999997.\nActualizamos la celda actual a 30.\nSe actualiza el valor de épsilon a 0.\nSe alcanza la celda objetivo.\n\nEpisodio 984: Se establece 1 como celda de inicio, y se toma como celda objetivo la 30.\nLa lista de siguientes celdas posibles es: [6, 8, 10]\nEl número generado aleatoriamente es mayor o igual que épsilon, se elige el siguiente estado con más valor entre los posibles: 6.\nSe actualiza el valor de Q[1][6] a 818.9999999999997.\nActualizamos la celda actual a 6.\nLa lista de siguientes celdas posibles es: [1, 3, 15, 16, 18, 19, 21, 23]\nEl número generado aleatoriamente es mayor o igual que épsilon, se elige el siguiente estado con más valor entre los posibles: 21.\nSe actualiza el valor de Q[6][21] a 909.9999999999997.\nActualizamos la celda actual a 21.\nLa lista de siguientes celdas posibles es: [6, 14, 18, 28, 30, 34]\nEl número generado aleatoriamente es mayor o igual que épsilon, se elige el siguiente estado con más valor entre los posibles: 30.\nSe actualiza el valor de Q[21][30] a 999.9999999999997.\nActualizamos la celda actual a 30.\nSe actualiza el valor de épsilon a 0.\nSe alcanza la celda objetivo.\n\nEpisodio 985: Se establece 22 como celda de inicio, y se toma como celda objetivo la 30.\nLa lista de siguientes celdas posibles es: [7, 11, 15, 19, 31, 35]\nEl número generado aleatoriamente es mayor o igual que épsilon, se elige el siguiente estado con más valor entre los posibles: 19.\nSe actualiza el valor de Q[22][19] a 899.9999999999997.\nActualizamos la celda actual a 19.\nLa lista de siguientes celdas posibles es: [6, 10, 22, 26, 30, 32]\nEl número generado aleatoriamente es mayor o igual que épsilon, se elige el siguiente estado con más valor entre los posibles: 30.\nSe actualiza el valor de Q[19][30] a 999.9999999999997.\nActualizamos la celda actual a 30.\nSe actualiza el valor de épsilon a 0.\nSe alcanza la celda objetivo.\n\nEpisodio 986: Se establece 28 como celda de inicio, y se toma como celda objetivo la 30.\nLa lista de siguientes celdas posibles es: [11, 17, 21, 31]\nEl número generado aleatoriamente es mayor o igual que épsilon, se elige el siguiente estado con más valor entre los posibles: 21.\nSe actualiza el valor de Q[28][21] a 909.9999999999997.\nActualizamos la celda actual a 21.\nLa lista de siguientes celdas posibles es: [6, 14, 18, 28, 30, 34]\nEl número generado aleatoriamente es mayor o igual que épsilon, se elige el siguiente estado con más valor entre los posibles: 30.\nSe actualiza el valor de Q[21][30] a 999.9999999999997.\nActualizamos la celda actual a 30.\nSe actualiza el valor de épsilon a 0.\nSe alcanza la celda objetivo.\n\nEpisodio 987: Se establece 25 como celda de inicio, y se toma como celda objetivo la 30.\nLa lista de siguientes celdas posibles es: [10, 18]\nEl número generado aleatoriamente es mayor o igual que épsilon, se elige el siguiente estado con más valor entre los posibles: 18.\nSe actualiza el valor de Q[25][18] a 823.9999999999997.\nActualizamos la celda actual a 18.\nLa lista de siguientes celdas posibles es: [5, 9, 13, 21, 25, 29]\nEl número generado aleatoriamente es mayor o igual que épsilon, se elige el siguiente estado con más valor entre los posibles: 21.\nSe actualiza el valor de Q[18][21] a 909.9999999999997.\nActualizamos la celda actual a 21.\nLa lista de siguientes celdas posibles es: [6, 14, 18, 28, 30, 34]\nEl número generado aleatoriamente es mayor o igual que épsilon, se elige el siguiente estado con más valor entre los posibles: 30.\nSe actualiza el valor de Q[21][30] a 999.9999999999997.\nActualizamos la celda actual a 30.\nSe actualiza el valor de épsilon a 0.\nSe alcanza la celda objetivo.\n\nEpisodio 988: Se establece 18 como celda de inicio, y se toma como celda objetivo la 30.\nLa lista de siguientes celdas posibles es: [5, 9, 13, 21, 25, 29]\nEl número generado aleatoriamente es mayor o igual que épsilon, se elige el siguiente estado con más valor entre los posibles: 21.\nSe actualiza el valor de Q[18][21] a 909.9999999999997.\nActualizamos la celda actual a 21.\nLa lista de siguientes celdas posibles es: [6, 14, 18, 28, 30, 34]\nEl número generado aleatoriamente es mayor o igual que épsilon, se elige el siguiente estado con más valor entre los posibles: 30.\nSe actualiza el valor de Q[21][30] a 999.9999999999997.\nActualizamos la celda actual a 30.\nSe actualiza el valor de épsilon a 0.\nSe alcanza la celda objetivo.\n\nEpisodio 989: Se establece 34 como celda de inicio, y se toma como celda objetivo la 30.\nLa lista de siguientes celdas posibles es: [13, 15, 21, 22]\nEl número generado aleatoriamente es mayor o igual que épsilon, se elige el siguiente estado con más valor entre los posibles: 21.\nSe actualiza el valor de Q[34][21] a 909.9999999999997.\nActualizamos la celda actual a 21.\nLa lista de siguientes celdas posibles es: [6, 14, 18, 28, 30, 34]\nEl número generado aleatoriamente es mayor o igual que épsilon, se elige el siguiente estado con más valor entre los posibles: 30.\nSe actualiza el valor de Q[21][30] a 999.9999999999997.\nActualizamos la celda actual a 30.\nSe actualiza el valor de épsilon a 0.\nSe alcanza la celda objetivo.\n\nEpisodio 990: Se establece 31 como celda de inicio, y se toma como celda objetivo la 30.\nLa lista de siguientes celdas posibles es: [12, 22, 28]\nEl número generado aleatoriamente es mayor o igual que épsilon, se elige el siguiente estado con más valor entre los posibles: 28.\nSe actualiza el valor de Q[31][28] a 818.9999999999997.\nActualizamos la celda actual a 28.\nLa lista de siguientes celdas posibles es: [11, 17, 21, 31]\nEl número generado aleatoriamente es mayor o igual que épsilon, se elige el siguiente estado con más valor entre los posibles: 21.\nSe actualiza el valor de Q[28][21] a 909.9999999999997.\nActualizamos la celda actual a 21.\nLa lista de siguientes celdas posibles es: [6, 14, 18, 28, 30, 34]\nEl número generado aleatoriamente es mayor o igual que épsilon, se elige el siguiente estado con más valor entre los posibles: 30.\nSe actualiza el valor de Q[21][30] a 999.9999999999997.\nActualizamos la celda actual a 30.\nSe actualiza el valor de épsilon a 0.\nSe alcanza la celda objetivo.\n\nEpisodio 991: Se establece 9 como celda de inicio, y se toma como celda objetivo la 30.\nLa lista de siguientes celdas posibles es: [2, 6, 18, 26]\nEl número generado aleatoriamente es mayor o igual que épsilon, se elige el siguiente estado con más valor entre los posibles: 18.\nSe actualiza el valor de Q[9][18] a 823.9999999999997.\nActualizamos la celda actual a 18.\nLa lista de siguientes celdas posibles es: [5, 9, 13, 21, 25, 29]\nEl número generado aleatoriamente es mayor o igual que épsilon, se elige el siguiente estado con más valor entre los posibles: 21.\nSe actualiza el valor de Q[18][21] a 909.9999999999997.\nActualizamos la celda actual a 21.\nLa lista de siguientes celdas posibles es: [6, 14, 18, 28, 30, 34]\nEl número generado aleatoriamente es mayor o igual que épsilon, se elige el siguiente estado con más valor entre los posibles: 30.\nSe actualiza el valor de Q[21][30] a 999.9999999999997.\nActualizamos la celda actual a 30.\nSe actualiza el valor de épsilon a 0.\nSe alcanza la celda objetivo.\n\nEpisodio 992: Se establece 13 como celda de inicio, y se toma como celda objetivo la 30.\nLa lista de siguientes celdas posibles es: [2, 8, 10, 18, 20, 24, 32, 34]\nEl número generado aleatoriamente es mayor o igual que épsilon, se elige el siguiente estado con más valor entre los posibles: 18.\nSe actualiza el valor de Q[13][18] a 823.9999999999997.\nActualizamos la celda actual a 18.\nLa lista de siguientes celdas posibles es: [5, 9, 13, 21, 25, 29]\nEl número generado aleatoriamente es mayor o igual que épsilon, se elige el siguiente estado con más valor entre los posibles: 21.\nSe actualiza el valor de Q[18][21] a 909.9999999999997.\nActualizamos la celda actual a 21.\nLa lista de siguientes celdas posibles es: [6, 14, 18, 28, 30, 34]\nEl número generado aleatoriamente es mayor o igual que épsilon, se elige el siguiente estado con más valor entre los posibles: 30.\nSe actualiza el valor de Q[21][30] a 999.9999999999997.\nActualizamos la celda actual a 30.\nSe actualiza el valor de épsilon a 0.\nSe alcanza la celda objetivo.\n\nEpisodio 993: Se establece 12 como celda de inicio, y se toma como celda objetivo la 30.\nLa lista de siguientes celdas posibles es: [5, 7, 17, 23, 27, 29, 31, 33]\nEl número generado aleatoriamente es mayor o igual que épsilon, se elige el siguiente estado con más valor entre los posibles: 5.\nSe actualiza el valor de Q[12][5] a 742.5999999999997.\nActualizamos la celda actual a 5.\nLa lista de siguientes celdas posibles es: [0, 8, 12, 14, 16, 18]\nEl número generado aleatoriamente es mayor o igual que épsilon, se elige el siguiente estado con más valor entre los posibles: 18.\nSe actualiza el valor de Q[5][18] a 823.9999999999997.\nActualizamos la celda actual a 18.\nLa lista de siguientes celdas posibles es: [5, 9, 13, 21, 25, 29]\nEl número generado aleatoriamente es mayor o igual que épsilon, se elige el siguiente estado con más valor entre los posibles: 21.\nSe actualiza el valor de Q[18][21] a 909.9999999999997.\nActualizamos la celda actual a 21.\nLa lista de siguientes celdas posibles es: [6, 14, 18, 28, 30, 34]\nEl número generado aleatoriamente es mayor o igual que épsilon, se elige el siguiente estado con más valor entre los posibles: 30.\nSe actualiza el valor de Q[21][30] a 999.9999999999997.\nActualizamos la celda actual a 30.\nSe actualiza el valor de épsilon a 0.\nSe alcanza la celda objetivo.\n\nEpisodio 994: Se establece 31 como celda de inicio, y se toma como celda objetivo la 30.\nLa lista de siguientes celdas posibles es: [12, 22, 28]\nEl número generado aleatoriamente es mayor o igual que épsilon, se elige el siguiente estado con más valor entre los posibles: 28.\nSe actualiza el valor de Q[31][28] a 818.9999999999997.\nActualizamos la celda actual a 28.\nLa lista de siguientes celdas posibles es: [11, 17, 21, 31]\nEl número generado aleatoriamente es mayor o igual que épsilon, se elige el siguiente estado con más valor entre los posibles: 21.\nSe actualiza el valor de Q[28][21] a 909.9999999999997.\nActualizamos la celda actual a 21.\nLa lista de siguientes celdas posibles es: [6, 14, 18, 28, 30, 34]\nEl número generado aleatoriamente es mayor o igual que épsilon, se elige el siguiente estado con más valor entre los posibles: 30.\nSe actualiza el valor de Q[21][30] a 999.9999999999997.\nActualizamos la celda actual a 30.\nSe actualiza el valor de épsilon a 0.\nSe alcanza la celda objetivo.\n\nEpisodio 995: Se establece 27 como celda de inicio, y se toma como celda objetivo la 30.\nLa lista de siguientes celdas posibles es: [10, 12, 16, 20]\nEl número generado aleatoriamente es mayor o igual que épsilon, se elige el siguiente estado con más valor entre los posibles: 10.\nSe actualiza el valor de Q[27][10] a 809.9999999999997.\nActualizamos la celda actual a 10.\nLa lista de siguientes celdas posibles es: [1, 7, 13, 19, 25, 27]\nEl número generado aleatoriamente es mayor o igual que épsilon, se elige el siguiente estado con más valor entre los posibles: 19.\nSe actualiza el valor de Q[10][19] a 899.9999999999997.\nActualizamos la celda actual a 19.\nLa lista de siguientes celdas posibles es: [6, 10, 22, 26, 30, 32]\nEl número generado aleatoriamente es mayor o igual que épsilon, se elige el siguiente estado con más valor entre los posibles: 30.\nSe actualiza el valor de Q[19][30] a 999.9999999999997.\nActualizamos la celda actual a 30.\nSe actualiza el valor de épsilon a 0.\nSe alcanza la celda objetivo.\n\nEpisodio 996: Se establece 6 como celda de inicio, y se toma como celda objetivo la 30.\nLa lista de siguientes celdas posibles es: [1, 3, 15, 16, 18, 19, 21, 23]\nEl número generado aleatoriamente es mayor o igual que épsilon, se elige el siguiente estado con más valor entre los posibles: 21.\nSe actualiza el valor de Q[6][21] a 909.9999999999997.\nActualizamos la celda actual a 21.\nLa lista de siguientes celdas posibles es: [6, 14, 18, 28, 30, 34]\nEl número generado aleatoriamente es mayor o igual que épsilon, se elige el siguiente estado con más valor entre los posibles: 30.\nSe actualiza el valor de Q[21][30] a 999.9999999999997.\nActualizamos la celda actual a 30.\nSe actualiza el valor de épsilon a 0.\nSe alcanza la celda objetivo.\n\nEpisodio 997: Se establece 9 como celda de inicio, y se toma como celda objetivo la 30.\nLa lista de siguientes celdas posibles es: [2, 6, 18, 26]\nEl número generado aleatoriamente es mayor o igual que épsilon, se elige el siguiente estado con más valor entre los posibles: 18.\nSe actualiza el valor de Q[9][18] a 823.9999999999997.\nActualizamos la celda actual a 18.\nLa lista de siguientes celdas posibles es: [5, 9, 13, 21, 25, 29]\nEl número generado aleatoriamente es mayor o igual que épsilon, se elige el siguiente estado con más valor entre los posibles: 21.\nSe actualiza el valor de Q[18][21] a 909.9999999999997.\nActualizamos la celda actual a 21.\nLa lista de siguientes celdas posibles es: [6, 14, 18, 28, 30, 34]\nEl número generado aleatoriamente es mayor o igual que épsilon, se elige el siguiente estado con más valor entre los posibles: 30.\nSe actualiza el valor de Q[21][30] a 999.9999999999997.\nActualizamos la celda actual a 30.\nSe actualiza el valor de épsilon a 0.\nSe alcanza la celda objetivo.\n\nEpisodio 998: Se establece 25 como celda de inicio, y se toma como celda objetivo la 30.\nLa lista de siguientes celdas posibles es: [10, 18]\nEl número generado aleatoriamente es mayor o igual que épsilon, se elige el siguiente estado con más valor entre los posibles: 18.\nSe actualiza el valor de Q[25][18] a 823.9999999999997.\nActualizamos la celda actual a 18.\nLa lista de siguientes celdas posibles es: [5, 9, 13, 21, 25, 29]\nEl número generado aleatoriamente es mayor o igual que épsilon, se elige el siguiente estado con más valor entre los posibles: 21.\nSe actualiza el valor de Q[18][21] a 909.9999999999997.\nActualizamos la celda actual a 21.\nLa lista de siguientes celdas posibles es: [6, 14, 18, 28, 30, 34]\nEl número generado aleatoriamente es mayor o igual que épsilon, se elige el siguiente estado con más valor entre los posibles: 30.\nSe actualiza el valor de Q[21][30] a 999.9999999999997.\nActualizamos la celda actual a 30.\nSe actualiza el valor de épsilon a 0.\nSe alcanza la celda objetivo.\n\nEpisodio 999: Se establece 11 como celda de inicio, y se toma como celda objetivo la 30.\nLa lista de siguientes celdas posibles es: [2, 4, 14, 16, 20, 22, 26, 28]\nEl número generado aleatoriamente es mayor o igual que épsilon, se elige el siguiente estado con más valor entre los posibles: 14.\nSe actualiza el valor de Q[11][14] a 818.9999999999997.\nActualizamos la celda actual a 14.\nLa lista de siguientes celdas posibles es: [3, 5, 11, 21, 33, 35]\nEl número generado aleatoriamente es mayor o igual que épsilon, se elige el siguiente estado con más valor entre los posibles: 21.\nSe actualiza el valor de Q[14][21] a 909.9999999999997.\nActualizamos la celda actual a 21.\nLa lista de siguientes celdas posibles es: [6, 14, 18, 28, 30, 34]\nEl número generado aleatoriamente es mayor o igual que épsilon, se elige el siguiente estado con más valor entre los posibles: 30.\nSe actualiza el valor de Q[21][30] a 999.9999999999997.\nActualizamos la celda actual a 30.\nSe actualiza el valor de épsilon a 0.\nSe alcanza la celda objetivo.\n\nEpisodio 1000: Se establece 3 como celda de inicio, y se toma como celda objetivo la 30.\nLa lista de siguientes celdas posibles es: [4, 6, 14]\nEl número generado aleatoriamente es mayor o igual que épsilon, se elige el siguiente estado con más valor entre los posibles: 6.\nSe actualiza el valor de Q[3][6] a 818.9999999999997.\nActualizamos la celda actual a 6.\nLa lista de siguientes celdas posibles es: [1, 3, 15, 16, 18, 19, 21, 23]\nEl número generado aleatoriamente es mayor o igual que épsilon, se elige el siguiente estado con más valor entre los posibles: 21.\nSe actualiza el valor de Q[6][21] a 909.9999999999997.\nActualizamos la celda actual a 21.\nLa lista de siguientes celdas posibles es: [6, 14, 18, 28, 30, 34]\nEl número generado aleatoriamente es mayor o igual que épsilon, se elige el siguiente estado con más valor entre los posibles: 30.\nSe actualiza el valor de Q[21][30] a 999.9999999999997.\nActualizamos la celda actual a 30.\nSe actualiza el valor de épsilon a 0.\nSe alcanza la celda objetivo.\n"
    }
   ],
   "source": [
    "#Iniciamos el contador de tiempo para medidas de rendimiento\n",
    "start = time.time()\n",
    "\n",
    "rango = range(episodios)\n",
    "\n",
    "for x in rango:\n",
    "    inicio = randint(0, tamano-1)\n",
    "    print(\"\\nEpisodio \" + str(x+1) + \": Se establece \" + str(inicio) + \" como celda de inicio, y se toma como celda objetivo la \" + str(objetivo) + \".\")\n",
    "    actual = inicio\n",
    "    while actual != objetivo:\n",
    "        posibles = []\n",
    "        for y in range(tamano):\n",
    "            if R[actual][y] != -1:\n",
    "                posibles.append(y)\n",
    "        print(\"La lista de siguientes celdas posibles es: \" + str(posibles))\n",
    "        # Implementación epsilon fase 2\n",
    "        aleatorioEpsilon = random.uniform(0,1)\n",
    "\n",
    "        # Si el valor aleatorio es menor que epsilon\n",
    "        if aleatorioEpsilon < epsilon:\n",
    "            # Elegimos aleatoriamente el estado siguiente\n",
    "            aleatorioPosibles = randint(0,int(len(posibles)-1))\n",
    "            aleatorio = posibles[aleatorioPosibles]\n",
    "            print(\"El número generado aleatoriamente es menor que épsilon, el siguiente estado se elige al azar: \" + str(aleatorio) + \".\")\n",
    "        # Si el valor aleatorio es mayor que epsilon\n",
    "        else:\n",
    "            posiblesValor = []\n",
    "            for posible in posibles:\n",
    "                supuestosPosible = []\n",
    "                # Analizamos cuales son las celdas viables segun la matriz R\n",
    "                for aux in range(tamano):\n",
    "                    if R[posible][aux] != -1:\n",
    "                        # Calculamos el valor de dicha celda en nuestra matriz Q\n",
    "                        valor = Q[posible][aux]\n",
    "                        supuestosPosible.append(valor)\n",
    "                # Seleccionamos la celda con mayor valor en nuestra matriz\n",
    "                maximoSupuestosPosible = max(supuestosPosible)\n",
    "                posiblesValor.append(R[actual][posible] + gamma * maximoSupuestosPosible)\n",
    "            aleatorio = posibles[np.argmax(posiblesValor)]\n",
    "            print(\"El número generado aleatoriamente es mayor o igual que épsilon, se elige el siguiente estado con más valor entre los posibles: \" + str(aleatorio) + \".\")\n",
    "        ##---------------------\n",
    "        supuestos = []\n",
    "        for z in range(tamano):\n",
    "            if R[aleatorio][z] != -1:\n",
    "                calculo = Q[aleatorio][z]\n",
    "                supuestos.append(calculo)\n",
    "        maximoSupuestos = max(supuestos)\n",
    "        # Actualizamos el valor de Q segun los estados seleccionados\n",
    "        Q[actual][aleatorio] = R[actual][aleatorio] + gamma * maximoSupuestos\n",
    "        print(\"Se actualiza el valor de Q[\" + str(actual) + \"]\" + \"[\" + str(aleatorio) + \"] a \" + str(Q[actual][aleatorio]) + \".\" )\n",
    "        actual = aleatorio\n",
    "        print(\"Actualizamos la celda actual a \" + str(actual) + \".\")\n",
    "    # Actualizamos el valor de Q para la celda objetivo\n",
    "    Q[actual][actual] = R[actual][actual] + gamma * Q[actual][actual]\n",
    "    # Actualizamos el valor de epsilon en base al alpha definido y repetimos la iteracion hasta el ultimo episodio\n",
    "    epsilon = epsilon * alpha\n",
    "    print(\"Se actualiza el valor de épsilon a \" + str(epsilon) + \".\")\n",
    "    print(\"Se alcanza la celda objetivo.\")\n",
    "\n",
    "#Finalizamos el contador de tiempo para medidas de rendimiento\n",
    "end = time.time()"
   ]
  },
  {
   "cell_type": "markdown",
   "metadata": {},
   "source": [
    "## Matriz Q resultante\n",
    "Así queda la matriz Q después de completar todos los episodios."
   ]
  },
  {
   "cell_type": "code",
   "execution_count": 777,
   "metadata": {
    "tags": [
     "outputPrepend"
    ]
   },
   "outputs": [
    {
     "output_type": "stream",
     "name": "stdout",
     "text": " 0.00000000e+00 0.00000000e+00 0.00000000e+00 0.00000000e+00\n  0.00000000e+00 0.00000000e+00 0.00000000e+00 0.00000000e+00\n  0.00000000e+00 0.00000000e+00 0.00000000e+00 0.00000000e+00\n  0.00000000e+00 0.00000000e+00 0.00000000e+00 0.00000000e+00\n  0.00000000e+00 0.00000000e+00 0.00000000e+00 0.00000000e+00\n  0.00000000e+00 0.00000000e+00 0.00000000e+00 0.00000000e+00\n  0.00000000e+00 0.00000000e+00 0.00000000e+00 0.00000000e+00]\n [0.00000000e+00 0.00000000e+00 0.00000000e+00 0.00000000e+00\n  0.00000000e+00 0.00000000e+00 8.19000000e+02 0.00000000e+00\n  0.00000000e+00 0.00000000e+00 0.00000000e+00 0.00000000e+00\n  0.00000000e+00 0.00000000e+00 0.00000000e+00 0.00000000e+00\n  0.00000000e+00 0.00000000e+00 0.00000000e+00 0.00000000e+00\n  0.00000000e+00 0.00000000e+00 0.00000000e+00 0.00000000e+00\n  0.00000000e+00 0.00000000e+00 0.00000000e+00 0.00000000e+00\n  0.00000000e+00 0.00000000e+00 0.00000000e+00 0.00000000e+00\n  0.00000000e+00 0.00000000e+00 0.00000000e+00 0.00000000e+00]\n [0.00000000e+00 0.00000000e+00 0.00000000e+00 0.00000000e+00\n  0.00000000e+00 0.00000000e+00 0.00000000e+00 0.00000000e+00\n  0.00000000e+00 7.41600000e+02 0.00000000e+00 0.00000000e+00\n  0.00000000e+00 7.41600000e+02 0.00000000e+00 0.00000000e+00\n  0.00000000e+00 0.00000000e+00 0.00000000e+00 0.00000000e+00\n  0.00000000e+00 0.00000000e+00 0.00000000e+00 0.00000000e+00\n  0.00000000e+00 0.00000000e+00 0.00000000e+00 0.00000000e+00\n  0.00000000e+00 0.00000000e+00 0.00000000e+00 0.00000000e+00\n  0.00000000e+00 0.00000000e+00 0.00000000e+00 0.00000000e+00]\n [0.00000000e+00 0.00000000e+00 0.00000000e+00 0.00000000e+00\n  0.00000000e+00 0.00000000e+00 8.19000000e+02 0.00000000e+00\n  0.00000000e+00 0.00000000e+00 0.00000000e+00 0.00000000e+00\n  0.00000000e+00 0.00000000e+00 8.19000000e+02 0.00000000e+00\n  0.00000000e+00 0.00000000e+00 0.00000000e+00 0.00000000e+00\n  0.00000000e+00 0.00000000e+00 0.00000000e+00 0.00000000e+00\n  0.00000000e+00 0.00000000e+00 0.00000000e+00 0.00000000e+00\n  0.00000000e+00 0.00000000e+00 0.00000000e+00 0.00000000e+00\n  0.00000000e+00 0.00000000e+00 0.00000000e+00 0.00000000e+00]\n [0.00000000e+00 0.00000000e+00 0.00000000e+00 7.37100000e+02\n  0.00000000e+00 0.00000000e+00 0.00000000e+00 0.00000000e+00\n  0.00000000e+00 0.00000000e+00 0.00000000e+00 7.37100000e+02\n  0.00000000e+00 0.00000000e+00 0.00000000e+00 0.00000000e+00\n  0.00000000e+00 7.37099987e+02 0.00000000e+00 0.00000000e+00\n  0.00000000e+00 0.00000000e+00 0.00000000e+00 0.00000000e+00\n  0.00000000e+00 0.00000000e+00 0.00000000e+00 0.00000000e+00\n  0.00000000e+00 0.00000000e+00 0.00000000e+00 0.00000000e+00\n  0.00000000e+00 0.00000000e+00 0.00000000e+00 0.00000000e+00]\n [0.00000000e+00 0.00000000e+00 0.00000000e+00 0.00000000e+00\n  0.00000000e+00 0.00000000e+00 0.00000000e+00 0.00000000e+00\n  0.00000000e+00 0.00000000e+00 0.00000000e+00 0.00000000e+00\n  0.00000000e+00 0.00000000e+00 0.00000000e+00 0.00000000e+00\n  0.00000000e+00 0.00000000e+00 8.24000000e+02 0.00000000e+00\n  0.00000000e+00 0.00000000e+00 0.00000000e+00 0.00000000e+00\n  0.00000000e+00 0.00000000e+00 0.00000000e+00 0.00000000e+00\n  0.00000000e+00 0.00000000e+00 0.00000000e+00 0.00000000e+00\n  0.00000000e+00 0.00000000e+00 0.00000000e+00 0.00000000e+00]\n [0.00000000e+00 0.00000000e+00 0.00000000e+00 0.00000000e+00\n  0.00000000e+00 0.00000000e+00 0.00000000e+00 0.00000000e+00\n  0.00000000e+00 0.00000000e+00 0.00000000e+00 0.00000000e+00\n  0.00000000e+00 0.00000000e+00 0.00000000e+00 0.00000000e+00\n  0.00000000e+00 0.00000000e+00 0.00000000e+00 0.00000000e+00\n  0.00000000e+00 9.10000000e+02 0.00000000e+00 0.00000000e+00\n  0.00000000e+00 0.00000000e+00 0.00000000e+00 0.00000000e+00\n  0.00000000e+00 0.00000000e+00 0.00000000e+00 0.00000000e+00\n  0.00000000e+00 0.00000000e+00 0.00000000e+00 0.00000000e+00]\n [4.95000000e+00 0.00000000e+00 0.00000000e+00 0.00000000e+00\n  5.91600201e+02 0.00000000e+00 0.00000000e+00 0.00000000e+00\n  0.00000000e+00 0.00000000e+00 8.10000000e+02 0.00000000e+00\n  0.00000000e+00 0.00000000e+00 0.00000000e+00 0.00000000e+00\n  0.00000000e+00 0.00000000e+00 0.00000000e+00 0.00000000e+00\n  0.00000000e+00 0.00000000e+00 8.10000000e+02 0.00000000e+00\n  0.00000000e+00 0.00000000e+00 0.00000000e+00 0.00000000e+00\n  0.00000000e+00 0.00000000e+00 0.00000000e+00 0.00000000e+00\n  0.00000000e+00 0.00000000e+00 0.00000000e+00 0.00000000e+00]\n [0.00000000e+00 0.00000000e+00 0.00000000e+00 0.00000000e+00\n  0.00000000e+00 7.42600000e+02 0.00000000e+00 0.00000000e+00\n  0.00000000e+00 0.00000000e+00 0.00000000e+00 0.00000000e+00\n  0.00000000e+00 7.40538883e+02 0.00000000e+00 0.00000000e+00\n  0.00000000e+00 0.00000000e+00 0.00000000e+00 0.00000000e+00\n  0.00000000e+00 0.00000000e+00 0.00000000e+00 0.00000000e+00\n  0.00000000e+00 0.00000000e+00 0.00000000e+00 0.00000000e+00\n  0.00000000e+00 0.00000000e+00 0.00000000e+00 0.00000000e+00\n  0.00000000e+00 0.00000000e+00 0.00000000e+00 0.00000000e+00]\n [0.00000000e+00 0.00000000e+00 0.00000000e+00 0.00000000e+00\n  0.00000000e+00 0.00000000e+00 6.52228183e+02 0.00000000e+00\n  0.00000000e+00 0.00000000e+00 0.00000000e+00 0.00000000e+00\n  0.00000000e+00 0.00000000e+00 0.00000000e+00 0.00000000e+00\n  0.00000000e+00 0.00000000e+00 8.24000000e+02 0.00000000e+00\n  0.00000000e+00 0.00000000e+00 0.00000000e+00 0.00000000e+00\n  0.00000000e+00 0.00000000e+00 0.00000000e+00 0.00000000e+00\n  0.00000000e+00 0.00000000e+00 0.00000000e+00 0.00000000e+00\n  0.00000000e+00 0.00000000e+00 0.00000000e+00 0.00000000e+00]\n [0.00000000e+00 0.00000000e+00 0.00000000e+00 0.00000000e+00\n  0.00000000e+00 0.00000000e+00 0.00000000e+00 8.10000000e-01\n  0.00000000e+00 0.00000000e+00 0.00000000e+00 0.00000000e+00\n  0.00000000e+00 7.03447958e+02 0.00000000e+00 0.00000000e+00\n  0.00000000e+00 0.00000000e+00 0.00000000e+00 9.00000000e+02\n  0.00000000e+00 0.00000000e+00 0.00000000e+00 0.00000000e+00\n  0.00000000e+00 0.00000000e+00 0.00000000e+00 0.00000000e+00\n  0.00000000e+00 0.00000000e+00 0.00000000e+00 0.00000000e+00\n  0.00000000e+00 0.00000000e+00 0.00000000e+00 0.00000000e+00]\n [0.00000000e+00 0.00000000e+00 0.00000000e+00 0.00000000e+00\n  0.00000000e+00 0.00000000e+00 0.00000000e+00 0.00000000e+00\n  0.00000000e+00 0.00000000e+00 0.00000000e+00 0.00000000e+00\n  0.00000000e+00 0.00000000e+00 8.19000000e+02 0.00000000e+00\n  0.00000000e+00 0.00000000e+00 0.00000000e+00 0.00000000e+00\n  0.00000000e+00 0.00000000e+00 0.00000000e+00 0.00000000e+00\n  0.00000000e+00 0.00000000e+00 0.00000000e+00 0.00000000e+00\n  8.18840732e+02 0.00000000e+00 0.00000000e+00 0.00000000e+00\n  0.00000000e+00 0.00000000e+00 0.00000000e+00 0.00000000e+00]\n [0.00000000e+00 0.00000000e+00 0.00000000e+00 0.00000000e+00\n  0.00000000e+00 7.42600000e+02 0.00000000e+00 0.00000000e+00\n  0.00000000e+00 0.00000000e+00 0.00000000e+00 0.00000000e+00\n  0.00000000e+00 0.00000000e+00 0.00000000e+00 0.00000000e+00\n  0.00000000e+00 0.00000000e+00 0.00000000e+00 0.00000000e+00\n  0.00000000e+00 0.00000000e+00 0.00000000e+00 0.00000000e+00\n  0.00000000e+00 0.00000000e+00 0.00000000e+00 0.00000000e+00\n  0.00000000e+00 0.00000000e+00 0.00000000e+00 0.00000000e+00\n  0.00000000e+00 6.94708842e+02 0.00000000e+00 0.00000000e+00]\n [0.00000000e+00 0.00000000e+00 0.00000000e+00 0.00000000e+00\n  0.00000000e+00 0.00000000e+00 0.00000000e+00 0.00000000e+00\n  0.00000000e+00 0.00000000e+00 0.00000000e+00 0.00000000e+00\n  0.00000000e+00 0.00000000e+00 0.00000000e+00 0.00000000e+00\n  0.00000000e+00 0.00000000e+00 8.24000000e+02 0.00000000e+00\n  0.00000000e+00 0.00000000e+00 0.00000000e+00 0.00000000e+00\n  0.00000000e+00 0.00000000e+00 0.00000000e+00 0.00000000e+00\n  0.00000000e+00 0.00000000e+00 0.00000000e+00 0.00000000e+00\n  0.00000000e+00 0.00000000e+00 0.00000000e+00 0.00000000e+00]\n [0.00000000e+00 0.00000000e+00 0.00000000e+00 0.00000000e+00\n  0.00000000e+00 0.00000000e+00 0.00000000e+00 0.00000000e+00\n  0.00000000e+00 0.00000000e+00 0.00000000e+00 0.00000000e+00\n  0.00000000e+00 0.00000000e+00 0.00000000e+00 0.00000000e+00\n  0.00000000e+00 0.00000000e+00 0.00000000e+00 0.00000000e+00\n  0.00000000e+00 9.10000000e+02 0.00000000e+00 0.00000000e+00\n  0.00000000e+00 0.00000000e+00 0.00000000e+00 0.00000000e+00\n  0.00000000e+00 0.00000000e+00 0.00000000e+00 0.00000000e+00\n  0.00000000e+00 0.00000000e+00 0.00000000e+00 0.00000000e+00]\n [0.00000000e+00 0.00000000e+00 0.00000000e+00 0.00000000e+00\n  0.00000000e+00 0.00000000e+00 8.19000000e+02 0.00000000e+00\n  0.00000000e+00 0.00000000e+00 0.00000000e+00 0.00000000e+00\n  0.00000000e+00 0.00000000e+00 0.00000000e+00 0.00000000e+00\n  0.00000000e+00 0.00000000e+00 0.00000000e+00 0.00000000e+00\n  0.00000000e+00 0.00000000e+00 0.00000000e+00 0.00000000e+00\n  0.00000000e+00 0.00000000e+00 0.00000000e+00 0.00000000e+00\n  0.00000000e+00 0.00000000e+00 0.00000000e+00 0.00000000e+00\n  0.00000000e+00 0.00000000e+00 8.19000000e+02 0.00000000e+00]\n [0.00000000e+00 0.00000000e+00 0.00000000e+00 0.00000000e+00\n  0.00000000e+00 7.42600000e+02 0.00000000e+00 0.00000000e+00\n  0.00000000e+00 0.00000000e+00 0.00000000e+00 0.00000000e+00\n  0.00000000e+00 0.00000000e+00 0.00000000e+00 0.00000000e+00\n  0.00000000e+00 0.00000000e+00 0.00000000e+00 0.00000000e+00\n  0.00000000e+00 0.00000000e+00 0.00000000e+00 0.00000000e+00\n  0.00000000e+00 0.00000000e+00 0.00000000e+00 5.69792846e+02\n  0.00000000e+00 0.00000000e+00 0.00000000e+00 0.00000000e+00\n  0.00000000e+00 0.00000000e+00 0.00000000e+00 0.00000000e+00]\n [0.00000000e+00 0.00000000e+00 0.00000000e+00 0.00000000e+00\n  0.00000000e+00 0.00000000e+00 8.19000000e+02 0.00000000e+00\n  0.00000000e+00 0.00000000e+00 0.00000000e+00 0.00000000e+00\n  0.00000000e+00 0.00000000e+00 0.00000000e+00 0.00000000e+00\n  0.00000000e+00 0.00000000e+00 0.00000000e+00 0.00000000e+00\n  0.00000000e+00 0.00000000e+00 0.00000000e+00 0.00000000e+00\n  0.00000000e+00 0.00000000e+00 0.00000000e+00 0.00000000e+00\n  8.18999985e+02 0.00000000e+00 0.00000000e+00 0.00000000e+00\n  0.00000000e+00 0.00000000e+00 0.00000000e+00 0.00000000e+00]\n [0.00000000e+00 0.00000000e+00 0.00000000e+00 0.00000000e+00\n  0.00000000e+00 0.00000000e+00 0.00000000e+00 0.00000000e+00\n  0.00000000e+00 0.00000000e+00 0.00000000e+00 0.00000000e+00\n  0.00000000e+00 0.00000000e+00 0.00000000e+00 0.00000000e+00\n  0.00000000e+00 0.00000000e+00 0.00000000e+00 0.00000000e+00\n  0.00000000e+00 9.10000000e+02 0.00000000e+00 0.00000000e+00\n  0.00000000e+00 0.00000000e+00 0.00000000e+00 0.00000000e+00\n  0.00000000e+00 0.00000000e+00 0.00000000e+00 0.00000000e+00\n  0.00000000e+00 0.00000000e+00 0.00000000e+00 0.00000000e+00]\n [0.00000000e+00 0.00000000e+00 0.00000000e+00 0.00000000e+00\n  0.00000000e+00 0.00000000e+00 0.00000000e+00 0.00000000e+00\n  0.00000000e+00 0.00000000e+00 0.00000000e+00 0.00000000e+00\n  0.00000000e+00 0.00000000e+00 0.00000000e+00 0.00000000e+00\n  0.00000000e+00 0.00000000e+00 0.00000000e+00 0.00000000e+00\n  0.00000000e+00 0.00000000e+00 0.00000000e+00 0.00000000e+00\n  0.00000000e+00 0.00000000e+00 0.00000000e+00 0.00000000e+00\n  0.00000000e+00 0.00000000e+00 1.00000000e+03 0.00000000e+00\n  0.00000000e+00 0.00000000e+00 0.00000000e+00 0.00000000e+00]\n [0.00000000e+00 0.00000000e+00 0.00000000e+00 0.00000000e+00\n  0.00000000e+00 0.00000000e+00 0.00000000e+00 0.00000000e+00\n  0.00000000e+00 0.00000000e+00 0.00000000e+00 0.00000000e+00\n  0.00000000e+00 7.41600000e+02 0.00000000e+00 0.00000000e+00\n  0.00000000e+00 0.00000000e+00 0.00000000e+00 0.00000000e+00\n  0.00000000e+00 0.00000000e+00 0.00000000e+00 0.00000000e+00\n  0.00000000e+00 0.00000000e+00 0.00000000e+00 0.00000000e+00\n  0.00000000e+00 0.00000000e+00 0.00000000e+00 0.00000000e+00\n  0.00000000e+00 0.00000000e+00 0.00000000e+00 0.00000000e+00]\n [0.00000000e+00 0.00000000e+00 0.00000000e+00 0.00000000e+00\n  0.00000000e+00 0.00000000e+00 0.00000000e+00 0.00000000e+00\n  0.00000000e+00 0.00000000e+00 0.00000000e+00 0.00000000e+00\n  0.00000000e+00 0.00000000e+00 0.00000000e+00 0.00000000e+00\n  0.00000000e+00 0.00000000e+00 0.00000000e+00 0.00000000e+00\n  0.00000000e+00 0.00000000e+00 0.00000000e+00 0.00000000e+00\n  0.00000000e+00 0.00000000e+00 0.00000000e+00 0.00000000e+00\n  0.00000000e+00 0.00000000e+00 1.00000000e+03 0.00000000e+00\n  0.00000000e+00 0.00000000e+00 0.00000000e+00 0.00000000e+00]\n [0.00000000e+00 0.00000000e+00 0.00000000e+00 0.00000000e+00\n  0.00000000e+00 0.00000000e+00 0.00000000e+00 0.00000000e+00\n  0.00000000e+00 0.00000000e+00 0.00000000e+00 0.00000000e+00\n  0.00000000e+00 0.00000000e+00 0.00000000e+00 6.48470619e+02\n  0.00000000e+00 0.00000000e+00 0.00000000e+00 9.00000000e+02\n  0.00000000e+00 0.00000000e+00 0.00000000e+00 0.00000000e+00\n  0.00000000e+00 0.00000000e+00 0.00000000e+00 0.00000000e+00\n  0.00000000e+00 0.00000000e+00 0.00000000e+00 0.00000000e+00\n  0.00000000e+00 0.00000000e+00 0.00000000e+00 0.00000000e+00]\n [0.00000000e+00 0.00000000e+00 0.00000000e+00 0.00000000e+00\n  0.00000000e+00 0.00000000e+00 8.19000000e+02 0.00000000e+00\n  0.00000000e+00 0.00000000e+00 0.00000000e+00 0.00000000e+00\n  0.00000000e+00 0.00000000e+00 0.00000000e+00 0.00000000e+00\n  0.00000000e+00 0.00000000e+00 0.00000000e+00 0.00000000e+00\n  0.00000000e+00 0.00000000e+00 0.00000000e+00 0.00000000e+00\n  0.00000000e+00 0.00000000e+00 0.00000000e+00 0.00000000e+00\n  0.00000000e+00 0.00000000e+00 0.00000000e+00 0.00000000e+00\n  0.00000000e+00 0.00000000e+00 0.00000000e+00 0.00000000e+00]\n [0.00000000e+00 0.00000000e+00 0.00000000e+00 0.00000000e+00\n  0.00000000e+00 0.00000000e+00 0.00000000e+00 0.00000000e+00\n  0.00000000e+00 0.00000000e+00 0.00000000e+00 0.00000000e+00\n  0.00000000e+00 7.41600000e+02 0.00000000e+00 0.00000000e+00\n  0.00000000e+00 0.00000000e+00 0.00000000e+00 0.00000000e+00\n  0.00000000e+00 0.00000000e+00 0.00000000e+00 0.00000000e+00\n  0.00000000e+00 0.00000000e+00 0.00000000e+00 0.00000000e+00\n  0.00000000e+00 0.00000000e+00 0.00000000e+00 0.00000000e+00\n  0.00000000e+00 7.12068445e+02 0.00000000e+00 0.00000000e+00]\n [0.00000000e+00 0.00000000e+00 0.00000000e+00 0.00000000e+00\n  0.00000000e+00 0.00000000e+00 0.00000000e+00 0.00000000e+00\n  0.00000000e+00 0.00000000e+00 0.00000000e+00 0.00000000e+00\n  0.00000000e+00 0.00000000e+00 0.00000000e+00 0.00000000e+00\n  0.00000000e+00 0.00000000e+00 8.24000000e+02 0.00000000e+00\n  0.00000000e+00 0.00000000e+00 0.00000000e+00 0.00000000e+00\n  0.00000000e+00 0.00000000e+00 0.00000000e+00 0.00000000e+00\n  0.00000000e+00 0.00000000e+00 0.00000000e+00 0.00000000e+00\n  0.00000000e+00 0.00000000e+00 0.00000000e+00 0.00000000e+00]\n [0.00000000e+00 0.00000000e+00 0.00000000e+00 0.00000000e+00\n  0.00000000e+00 0.00000000e+00 0.00000000e+00 0.00000000e+00\n  0.00000000e+00 2.63303100e+02 0.00000000e+00 0.00000000e+00\n  0.00000000e+00 0.00000000e+00 0.00000000e+00 0.00000000e+00\n  0.00000000e+00 0.00000000e+00 0.00000000e+00 9.00000000e+02\n  0.00000000e+00 0.00000000e+00 0.00000000e+00 0.00000000e+00\n  0.00000000e+00 0.00000000e+00 0.00000000e+00 0.00000000e+00\n  0.00000000e+00 0.00000000e+00 0.00000000e+00 0.00000000e+00\n  0.00000000e+00 0.00000000e+00 0.00000000e+00 0.00000000e+00]\n [0.00000000e+00 0.00000000e+00 0.00000000e+00 0.00000000e+00\n  0.00000000e+00 0.00000000e+00 0.00000000e+00 0.00000000e+00\n  0.00000000e+00 0.00000000e+00 8.10000000e+02 0.00000000e+00\n  0.00000000e+00 0.00000000e+00 0.00000000e+00 0.00000000e+00\n  0.00000000e+00 0.00000000e+00 0.00000000e+00 0.00000000e+00\n  0.00000000e+00 0.00000000e+00 0.00000000e+00 0.00000000e+00\n  0.00000000e+00 0.00000000e+00 0.00000000e+00 0.00000000e+00\n  0.00000000e+00 0.00000000e+00 0.00000000e+00 0.00000000e+00\n  0.00000000e+00 0.00000000e+00 0.00000000e+00 0.00000000e+00]\n [0.00000000e+00 0.00000000e+00 0.00000000e+00 0.00000000e+00\n  0.00000000e+00 0.00000000e+00 0.00000000e+00 0.00000000e+00\n  0.00000000e+00 0.00000000e+00 0.00000000e+00 0.00000000e+00\n  0.00000000e+00 0.00000000e+00 0.00000000e+00 0.00000000e+00\n  0.00000000e+00 0.00000000e+00 0.00000000e+00 0.00000000e+00\n  0.00000000e+00 9.10000000e+02 0.00000000e+00 0.00000000e+00\n  0.00000000e+00 0.00000000e+00 0.00000000e+00 0.00000000e+00\n  0.00000000e+00 0.00000000e+00 0.00000000e+00 0.00000000e+00\n  0.00000000e+00 0.00000000e+00 0.00000000e+00 0.00000000e+00]\n [0.00000000e+00 0.00000000e+00 0.00000000e+00 0.00000000e+00\n  0.00000000e+00 0.00000000e+00 0.00000000e+00 0.00000000e+00\n  0.00000000e+00 0.00000000e+00 0.00000000e+00 0.00000000e+00\n  0.00000000e+00 0.00000000e+00 0.00000000e+00 0.00000000e+00\n  0.00000000e+00 0.00000000e+00 8.24000000e+02 0.00000000e+00\n  0.00000000e+00 0.00000000e+00 0.00000000e+00 0.00000000e+00\n  0.00000000e+00 0.00000000e+00 0.00000000e+00 0.00000000e+00\n  0.00000000e+00 0.00000000e+00 0.00000000e+00 0.00000000e+00\n  0.00000000e+00 0.00000000e+00 0.00000000e+00 0.00000000e+00]\n [0.00000000e+00 0.00000000e+00 0.00000000e+00 0.00000000e+00\n  0.00000000e+00 0.00000000e+00 0.00000000e+00 0.00000000e+00\n  0.00000000e+00 0.00000000e+00 0.00000000e+00 0.00000000e+00\n  0.00000000e+00 0.00000000e+00 0.00000000e+00 0.00000000e+00\n  0.00000000e+00 0.00000000e+00 0.00000000e+00 0.00000000e+00\n  0.00000000e+00 0.00000000e+00 0.00000000e+00 0.00000000e+00\n  0.00000000e+00 0.00000000e+00 0.00000000e+00 0.00000000e+00\n  0.00000000e+00 0.00000000e+00 1.00000000e+03 0.00000000e+00\n  0.00000000e+00 0.00000000e+00 0.00000000e+00 0.00000000e+00]\n [0.00000000e+00 0.00000000e+00 0.00000000e+00 0.00000000e+00\n  0.00000000e+00 0.00000000e+00 0.00000000e+00 0.00000000e+00\n  0.00000000e+00 0.00000000e+00 0.00000000e+00 0.00000000e+00\n  0.00000000e+00 0.00000000e+00 0.00000000e+00 0.00000000e+00\n  0.00000000e+00 0.00000000e+00 0.00000000e+00 0.00000000e+00\n  0.00000000e+00 0.00000000e+00 0.00000000e+00 0.00000000e+00\n  0.00000000e+00 0.00000000e+00 0.00000000e+00 0.00000000e+00\n  8.19000000e+02 0.00000000e+00 0.00000000e+00 0.00000000e+00\n  0.00000000e+00 0.00000000e+00 0.00000000e+00 0.00000000e+00]\n [0.00000000e+00 0.00000000e+00 0.00000000e+00 0.00000000e+00\n  0.00000000e+00 0.00000000e+00 0.00000000e+00 0.00000000e+00\n  0.00000000e+00 0.00000000e+00 0.00000000e+00 0.00000000e+00\n  0.00000000e+00 7.07263162e+02 0.00000000e+00 0.00000000e+00\n  0.00000000e+00 0.00000000e+00 0.00000000e+00 9.00000000e+02\n  0.00000000e+00 0.00000000e+00 0.00000000e+00 4.23289404e+02\n  0.00000000e+00 0.00000000e+00 0.00000000e+00 0.00000000e+00\n  0.00000000e+00 0.00000000e+00 0.00000000e+00 0.00000000e+00\n  0.00000000e+00 0.00000000e+00 0.00000000e+00 0.00000000e+00]\n [0.00000000e+00 0.00000000e+00 0.00000000e+00 0.00000000e+00\n  0.00000000e+00 0.00000000e+00 0.00000000e+00 0.00000000e+00\n  0.00000000e+00 0.00000000e+00 0.00000000e+00 0.00000000e+00\n  0.00000000e+00 0.00000000e+00 8.19000000e+02 0.00000000e+00\n  0.00000000e+00 0.00000000e+00 0.00000000e+00 0.00000000e+00\n  0.00000000e+00 0.00000000e+00 0.00000000e+00 0.00000000e+00\n  0.00000000e+00 0.00000000e+00 0.00000000e+00 0.00000000e+00\n  0.00000000e+00 0.00000000e+00 0.00000000e+00 0.00000000e+00\n  0.00000000e+00 0.00000000e+00 0.00000000e+00 0.00000000e+00]\n [0.00000000e+00 0.00000000e+00 0.00000000e+00 0.00000000e+00\n  0.00000000e+00 0.00000000e+00 0.00000000e+00 0.00000000e+00\n  0.00000000e+00 0.00000000e+00 0.00000000e+00 0.00000000e+00\n  0.00000000e+00 0.00000000e+00 0.00000000e+00 0.00000000e+00\n  0.00000000e+00 0.00000000e+00 0.00000000e+00 0.00000000e+00\n  0.00000000e+00 9.10000000e+02 0.00000000e+00 0.00000000e+00\n  0.00000000e+00 0.00000000e+00 0.00000000e+00 0.00000000e+00\n  0.00000000e+00 0.00000000e+00 0.00000000e+00 0.00000000e+00\n  0.00000000e+00 0.00000000e+00 0.00000000e+00 0.00000000e+00]\n [0.00000000e+00 0.00000000e+00 0.00000000e+00 0.00000000e+00\n  0.00000000e+00 0.00000000e+00 0.00000000e+00 0.00000000e+00\n  0.00000000e+00 0.00000000e+00 0.00000000e+00 0.00000000e+00\n  0.00000000e+00 0.00000000e+00 8.19000000e+02 0.00000000e+00\n  0.00000000e+00 0.00000000e+00 0.00000000e+00 0.00000000e+00\n  0.00000000e+00 0.00000000e+00 0.00000000e+00 0.00000000e+00\n  0.00000000e+00 0.00000000e+00 0.00000000e+00 0.00000000e+00\n  0.00000000e+00 0.00000000e+00 0.00000000e+00 0.00000000e+00\n  0.00000000e+00 0.00000000e+00 0.00000000e+00 0.00000000e+00]]\n"
    }
   ],
   "source": [
    "print(Q)"
   ]
  },
  {
   "cell_type": "markdown",
   "metadata": {},
   "source": [
    "## Comprobante\n",
    "Se comprueba que una vez entrenada la matriz Q el agente encuentra el mejor camino, que, por ejemplo partiendo de 0 con las recompensas asignadas debería ser (0 -> 5 -> 18 -> 21 -> 30)."
   ]
  },
  {
   "cell_type": "code",
   "execution_count": 778,
   "metadata": {
    "tags": []
   },
   "outputs": [
    {
     "output_type": "stream",
     "name": "stdout",
     "text": "[0, 5, 18, 21, 30]\n"
    }
   ],
   "source": [
    "inicio = 0\n",
    "objetivo = 30\n",
    "camino = []\n",
    "camino.append(inicio)\n",
    "actual = inicio\n",
    "while actual != objetivo:\n",
    "    siguiente = np.argmax(Q[actual])\n",
    "    camino.append(siguiente)\n",
    "    actual = siguiente\n",
    "print(camino)\n"
   ]
  },
  {
   "cell_type": "markdown",
   "metadata": {},
   "source": [
    "## Rendimiento\n",
    "\n",
    "Se considerarán como medidas de rendimiento:\n",
    "* La suma de todos los valores de Q divididos entre el máximo valor de Q multiplicados por 100.\n",
    "* El tiempo total de la ejecución."
   ]
  },
  {
   "cell_type": "code",
   "execution_count": 779,
   "metadata": {
    "tags": []
   },
   "outputs": [
    {
     "output_type": "stream",
     "name": "stdout",
     "text": "El valor del rendimiento siguiendo la fórmula mencionada es: 4373.985252662909\nEl tiempo total de ejecución en segundos es: 1.6130003929138184\n"
    }
   ],
   "source": [
    "# Obtenemos el valor máximo de la matriz Q\n",
    "maxQ = np.max(Q)\n",
    "# Dividimos cada elemento de la matriz Q por el valor máximo y lo multiplicamos por 100\n",
    "divQ = Q/maxQ*100\n",
    "# Sumamos todos los elementos de la matriz Q\n",
    "sumQ = divQ.sum()\n",
    "#Imprimimos los resultados de rendimiento\n",
    "print(\"El valor del rendimiento siguiendo la fórmula mencionada es: \" + str(divQ.sum()))\n",
    "print(\"El tiempo total de ejecución en segundos es: \" + str(end - start))"
   ]
  },
  {
   "cell_type": "code",
   "execution_count": 780,
   "metadata": {
    "tags": []
   },
   "outputs": [
    {
     "output_type": "stream",
     "name": "stdout",
     "text": "0.00000000e+00 0.00000000e+00 0.00000000e+00 0.00000000e+00\n  0.00000000e+00 0.00000000e+00 0.00000000e+00 0.00000000e+00\n  0.00000000e+00 0.00000000e+00 0.00000000e+00 0.00000000e+00\n  0.00000000e+00 0.00000000e+00 0.00000000e+00 0.00000000e+00\n  0.00000000e+00 0.00000000e+00 0.00000000e+00 0.00000000e+00\n  0.00000000e+00 0.00000000e+00 0.00000000e+00 0.00000000e+00\n  0.00000000e+00 0.00000000e+00 0.00000000e+00 0.00000000e+00]\n [0.00000000e+00 0.00000000e+00 0.00000000e+00 0.00000000e+00\n  0.00000000e+00 0.00000000e+00 8.19000000e+01 0.00000000e+00\n  0.00000000e+00 0.00000000e+00 0.00000000e+00 0.00000000e+00\n  0.00000000e+00 0.00000000e+00 0.00000000e+00 0.00000000e+00\n  0.00000000e+00 0.00000000e+00 0.00000000e+00 0.00000000e+00\n  0.00000000e+00 0.00000000e+00 0.00000000e+00 0.00000000e+00\n  0.00000000e+00 0.00000000e+00 0.00000000e+00 0.00000000e+00\n  0.00000000e+00 0.00000000e+00 0.00000000e+00 0.00000000e+00\n  0.00000000e+00 0.00000000e+00 0.00000000e+00 0.00000000e+00]\n [0.00000000e+00 0.00000000e+00 0.00000000e+00 0.00000000e+00\n  0.00000000e+00 0.00000000e+00 0.00000000e+00 0.00000000e+00\n  0.00000000e+00 7.41600000e+01 0.00000000e+00 0.00000000e+00\n  0.00000000e+00 7.41600000e+01 0.00000000e+00 0.00000000e+00\n  0.00000000e+00 0.00000000e+00 0.00000000e+00 0.00000000e+00\n  0.00000000e+00 0.00000000e+00 0.00000000e+00 0.00000000e+00\n  0.00000000e+00 0.00000000e+00 0.00000000e+00 0.00000000e+00\n  0.00000000e+00 0.00000000e+00 0.00000000e+00 0.00000000e+00\n  0.00000000e+00 0.00000000e+00 0.00000000e+00 0.00000000e+00]\n [0.00000000e+00 0.00000000e+00 0.00000000e+00 0.00000000e+00\n  0.00000000e+00 0.00000000e+00 8.19000000e+01 0.00000000e+00\n  0.00000000e+00 0.00000000e+00 0.00000000e+00 0.00000000e+00\n  0.00000000e+00 0.00000000e+00 8.19000000e+01 0.00000000e+00\n  0.00000000e+00 0.00000000e+00 0.00000000e+00 0.00000000e+00\n  0.00000000e+00 0.00000000e+00 0.00000000e+00 0.00000000e+00\n  0.00000000e+00 0.00000000e+00 0.00000000e+00 0.00000000e+00\n  0.00000000e+00 0.00000000e+00 0.00000000e+00 0.00000000e+00\n  0.00000000e+00 0.00000000e+00 0.00000000e+00 0.00000000e+00]\n [0.00000000e+00 0.00000000e+00 0.00000000e+00 7.37100000e+01\n  0.00000000e+00 0.00000000e+00 0.00000000e+00 0.00000000e+00\n  0.00000000e+00 0.00000000e+00 0.00000000e+00 7.37100000e+01\n  0.00000000e+00 0.00000000e+00 0.00000000e+00 0.00000000e+00\n  0.00000000e+00 7.37099987e+01 0.00000000e+00 0.00000000e+00\n  0.00000000e+00 0.00000000e+00 0.00000000e+00 0.00000000e+00\n  0.00000000e+00 0.00000000e+00 0.00000000e+00 0.00000000e+00\n  0.00000000e+00 0.00000000e+00 0.00000000e+00 0.00000000e+00\n  0.00000000e+00 0.00000000e+00 0.00000000e+00 0.00000000e+00]\n [0.00000000e+00 0.00000000e+00 0.00000000e+00 0.00000000e+00\n  0.00000000e+00 0.00000000e+00 0.00000000e+00 0.00000000e+00\n  0.00000000e+00 0.00000000e+00 0.00000000e+00 0.00000000e+00\n  0.00000000e+00 0.00000000e+00 0.00000000e+00 0.00000000e+00\n  0.00000000e+00 0.00000000e+00 8.24000000e+01 0.00000000e+00\n  0.00000000e+00 0.00000000e+00 0.00000000e+00 0.00000000e+00\n  0.00000000e+00 0.00000000e+00 0.00000000e+00 0.00000000e+00\n  0.00000000e+00 0.00000000e+00 0.00000000e+00 0.00000000e+00\n  0.00000000e+00 0.00000000e+00 0.00000000e+00 0.00000000e+00]\n [0.00000000e+00 0.00000000e+00 0.00000000e+00 0.00000000e+00\n  0.00000000e+00 0.00000000e+00 0.00000000e+00 0.00000000e+00\n  0.00000000e+00 0.00000000e+00 0.00000000e+00 0.00000000e+00\n  0.00000000e+00 0.00000000e+00 0.00000000e+00 0.00000000e+00\n  0.00000000e+00 0.00000000e+00 0.00000000e+00 0.00000000e+00\n  0.00000000e+00 9.10000000e+01 0.00000000e+00 0.00000000e+00\n  0.00000000e+00 0.00000000e+00 0.00000000e+00 0.00000000e+00\n  0.00000000e+00 0.00000000e+00 0.00000000e+00 0.00000000e+00\n  0.00000000e+00 0.00000000e+00 0.00000000e+00 0.00000000e+00]\n [4.95000000e-01 0.00000000e+00 0.00000000e+00 0.00000000e+00\n  5.91600201e+01 0.00000000e+00 0.00000000e+00 0.00000000e+00\n  0.00000000e+00 0.00000000e+00 8.10000000e+01 0.00000000e+00\n  0.00000000e+00 0.00000000e+00 0.00000000e+00 0.00000000e+00\n  0.00000000e+00 0.00000000e+00 0.00000000e+00 0.00000000e+00\n  0.00000000e+00 0.00000000e+00 8.10000000e+01 0.00000000e+00\n  0.00000000e+00 0.00000000e+00 0.00000000e+00 0.00000000e+00\n  0.00000000e+00 0.00000000e+00 0.00000000e+00 0.00000000e+00\n  0.00000000e+00 0.00000000e+00 0.00000000e+00 0.00000000e+00]\n [0.00000000e+00 0.00000000e+00 0.00000000e+00 0.00000000e+00\n  0.00000000e+00 7.42600000e+01 0.00000000e+00 0.00000000e+00\n  0.00000000e+00 0.00000000e+00 0.00000000e+00 0.00000000e+00\n  0.00000000e+00 7.40538883e+01 0.00000000e+00 0.00000000e+00\n  0.00000000e+00 0.00000000e+00 0.00000000e+00 0.00000000e+00\n  0.00000000e+00 0.00000000e+00 0.00000000e+00 0.00000000e+00\n  0.00000000e+00 0.00000000e+00 0.00000000e+00 0.00000000e+00\n  0.00000000e+00 0.00000000e+00 0.00000000e+00 0.00000000e+00\n  0.00000000e+00 0.00000000e+00 0.00000000e+00 0.00000000e+00]\n [0.00000000e+00 0.00000000e+00 0.00000000e+00 0.00000000e+00\n  0.00000000e+00 0.00000000e+00 6.52228183e+01 0.00000000e+00\n  0.00000000e+00 0.00000000e+00 0.00000000e+00 0.00000000e+00\n  0.00000000e+00 0.00000000e+00 0.00000000e+00 0.00000000e+00\n  0.00000000e+00 0.00000000e+00 8.24000000e+01 0.00000000e+00\n  0.00000000e+00 0.00000000e+00 0.00000000e+00 0.00000000e+00\n  0.00000000e+00 0.00000000e+00 0.00000000e+00 0.00000000e+00\n  0.00000000e+00 0.00000000e+00 0.00000000e+00 0.00000000e+00\n  0.00000000e+00 0.00000000e+00 0.00000000e+00 0.00000000e+00]\n [0.00000000e+00 0.00000000e+00 0.00000000e+00 0.00000000e+00\n  0.00000000e+00 0.00000000e+00 0.00000000e+00 8.10000000e-02\n  0.00000000e+00 0.00000000e+00 0.00000000e+00 0.00000000e+00\n  0.00000000e+00 7.03447958e+01 0.00000000e+00 0.00000000e+00\n  0.00000000e+00 0.00000000e+00 0.00000000e+00 9.00000000e+01\n  0.00000000e+00 0.00000000e+00 0.00000000e+00 0.00000000e+00\n  0.00000000e+00 0.00000000e+00 0.00000000e+00 0.00000000e+00\n  0.00000000e+00 0.00000000e+00 0.00000000e+00 0.00000000e+00\n  0.00000000e+00 0.00000000e+00 0.00000000e+00 0.00000000e+00]\n [0.00000000e+00 0.00000000e+00 0.00000000e+00 0.00000000e+00\n  0.00000000e+00 0.00000000e+00 0.00000000e+00 0.00000000e+00\n  0.00000000e+00 0.00000000e+00 0.00000000e+00 0.00000000e+00\n  0.00000000e+00 0.00000000e+00 8.19000000e+01 0.00000000e+00\n  0.00000000e+00 0.00000000e+00 0.00000000e+00 0.00000000e+00\n  0.00000000e+00 0.00000000e+00 0.00000000e+00 0.00000000e+00\n  0.00000000e+00 0.00000000e+00 0.00000000e+00 0.00000000e+00\n  8.18840732e+01 0.00000000e+00 0.00000000e+00 0.00000000e+00\n  0.00000000e+00 0.00000000e+00 0.00000000e+00 0.00000000e+00]\n [0.00000000e+00 0.00000000e+00 0.00000000e+00 0.00000000e+00\n  0.00000000e+00 7.42600000e+01 0.00000000e+00 0.00000000e+00\n  0.00000000e+00 0.00000000e+00 0.00000000e+00 0.00000000e+00\n  0.00000000e+00 0.00000000e+00 0.00000000e+00 0.00000000e+00\n  0.00000000e+00 0.00000000e+00 0.00000000e+00 0.00000000e+00\n  0.00000000e+00 0.00000000e+00 0.00000000e+00 0.00000000e+00\n  0.00000000e+00 0.00000000e+00 0.00000000e+00 0.00000000e+00\n  0.00000000e+00 0.00000000e+00 0.00000000e+00 0.00000000e+00\n  0.00000000e+00 6.94708842e+01 0.00000000e+00 0.00000000e+00]\n [0.00000000e+00 0.00000000e+00 0.00000000e+00 0.00000000e+00\n  0.00000000e+00 0.00000000e+00 0.00000000e+00 0.00000000e+00\n  0.00000000e+00 0.00000000e+00 0.00000000e+00 0.00000000e+00\n  0.00000000e+00 0.00000000e+00 0.00000000e+00 0.00000000e+00\n  0.00000000e+00 0.00000000e+00 8.24000000e+01 0.00000000e+00\n  0.00000000e+00 0.00000000e+00 0.00000000e+00 0.00000000e+00\n  0.00000000e+00 0.00000000e+00 0.00000000e+00 0.00000000e+00\n  0.00000000e+00 0.00000000e+00 0.00000000e+00 0.00000000e+00\n  0.00000000e+00 0.00000000e+00 0.00000000e+00 0.00000000e+00]\n [0.00000000e+00 0.00000000e+00 0.00000000e+00 0.00000000e+00\n  0.00000000e+00 0.00000000e+00 0.00000000e+00 0.00000000e+00\n  0.00000000e+00 0.00000000e+00 0.00000000e+00 0.00000000e+00\n  0.00000000e+00 0.00000000e+00 0.00000000e+00 0.00000000e+00\n  0.00000000e+00 0.00000000e+00 0.00000000e+00 0.00000000e+00\n  0.00000000e+00 9.10000000e+01 0.00000000e+00 0.00000000e+00\n  0.00000000e+00 0.00000000e+00 0.00000000e+00 0.00000000e+00\n  0.00000000e+00 0.00000000e+00 0.00000000e+00 0.00000000e+00\n  0.00000000e+00 0.00000000e+00 0.00000000e+00 0.00000000e+00]\n [0.00000000e+00 0.00000000e+00 0.00000000e+00 0.00000000e+00\n  0.00000000e+00 0.00000000e+00 8.19000000e+01 0.00000000e+00\n  0.00000000e+00 0.00000000e+00 0.00000000e+00 0.00000000e+00\n  0.00000000e+00 0.00000000e+00 0.00000000e+00 0.00000000e+00\n  0.00000000e+00 0.00000000e+00 0.00000000e+00 0.00000000e+00\n  0.00000000e+00 0.00000000e+00 0.00000000e+00 0.00000000e+00\n  0.00000000e+00 0.00000000e+00 0.00000000e+00 0.00000000e+00\n  0.00000000e+00 0.00000000e+00 0.00000000e+00 0.00000000e+00\n  0.00000000e+00 0.00000000e+00 8.19000000e+01 0.00000000e+00]\n [0.00000000e+00 0.00000000e+00 0.00000000e+00 0.00000000e+00\n  0.00000000e+00 7.42600000e+01 0.00000000e+00 0.00000000e+00\n  0.00000000e+00 0.00000000e+00 0.00000000e+00 0.00000000e+00\n  0.00000000e+00 0.00000000e+00 0.00000000e+00 0.00000000e+00\n  0.00000000e+00 0.00000000e+00 0.00000000e+00 0.00000000e+00\n  0.00000000e+00 0.00000000e+00 0.00000000e+00 0.00000000e+00\n  0.00000000e+00 0.00000000e+00 0.00000000e+00 5.69792846e+01\n  0.00000000e+00 0.00000000e+00 0.00000000e+00 0.00000000e+00\n  0.00000000e+00 0.00000000e+00 0.00000000e+00 0.00000000e+00]\n [0.00000000e+00 0.00000000e+00 0.00000000e+00 0.00000000e+00\n  0.00000000e+00 0.00000000e+00 8.19000000e+01 0.00000000e+00\n  0.00000000e+00 0.00000000e+00 0.00000000e+00 0.00000000e+00\n  0.00000000e+00 0.00000000e+00 0.00000000e+00 0.00000000e+00\n  0.00000000e+00 0.00000000e+00 0.00000000e+00 0.00000000e+00\n  0.00000000e+00 0.00000000e+00 0.00000000e+00 0.00000000e+00\n  0.00000000e+00 0.00000000e+00 0.00000000e+00 0.00000000e+00\n  8.18999985e+01 0.00000000e+00 0.00000000e+00 0.00000000e+00\n  0.00000000e+00 0.00000000e+00 0.00000000e+00 0.00000000e+00]\n [0.00000000e+00 0.00000000e+00 0.00000000e+00 0.00000000e+00\n  0.00000000e+00 0.00000000e+00 0.00000000e+00 0.00000000e+00\n  0.00000000e+00 0.00000000e+00 0.00000000e+00 0.00000000e+00\n  0.00000000e+00 0.00000000e+00 0.00000000e+00 0.00000000e+00\n  0.00000000e+00 0.00000000e+00 0.00000000e+00 0.00000000e+00\n  0.00000000e+00 9.10000000e+01 0.00000000e+00 0.00000000e+00\n  0.00000000e+00 0.00000000e+00 0.00000000e+00 0.00000000e+00\n  0.00000000e+00 0.00000000e+00 0.00000000e+00 0.00000000e+00\n  0.00000000e+00 0.00000000e+00 0.00000000e+00 0.00000000e+00]\n [0.00000000e+00 0.00000000e+00 0.00000000e+00 0.00000000e+00\n  0.00000000e+00 0.00000000e+00 0.00000000e+00 0.00000000e+00\n  0.00000000e+00 0.00000000e+00 0.00000000e+00 0.00000000e+00\n  0.00000000e+00 0.00000000e+00 0.00000000e+00 0.00000000e+00\n  0.00000000e+00 0.00000000e+00 0.00000000e+00 0.00000000e+00\n  0.00000000e+00 0.00000000e+00 0.00000000e+00 0.00000000e+00\n  0.00000000e+00 0.00000000e+00 0.00000000e+00 0.00000000e+00\n  0.00000000e+00 0.00000000e+00 1.00000000e+02 0.00000000e+00\n  0.00000000e+00 0.00000000e+00 0.00000000e+00 0.00000000e+00]\n [0.00000000e+00 0.00000000e+00 0.00000000e+00 0.00000000e+00\n  0.00000000e+00 0.00000000e+00 0.00000000e+00 0.00000000e+00\n  0.00000000e+00 0.00000000e+00 0.00000000e+00 0.00000000e+00\n  0.00000000e+00 7.41600000e+01 0.00000000e+00 0.00000000e+00\n  0.00000000e+00 0.00000000e+00 0.00000000e+00 0.00000000e+00\n  0.00000000e+00 0.00000000e+00 0.00000000e+00 0.00000000e+00\n  0.00000000e+00 0.00000000e+00 0.00000000e+00 0.00000000e+00\n  0.00000000e+00 0.00000000e+00 0.00000000e+00 0.00000000e+00\n  0.00000000e+00 0.00000000e+00 0.00000000e+00 0.00000000e+00]\n [0.00000000e+00 0.00000000e+00 0.00000000e+00 0.00000000e+00\n  0.00000000e+00 0.00000000e+00 0.00000000e+00 0.00000000e+00\n  0.00000000e+00 0.00000000e+00 0.00000000e+00 0.00000000e+00\n  0.00000000e+00 0.00000000e+00 0.00000000e+00 0.00000000e+00\n  0.00000000e+00 0.00000000e+00 0.00000000e+00 0.00000000e+00\n  0.00000000e+00 0.00000000e+00 0.00000000e+00 0.00000000e+00\n  0.00000000e+00 0.00000000e+00 0.00000000e+00 0.00000000e+00\n  0.00000000e+00 0.00000000e+00 1.00000000e+02 0.00000000e+00\n  0.00000000e+00 0.00000000e+00 0.00000000e+00 0.00000000e+00]\n [0.00000000e+00 0.00000000e+00 0.00000000e+00 0.00000000e+00\n  0.00000000e+00 0.00000000e+00 0.00000000e+00 0.00000000e+00\n  0.00000000e+00 0.00000000e+00 0.00000000e+00 0.00000000e+00\n  0.00000000e+00 0.00000000e+00 0.00000000e+00 6.48470619e+01\n  0.00000000e+00 0.00000000e+00 0.00000000e+00 9.00000000e+01\n  0.00000000e+00 0.00000000e+00 0.00000000e+00 0.00000000e+00\n  0.00000000e+00 0.00000000e+00 0.00000000e+00 0.00000000e+00\n  0.00000000e+00 0.00000000e+00 0.00000000e+00 0.00000000e+00\n  0.00000000e+00 0.00000000e+00 0.00000000e+00 0.00000000e+00]\n [0.00000000e+00 0.00000000e+00 0.00000000e+00 0.00000000e+00\n  0.00000000e+00 0.00000000e+00 8.19000000e+01 0.00000000e+00\n  0.00000000e+00 0.00000000e+00 0.00000000e+00 0.00000000e+00\n  0.00000000e+00 0.00000000e+00 0.00000000e+00 0.00000000e+00\n  0.00000000e+00 0.00000000e+00 0.00000000e+00 0.00000000e+00\n  0.00000000e+00 0.00000000e+00 0.00000000e+00 0.00000000e+00\n  0.00000000e+00 0.00000000e+00 0.00000000e+00 0.00000000e+00\n  0.00000000e+00 0.00000000e+00 0.00000000e+00 0.00000000e+00\n  0.00000000e+00 0.00000000e+00 0.00000000e+00 0.00000000e+00]\n [0.00000000e+00 0.00000000e+00 0.00000000e+00 0.00000000e+00\n  0.00000000e+00 0.00000000e+00 0.00000000e+00 0.00000000e+00\n  0.00000000e+00 0.00000000e+00 0.00000000e+00 0.00000000e+00\n  0.00000000e+00 7.41600000e+01 0.00000000e+00 0.00000000e+00\n  0.00000000e+00 0.00000000e+00 0.00000000e+00 0.00000000e+00\n  0.00000000e+00 0.00000000e+00 0.00000000e+00 0.00000000e+00\n  0.00000000e+00 0.00000000e+00 0.00000000e+00 0.00000000e+00\n  0.00000000e+00 0.00000000e+00 0.00000000e+00 0.00000000e+00\n  0.00000000e+00 7.12068445e+01 0.00000000e+00 0.00000000e+00]\n [0.00000000e+00 0.00000000e+00 0.00000000e+00 0.00000000e+00\n  0.00000000e+00 0.00000000e+00 0.00000000e+00 0.00000000e+00\n  0.00000000e+00 0.00000000e+00 0.00000000e+00 0.00000000e+00\n  0.00000000e+00 0.00000000e+00 0.00000000e+00 0.00000000e+00\n  0.00000000e+00 0.00000000e+00 8.24000000e+01 0.00000000e+00\n  0.00000000e+00 0.00000000e+00 0.00000000e+00 0.00000000e+00\n  0.00000000e+00 0.00000000e+00 0.00000000e+00 0.00000000e+00\n  0.00000000e+00 0.00000000e+00 0.00000000e+00 0.00000000e+00\n  0.00000000e+00 0.00000000e+00 0.00000000e+00 0.00000000e+00]\n [0.00000000e+00 0.00000000e+00 0.00000000e+00 0.00000000e+00\n  0.00000000e+00 0.00000000e+00 0.00000000e+00 0.00000000e+00\n  0.00000000e+00 2.63303100e+01 0.00000000e+00 0.00000000e+00\n  0.00000000e+00 0.00000000e+00 0.00000000e+00 0.00000000e+00\n  0.00000000e+00 0.00000000e+00 0.00000000e+00 9.00000000e+01\n  0.00000000e+00 0.00000000e+00 0.00000000e+00 0.00000000e+00\n  0.00000000e+00 0.00000000e+00 0.00000000e+00 0.00000000e+00\n  0.00000000e+00 0.00000000e+00 0.00000000e+00 0.00000000e+00\n  0.00000000e+00 0.00000000e+00 0.00000000e+00 0.00000000e+00]\n [0.00000000e+00 0.00000000e+00 0.00000000e+00 0.00000000e+00\n  0.00000000e+00 0.00000000e+00 0.00000000e+00 0.00000000e+00\n  0.00000000e+00 0.00000000e+00 8.10000000e+01 0.00000000e+00\n  0.00000000e+00 0.00000000e+00 0.00000000e+00 0.00000000e+00\n  0.00000000e+00 0.00000000e+00 0.00000000e+00 0.00000000e+00\n  0.00000000e+00 0.00000000e+00 0.00000000e+00 0.00000000e+00\n  0.00000000e+00 0.00000000e+00 0.00000000e+00 0.00000000e+00\n  0.00000000e+00 0.00000000e+00 0.00000000e+00 0.00000000e+00\n  0.00000000e+00 0.00000000e+00 0.00000000e+00 0.00000000e+00]\n [0.00000000e+00 0.00000000e+00 0.00000000e+00 0.00000000e+00\n  0.00000000e+00 0.00000000e+00 0.00000000e+00 0.00000000e+00\n  0.00000000e+00 0.00000000e+00 0.00000000e+00 0.00000000e+00\n  0.00000000e+00 0.00000000e+00 0.00000000e+00 0.00000000e+00\n  0.00000000e+00 0.00000000e+00 0.00000000e+00 0.00000000e+00\n  0.00000000e+00 9.10000000e+01 0.00000000e+00 0.00000000e+00\n  0.00000000e+00 0.00000000e+00 0.00000000e+00 0.00000000e+00\n  0.00000000e+00 0.00000000e+00 0.00000000e+00 0.00000000e+00\n  0.00000000e+00 0.00000000e+00 0.00000000e+00 0.00000000e+00]\n [0.00000000e+00 0.00000000e+00 0.00000000e+00 0.00000000e+00\n  0.00000000e+00 0.00000000e+00 0.00000000e+00 0.00000000e+00\n  0.00000000e+00 0.00000000e+00 0.00000000e+00 0.00000000e+00\n  0.00000000e+00 0.00000000e+00 0.00000000e+00 0.00000000e+00\n  0.00000000e+00 0.00000000e+00 8.24000000e+01 0.00000000e+00\n  0.00000000e+00 0.00000000e+00 0.00000000e+00 0.00000000e+00\n  0.00000000e+00 0.00000000e+00 0.00000000e+00 0.00000000e+00\n  0.00000000e+00 0.00000000e+00 0.00000000e+00 0.00000000e+00\n  0.00000000e+00 0.00000000e+00 0.00000000e+00 0.00000000e+00]\n [0.00000000e+00 0.00000000e+00 0.00000000e+00 0.00000000e+00\n  0.00000000e+00 0.00000000e+00 0.00000000e+00 0.00000000e+00\n  0.00000000e+00 0.00000000e+00 0.00000000e+00 0.00000000e+00\n  0.00000000e+00 0.00000000e+00 0.00000000e+00 0.00000000e+00\n  0.00000000e+00 0.00000000e+00 0.00000000e+00 0.00000000e+00\n  0.00000000e+00 0.00000000e+00 0.00000000e+00 0.00000000e+00\n  0.00000000e+00 0.00000000e+00 0.00000000e+00 0.00000000e+00\n  0.00000000e+00 0.00000000e+00 1.00000000e+02 0.00000000e+00\n  0.00000000e+00 0.00000000e+00 0.00000000e+00 0.00000000e+00]\n [0.00000000e+00 0.00000000e+00 0.00000000e+00 0.00000000e+00\n  0.00000000e+00 0.00000000e+00 0.00000000e+00 0.00000000e+00\n  0.00000000e+00 0.00000000e+00 0.00000000e+00 0.00000000e+00\n  0.00000000e+00 0.00000000e+00 0.00000000e+00 0.00000000e+00\n  0.00000000e+00 0.00000000e+00 0.00000000e+00 0.00000000e+00\n  0.00000000e+00 0.00000000e+00 0.00000000e+00 0.00000000e+00\n  0.00000000e+00 0.00000000e+00 0.00000000e+00 0.00000000e+00\n  8.19000000e+01 0.00000000e+00 0.00000000e+00 0.00000000e+00\n  0.00000000e+00 0.00000000e+00 0.00000000e+00 0.00000000e+00]\n [0.00000000e+00 0.00000000e+00 0.00000000e+00 0.00000000e+00\n  0.00000000e+00 0.00000000e+00 0.00000000e+00 0.00000000e+00\n  0.00000000e+00 0.00000000e+00 0.00000000e+00 0.00000000e+00\n  0.00000000e+00 7.07263162e+01 0.00000000e+00 0.00000000e+00\n  0.00000000e+00 0.00000000e+00 0.00000000e+00 9.00000000e+01\n  0.00000000e+00 0.00000000e+00 0.00000000e+00 4.23289404e+01\n  0.00000000e+00 0.00000000e+00 0.00000000e+00 0.00000000e+00\n  0.00000000e+00 0.00000000e+00 0.00000000e+00 0.00000000e+00\n  0.00000000e+00 0.00000000e+00 0.00000000e+00 0.00000000e+00]\n [0.00000000e+00 0.00000000e+00 0.00000000e+00 0.00000000e+00\n  0.00000000e+00 0.00000000e+00 0.00000000e+00 0.00000000e+00\n  0.00000000e+00 0.00000000e+00 0.00000000e+00 0.00000000e+00\n  0.00000000e+00 0.00000000e+00 8.19000000e+01 0.00000000e+00\n  0.00000000e+00 0.00000000e+00 0.00000000e+00 0.00000000e+00\n  0.00000000e+00 0.00000000e+00 0.00000000e+00 0.00000000e+00\n  0.00000000e+00 0.00000000e+00 0.00000000e+00 0.00000000e+00\n  0.00000000e+00 0.00000000e+00 0.00000000e+00 0.00000000e+00\n  0.00000000e+00 0.00000000e+00 0.00000000e+00 0.00000000e+00]\n [0.00000000e+00 0.00000000e+00 0.00000000e+00 0.00000000e+00\n  0.00000000e+00 0.00000000e+00 0.00000000e+00 0.00000000e+00\n  0.00000000e+00 0.00000000e+00 0.00000000e+00 0.00000000e+00\n  0.00000000e+00 0.00000000e+00 0.00000000e+00 0.00000000e+00\n  0.00000000e+00 0.00000000e+00 0.00000000e+00 0.00000000e+00\n  0.00000000e+00 9.10000000e+01 0.00000000e+00 0.00000000e+00\n  0.00000000e+00 0.00000000e+00 0.00000000e+00 0.00000000e+00\n  0.00000000e+00 0.00000000e+00 0.00000000e+00 0.00000000e+00\n  0.00000000e+00 0.00000000e+00 0.00000000e+00 0.00000000e+00]\n [0.00000000e+00 0.00000000e+00 0.00000000e+00 0.00000000e+00\n  0.00000000e+00 0.00000000e+00 0.00000000e+00 0.00000000e+00\n  0.00000000e+00 0.00000000e+00 0.00000000e+00 0.00000000e+00\n  0.00000000e+00 0.00000000e+00 8.19000000e+01 0.00000000e+00\n  0.00000000e+00 0.00000000e+00 0.00000000e+00 0.00000000e+00\n  0.00000000e+00 0.00000000e+00 0.00000000e+00 0.00000000e+00\n  0.00000000e+00 0.00000000e+00 0.00000000e+00 0.00000000e+00\n  0.00000000e+00 0.00000000e+00 0.00000000e+00 0.00000000e+00\n  0.00000000e+00 0.00000000e+00 0.00000000e+00 0.00000000e+00]]\n"
    }
   ],
   "source": [
    "# Imprimimos la matriz normalizada\n",
    "print(divQ)"
   ]
  }
 ],
 "metadata": {
  "language_info": {
   "codemirror_mode": {
    "name": "ipython",
    "version": 3
   },
   "file_extension": ".py",
   "mimetype": "text/x-python",
   "name": "python",
   "nbconvert_exporter": "python",
   "pygments_lexer": "ipython3",
   "version": "3.8.2-final"
  },
  "orig_nbformat": 2,
  "kernelspec": {
   "name": "python38264bitc4c343130ed4464485181525644477d7",
   "display_name": "Python 3.8.2 64-bit"
  }
 },
 "nbformat": 4,
 "nbformat_minor": 2
}