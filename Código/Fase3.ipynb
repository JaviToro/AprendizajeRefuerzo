{
 "cells": [
  {
   "cell_type": "markdown",
   "metadata": {},
   "source": [
    "### Importaciones\n",
    "Necesarias para el correcto funcionamiento del proyecto."
   ]
  },
  {
   "cell_type": "code",
   "execution_count": 187,
   "metadata": {},
   "outputs": [],
   "source": [
    "import time\n",
    "import numpy as np\n",
    "import random\n",
    "from random import randint\n",
    "np.set_printoptions(threshold=sys.maxsize)"
   ]
  },
  {
   "cell_type": "markdown",
   "metadata": {},
   "source": [
    "# Aprendizaje por Refuerzo\n",
    "## Tablero\n",
    "Definimos el tablero a utilizar, que por defecto será de 36 por 36 y los movimientos posibles se basan en los del caballo en el juego del ajedrez."
   ]
  },
  {
   "cell_type": "code",
   "execution_count": 188,
   "metadata": {
    "tags": []
   },
   "outputs": [
    {
     "output_type": "stream",
     "name": "stdout",
     "text": "[[35 34 33 32 31 30]\n [24 23 22 21 20 29]\n [15 14 13 12 19 28]\n [ 8  7  6 11 18 27]\n [ 3  2  5 10 17 26]\n [ 0  1  4  9 16 25]]\n"
    }
   ],
   "source": [
    "T = np.array([[35,34,33,32,31,30],\n",
    "              [24,23,22,21,20,29],\n",
    "              [15,14,13,12,19,28],\n",
    "              [8,7,6,11,18,27],\n",
    "              [3,2,5,10,17,26],\n",
    "              [0,1,4,9,16,25]])\n",
    "print(T)"
   ]
  },
  {
   "cell_type": "markdown",
   "metadata": {},
   "source": [
    "## Matriz R\n",
    "Definimos la matriz R calculada a partir de los posibles movimientos del tablero."
   ]
  },
  {
   "cell_type": "code",
   "execution_count": 189,
   "metadata": {
    "tags": []
   },
   "outputs": [
    {
     "output_type": "stream",
     "name": "stdout",
     "text": "[[ -1  -1  -1  -1  -1   1  -1   0  -1  -1  -1  -1  -1  -1  -1  -1  -1  -1\n   -1  -1  -1  -1  -1  -1  -1  -1  -1  -1  -1  -1  -1  -1  -1  -1  -1  -1]\n [ -1  -1  -1  -1  -1  -1   0  -1   0  -1   0  -1  -1  -1  -1  -1  -1  -1\n   -1  -1  -1  -1  -1  -1  -1  -1  -1  -1  -1  -1  -1  -1  -1  -1  -1  -1]\n [ -1  -1  -1  -1  -1  -1  -1  -1  -1   0  -1   0  -1   0  -1   0  -1  -1\n   -1  -1  -1  -1  -1  -1  -1  -1  -1  -1  -1  -1  -1  -1  -1  -1  -1  -1]\n [ -1  -1  -1  -1   0  -1   0  -1  -1  -1  -1  -1  -1  -1   0  -1  -1  -1\n   -1  -1  -1  -1  -1  -1  -1  -1  -1  -1  -1  -1  -1  -1  -1  -1  -1  -1]\n [ -1  -1  -1   0  -1  -1  -1   0  -1  -1  -1   0  -1  -1  -1  -1  -1   0\n   -1  -1  -1  -1  -1  -1  -1  -1  -1  -1  -1  -1  -1  -1  -1  -1  -1  -1]\n [  0  -1  -1  -1  -1  -1  -1  -1   0  -1  -1  -1   0  -1   0  -1   0  -1\n    5  -1  -1  -1  -1  -1  -1  -1  -1  -1  -1  -1  -1  -1  -1  -1  -1  -1]\n [ -1   0  -1   0  -1  -1  -1  -1  -1  -1  -1  -1  -1  -1  -1   0   0  -1\n    5   0  -1  10  -1   0  -1  -1  -1  -1  -1  -1  -1  -1  -1  -1  -1  -1]\n [  0  -1  -1  -1   0  -1  -1  -1  -1  -1   0  -1   0  -1  -1  -1  -1  -1\n   -1  -1  -1  -1   0  -1   0  -1  -1  -1  -1  -1  -1  -1  -1  -1  -1  -1]\n [ -1   0  -1  -1  -1   1  -1  -1  -1  -1  -1  -1  -1   0  -1  -1  -1  -1\n   -1  -1  -1  -1  -1   0  -1  -1  -1  -1  -1  -1  -1  -1  -1  -1  -1  -1]\n [ -1  -1   0  -1  -1  -1   0  -1  -1  -1  -1  -1  -1  -1  -1  -1  -1  -1\n    5  -1  -1  -1  -1  -1  -1  -1   0  -1  -1  -1  -1  -1  -1  -1  -1  -1]\n [ -1   0  -1  -1  -1  -1  -1   0  -1  -1  -1  -1  -1   0  -1  -1  -1  -1\n   -1   0  -1  -1  -1  -1  -1   0  -1   0  -1  -1  -1  -1  -1  -1  -1  -1]\n [ -1  -1   0  -1   0  -1  -1  -1  -1  -1  -1  -1  -1  -1   0  -1   0  -1\n   -1  -1   0  -1   0  -1  -1  -1   0  -1   0  -1  -1  -1  -1  -1  -1  -1]\n [ -1  -1  -1  -1  -1   1  -1   0  -1  -1  -1  -1  -1  -1  -1  -1  -1   0\n   -1  -1  -1  -1  -1   0  -1  -1  -1   0  -1   0  -1   0  -1   0  -1  -1]\n [ -1  -1   0  -1  -1  -1  -1  -1   0  -1   0  -1  -1  -1  -1  -1  -1  -1\n    5  -1   0  -1  -1  -1   0  -1  -1  -1  -1  -1  -1  -1   0  -1   0  -1]\n [ -1  -1  -1   0  -1   1  -1  -1  -1  -1  -1   0  -1  -1  -1  -1  -1  -1\n   -1  -1  -1  10  -1  -1  -1  -1  -1  -1  -1  -1  -1  -1  -1   0  -1   0]\n [ -1  -1   0  -1  -1  -1   0  -1  -1  -1  -1  -1  -1  -1  -1  -1  -1  -1\n   -1  -1  -1  -1   0  -1  -1  -1  -1  -1  -1  -1  -1  -1  -1  -1   0  -1]\n [ -1  -1  -1  -1  -1   1  -1  -1  -1  -1  -1   0  -1  -1  -1  -1  -1  -1\n   -1  -1  -1  -1  -1  -1  -1  -1  -1   0  -1  -1  -1  -1  -1  -1  -1  -1]\n [ -1  -1  -1  -1   0  -1   0  -1  -1  -1  -1  -1   0  -1  -1  -1  -1  -1\n   -1  -1  -1  -1  -1  -1  -1  -1  -1  -1   0  -1  -1  -1  -1  -1  -1  -1]\n [ -1  -1  -1  -1  -1   1  -1  -1  -1   0  -1  -1  -1   0  -1  -1  -1  -1\n   -1  -1  -1  10  -1  -1  -1   0  -1  -1  -1   0  -1  -1  -1  -1  -1  -1]\n [ -1  -1  -1  -1  -1  -1   0  -1  -1  -1   0  -1  -1  -1  -1  -1  -1  -1\n   -1  -1  -1  -1   0  -1  -1  -1   0  -1  -1  -1 100  -1   0  -1  -1  -1]\n [ -1  -1  -1  -1  -1  -1  -1  -1  -1  -1  -1   0  -1   0  -1  -1  -1  -1\n   -1  -1  -1  -1  -1  -1  -1  -1  -1   0  -1  -1  -1  -1  -1   0  -1  -1]\n [ -1  -1  -1  -1  -1  -1   0  -1  -1  -1  -1  -1  -1  -1   0  -1  -1  -1\n    5  -1  -1  -1  -1  -1  -1  -1  -1  -1   0  -1 100  -1  -1  -1   0  -1]\n [ -1  -1  -1  -1  -1  -1  -1   0  -1  -1  -1   0  -1  -1  -1   0  -1  -1\n   -1   0  -1  -1  -1  -1  -1  -1  -1  -1  -1  -1  -1   0  -1  -1  -1   0]\n [ -1  -1  -1  -1  -1  -1   0  -1   0  -1  -1  -1   0  -1  -1  -1  -1  -1\n   -1  -1  -1  -1  -1  -1  -1  -1  -1  -1  -1  -1  -1  -1   0  -1  -1  -1]\n [ -1  -1  -1  -1  -1  -1  -1   0  -1  -1  -1  -1  -1   0  -1  -1  -1  -1\n   -1  -1  -1  -1  -1  -1  -1  -1  -1  -1  -1  -1  -1  -1  -1   0  -1  -1]\n [ -1  -1  -1  -1  -1  -1  -1  -1  -1  -1   0  -1  -1  -1  -1  -1  -1  -1\n    5  -1  -1  -1  -1  -1  -1  -1  -1  -1  -1  -1  -1  -1  -1  -1  -1  -1]\n [ -1  -1  -1  -1  -1  -1  -1  -1  -1   0  -1   0  -1  -1  -1  -1  -1  -1\n   -1   0  -1  -1  -1  -1  -1  -1  -1  -1  -1  -1  -1  -1  -1  -1  -1  -1]\n [ -1  -1  -1  -1  -1  -1  -1  -1  -1  -1   0  -1   0  -1  -1  -1   0  -1\n   -1  -1   0  -1  -1  -1  -1  -1  -1  -1  -1  -1  -1  -1  -1  -1  -1  -1]\n [ -1  -1  -1  -1  -1  -1  -1  -1  -1  -1  -1   0  -1  -1  -1  -1  -1   0\n   -1  -1  -1  10  -1  -1  -1  -1  -1  -1  -1  -1  -1   0  -1  -1  -1  -1]\n [ -1  -1  -1  -1  -1  -1  -1  -1  -1  -1  -1  -1   0  -1  -1  -1  -1  -1\n    5  -1  -1  -1  -1  -1  -1  -1  -1  -1  -1  -1  -1  -1   0  -1  -1  -1]\n [ -1  -1  -1  -1  -1  -1  -1  -1  -1  -1  -1  -1  -1  -1  -1  -1  -1  -1\n   -1   0  -1  10  -1  -1  -1  -1  -1  -1  -1  -1 100  -1  -1  -1  -1  -1]\n [ -1  -1  -1  -1  -1  -1  -1  -1  -1  -1  -1  -1   0  -1  -1  -1  -1  -1\n   -1  -1  -1  -1   0  -1  -1  -1  -1  -1   0  -1  -1  -1  -1  -1  -1  -1]\n [ -1  -1  -1  -1  -1  -1  -1  -1  -1  -1  -1  -1  -1   0  -1  -1  -1  -1\n   -1   0  -1  -1  -1   0  -1  -1  -1  -1  -1   0  -1  -1  -1  -1  -1  -1]\n [ -1  -1  -1  -1  -1  -1  -1  -1  -1  -1  -1  -1   0  -1   0  -1  -1  -1\n   -1  -1   0  -1  -1  -1   0  -1  -1  -1  -1  -1  -1  -1  -1  -1  -1  -1]\n [ -1  -1  -1  -1  -1  -1  -1  -1  -1  -1  -1  -1  -1   0  -1   0  -1  -1\n   -1  -1  -1  10   0  -1  -1  -1  -1  -1  -1  -1  -1  -1  -1  -1  -1  -1]\n [ -1  -1  -1  -1  -1  -1  -1  -1  -1  -1  -1  -1  -1  -1   0  -1  -1  -1\n   -1  -1  -1  -1  -1  -1  -1  -1  -1  -1  -1  -1  -1  -1  -1  -1  -1  -1]]\n"
    }
   ],
   "source": [
    "R = np.full((36,36),-1)\n",
    "R[0][5] = 1\n",
    "R[0][7] = 0\n",
    "R[1][6] = 0\n",
    "R[1][8] = 0\n",
    "R[1][10] = 0\n",
    "R[2][9] = 0\n",
    "R[2][11] = 0\n",
    "R[2][13] = 0\n",
    "R[2][15] = 0\n",
    "R[3][4] = 0\n",
    "R[3][6] = 0\n",
    "R[3][14] = 0\n",
    "R[4][3] = 0\n",
    "R[4][7] = 0\n",
    "R[4][11] = 0\n",
    "R[4][17] = 0\n",
    "R[5][0] = 0\n",
    "R[5][8] = 0\n",
    "R[5][12] = 0\n",
    "R[5][14] = 0\n",
    "R[5][16] = 0\n",
    "R[5][18] = 5\n",
    "R[6][1] = 0\n",
    "R[6][3] = 0\n",
    "R[6][15] = 0\n",
    "R[6][16] = 0\n",
    "R[6][18] = 5\n",
    "R[6][19] = 0\n",
    "R[6][21] = 10\n",
    "R[6][23] = 0\n",
    "R[7][0] = 0\n",
    "R[7][4] = 0\n",
    "R[7][10] = 0\n",
    "R[7][12] = 0\n",
    "R[7][22] = 0\n",
    "R[7][24] = 0\n",
    "R[8][1] = 0\n",
    "R[8][5] = 1\n",
    "R[8][13] = 0\n",
    "R[8][23] = 0\n",
    "R[9][2] = 0\n",
    "R[9][6] = 0\n",
    "R[9][18] = 5\n",
    "R[9][26] = 0\n",
    "R[10][1] = 0\n",
    "R[10][7] = 0\n",
    "R[10][13] = 0\n",
    "R[10][19] = 0\n",
    "R[10][25] = 0\n",
    "R[10][27] = 0\n",
    "R[11][2] = 0\n",
    "R[11][4] = 0\n",
    "R[11][14] = 0\n",
    "R[11][16] = 0\n",
    "R[11][20] = 0\n",
    "R[11][22] = 0\n",
    "R[11][26] = 0\n",
    "R[11][28] = 0\n",
    "R[12][5] = 1\n",
    "R[12][7] = 0\n",
    "R[12][17] = 0\n",
    "R[12][23] = 0\n",
    "R[12][27] = 0\n",
    "R[12][29] = 0\n",
    "R[12][31] = 0\n",
    "R[12][33] = 0\n",
    "R[13][2] = 0\n",
    "R[13][8] = 0\n",
    "R[13][10] = 0\n",
    "R[13][18] = 5\n",
    "R[13][20] = 0\n",
    "R[13][24] = 0\n",
    "R[13][32] = 0\n",
    "R[13][34] = 0\n",
    "R[14][3] = 0\n",
    "R[14][5] = 1\n",
    "R[14][11] = 0\n",
    "R[14][21] = 10\n",
    "R[14][33] = 0\n",
    "R[14][35] = 0\n",
    "R[15][2] = 0\n",
    "R[15][6] = 0\n",
    "R[15][22] = 0\n",
    "R[15][34] = 0\n",
    "R[16][5] = 1\n",
    "R[16][11] = 0\n",
    "R[16][27] = 0\n",
    "R[17][4] = 0\n",
    "R[17][6] = 0\n",
    "R[17][12] = 0\n",
    "R[17][28] = 0\n",
    "R[18][5] = 1\n",
    "R[18][9] = 0\n",
    "R[18][13] = 0\n",
    "R[18][21] = 10\n",
    "R[18][25] = 0\n",
    "R[18][29] = 0\n",
    "R[19][6] = 0\n",
    "R[19][10] = 0\n",
    "R[19][22] = 0\n",
    "R[19][26] = 0\n",
    "R[19][30] = 100\n",
    "R[19][32] = 0\n",
    "R[20][11] = 0\n",
    "R[20][13] = 0\n",
    "R[20][27] = 0\n",
    "R[20][33] = 0\n",
    "R[21][6] = 0\n",
    "R[21][14] = 0\n",
    "R[21][18] = 5\n",
    "R[21][28] = 0\n",
    "R[21][30] = 100\n",
    "R[21][34] = 0\n",
    "R[22][7] = 0\n",
    "R[22][11] = 0\n",
    "R[22][15] = 0\n",
    "R[22][19] = 0\n",
    "R[22][31] = 0\n",
    "R[22][35] = 0\n",
    "R[23][6] = 0\n",
    "R[23][8] = 0\n",
    "R[23][12] = 0\n",
    "R[23][32] = 0\n",
    "R[24][7] = 0\n",
    "R[24][13] = 0\n",
    "R[24][33] = 0\n",
    "R[25][10] = 0\n",
    "R[25][18] = 5\n",
    "R[26][9] = 0\n",
    "R[26][11] = 0\n",
    "R[26][19] = 0\n",
    "R[27][10] = 0\n",
    "R[27][12] = 0\n",
    "R[27][16] = 0\n",
    "R[27][20] = 0\n",
    "R[28][11] = 0\n",
    "R[28][17] = 0\n",
    "R[28][21] = 10\n",
    "R[28][31] = 0\n",
    "R[29][12] = 0\n",
    "R[29][18] = 5\n",
    "R[29][32] = 0\n",
    "R[30][30] = 100\n",
    "R[30][19] = 0\n",
    "R[30][21] = 10\n",
    "R[31][12] = 0\n",
    "R[31][22] = 0\n",
    "R[31][28] = 0\n",
    "R[32][13] = 0\n",
    "R[32][19] = 0\n",
    "R[32][23] = 0\n",
    "R[32][29] = 0\n",
    "R[33][12] = 0\n",
    "R[33][14] = 0\n",
    "R[33][20] = 0\n",
    "R[33][24] = 0\n",
    "R[34][13] = 0\n",
    "R[34][15] = 0\n",
    "R[34][21] = 10\n",
    "R[35][14] = 0\n",
    "R[34][22] = 0\n",
    "print(R)"
   ]
  },
  {
   "cell_type": "markdown",
   "metadata": {},
   "source": [
    "## Matriz Q\n",
    "Inicializamos Q como una matriz de 0s del mismo tamaño que la matriz R."
   ]
  },
  {
   "cell_type": "code",
   "execution_count": 190,
   "metadata": {
    "tags": []
   },
   "outputs": [
    {
     "output_type": "stream",
     "name": "stdout",
     "text": "[[0. 0. 0. 0. 0. 0. 0. 0. 0. 0. 0. 0. 0. 0. 0. 0. 0. 0. 0. 0. 0. 0. 0. 0.\n  0. 0. 0. 0. 0. 0. 0. 0. 0. 0. 0. 0.]\n [0. 0. 0. 0. 0. 0. 0. 0. 0. 0. 0. 0. 0. 0. 0. 0. 0. 0. 0. 0. 0. 0. 0. 0.\n  0. 0. 0. 0. 0. 0. 0. 0. 0. 0. 0. 0.]\n [0. 0. 0. 0. 0. 0. 0. 0. 0. 0. 0. 0. 0. 0. 0. 0. 0. 0. 0. 0. 0. 0. 0. 0.\n  0. 0. 0. 0. 0. 0. 0. 0. 0. 0. 0. 0.]\n [0. 0. 0. 0. 0. 0. 0. 0. 0. 0. 0. 0. 0. 0. 0. 0. 0. 0. 0. 0. 0. 0. 0. 0.\n  0. 0. 0. 0. 0. 0. 0. 0. 0. 0. 0. 0.]\n [0. 0. 0. 0. 0. 0. 0. 0. 0. 0. 0. 0. 0. 0. 0. 0. 0. 0. 0. 0. 0. 0. 0. 0.\n  0. 0. 0. 0. 0. 0. 0. 0. 0. 0. 0. 0.]\n [0. 0. 0. 0. 0. 0. 0. 0. 0. 0. 0. 0. 0. 0. 0. 0. 0. 0. 0. 0. 0. 0. 0. 0.\n  0. 0. 0. 0. 0. 0. 0. 0. 0. 0. 0. 0.]\n [0. 0. 0. 0. 0. 0. 0. 0. 0. 0. 0. 0. 0. 0. 0. 0. 0. 0. 0. 0. 0. 0. 0. 0.\n  0. 0. 0. 0. 0. 0. 0. 0. 0. 0. 0. 0.]\n [0. 0. 0. 0. 0. 0. 0. 0. 0. 0. 0. 0. 0. 0. 0. 0. 0. 0. 0. 0. 0. 0. 0. 0.\n  0. 0. 0. 0. 0. 0. 0. 0. 0. 0. 0. 0.]\n [0. 0. 0. 0. 0. 0. 0. 0. 0. 0. 0. 0. 0. 0. 0. 0. 0. 0. 0. 0. 0. 0. 0. 0.\n  0. 0. 0. 0. 0. 0. 0. 0. 0. 0. 0. 0.]\n [0. 0. 0. 0. 0. 0. 0. 0. 0. 0. 0. 0. 0. 0. 0. 0. 0. 0. 0. 0. 0. 0. 0. 0.\n  0. 0. 0. 0. 0. 0. 0. 0. 0. 0. 0. 0.]\n [0. 0. 0. 0. 0. 0. 0. 0. 0. 0. 0. 0. 0. 0. 0. 0. 0. 0. 0. 0. 0. 0. 0. 0.\n  0. 0. 0. 0. 0. 0. 0. 0. 0. 0. 0. 0.]\n [0. 0. 0. 0. 0. 0. 0. 0. 0. 0. 0. 0. 0. 0. 0. 0. 0. 0. 0. 0. 0. 0. 0. 0.\n  0. 0. 0. 0. 0. 0. 0. 0. 0. 0. 0. 0.]\n [0. 0. 0. 0. 0. 0. 0. 0. 0. 0. 0. 0. 0. 0. 0. 0. 0. 0. 0. 0. 0. 0. 0. 0.\n  0. 0. 0. 0. 0. 0. 0. 0. 0. 0. 0. 0.]\n [0. 0. 0. 0. 0. 0. 0. 0. 0. 0. 0. 0. 0. 0. 0. 0. 0. 0. 0. 0. 0. 0. 0. 0.\n  0. 0. 0. 0. 0. 0. 0. 0. 0. 0. 0. 0.]\n [0. 0. 0. 0. 0. 0. 0. 0. 0. 0. 0. 0. 0. 0. 0. 0. 0. 0. 0. 0. 0. 0. 0. 0.\n  0. 0. 0. 0. 0. 0. 0. 0. 0. 0. 0. 0.]\n [0. 0. 0. 0. 0. 0. 0. 0. 0. 0. 0. 0. 0. 0. 0. 0. 0. 0. 0. 0. 0. 0. 0. 0.\n  0. 0. 0. 0. 0. 0. 0. 0. 0. 0. 0. 0.]\n [0. 0. 0. 0. 0. 0. 0. 0. 0. 0. 0. 0. 0. 0. 0. 0. 0. 0. 0. 0. 0. 0. 0. 0.\n  0. 0. 0. 0. 0. 0. 0. 0. 0. 0. 0. 0.]\n [0. 0. 0. 0. 0. 0. 0. 0. 0. 0. 0. 0. 0. 0. 0. 0. 0. 0. 0. 0. 0. 0. 0. 0.\n  0. 0. 0. 0. 0. 0. 0. 0. 0. 0. 0. 0.]\n [0. 0. 0. 0. 0. 0. 0. 0. 0. 0. 0. 0. 0. 0. 0. 0. 0. 0. 0. 0. 0. 0. 0. 0.\n  0. 0. 0. 0. 0. 0. 0. 0. 0. 0. 0. 0.]\n [0. 0. 0. 0. 0. 0. 0. 0. 0. 0. 0. 0. 0. 0. 0. 0. 0. 0. 0. 0. 0. 0. 0. 0.\n  0. 0. 0. 0. 0. 0. 0. 0. 0. 0. 0. 0.]\n [0. 0. 0. 0. 0. 0. 0. 0. 0. 0. 0. 0. 0. 0. 0. 0. 0. 0. 0. 0. 0. 0. 0. 0.\n  0. 0. 0. 0. 0. 0. 0. 0. 0. 0. 0. 0.]\n [0. 0. 0. 0. 0. 0. 0. 0. 0. 0. 0. 0. 0. 0. 0. 0. 0. 0. 0. 0. 0. 0. 0. 0.\n  0. 0. 0. 0. 0. 0. 0. 0. 0. 0. 0. 0.]\n [0. 0. 0. 0. 0. 0. 0. 0. 0. 0. 0. 0. 0. 0. 0. 0. 0. 0. 0. 0. 0. 0. 0. 0.\n  0. 0. 0. 0. 0. 0. 0. 0. 0. 0. 0. 0.]\n [0. 0. 0. 0. 0. 0. 0. 0. 0. 0. 0. 0. 0. 0. 0. 0. 0. 0. 0. 0. 0. 0. 0. 0.\n  0. 0. 0. 0. 0. 0. 0. 0. 0. 0. 0. 0.]\n [0. 0. 0. 0. 0. 0. 0. 0. 0. 0. 0. 0. 0. 0. 0. 0. 0. 0. 0. 0. 0. 0. 0. 0.\n  0. 0. 0. 0. 0. 0. 0. 0. 0. 0. 0. 0.]\n [0. 0. 0. 0. 0. 0. 0. 0. 0. 0. 0. 0. 0. 0. 0. 0. 0. 0. 0. 0. 0. 0. 0. 0.\n  0. 0. 0. 0. 0. 0. 0. 0. 0. 0. 0. 0.]\n [0. 0. 0. 0. 0. 0. 0. 0. 0. 0. 0. 0. 0. 0. 0. 0. 0. 0. 0. 0. 0. 0. 0. 0.\n  0. 0. 0. 0. 0. 0. 0. 0. 0. 0. 0. 0.]\n [0. 0. 0. 0. 0. 0. 0. 0. 0. 0. 0. 0. 0. 0. 0. 0. 0. 0. 0. 0. 0. 0. 0. 0.\n  0. 0. 0. 0. 0. 0. 0. 0. 0. 0. 0. 0.]\n [0. 0. 0. 0. 0. 0. 0. 0. 0. 0. 0. 0. 0. 0. 0. 0. 0. 0. 0. 0. 0. 0. 0. 0.\n  0. 0. 0. 0. 0. 0. 0. 0. 0. 0. 0. 0.]\n [0. 0. 0. 0. 0. 0. 0. 0. 0. 0. 0. 0. 0. 0. 0. 0. 0. 0. 0. 0. 0. 0. 0. 0.\n  0. 0. 0. 0. 0. 0. 0. 0. 0. 0. 0. 0.]\n [0. 0. 0. 0. 0. 0. 0. 0. 0. 0. 0. 0. 0. 0. 0. 0. 0. 0. 0. 0. 0. 0. 0. 0.\n  0. 0. 0. 0. 0. 0. 0. 0. 0. 0. 0. 0.]\n [0. 0. 0. 0. 0. 0. 0. 0. 0. 0. 0. 0. 0. 0. 0. 0. 0. 0. 0. 0. 0. 0. 0. 0.\n  0. 0. 0. 0. 0. 0. 0. 0. 0. 0. 0. 0.]\n [0. 0. 0. 0. 0. 0. 0. 0. 0. 0. 0. 0. 0. 0. 0. 0. 0. 0. 0. 0. 0. 0. 0. 0.\n  0. 0. 0. 0. 0. 0. 0. 0. 0. 0. 0. 0.]\n [0. 0. 0. 0. 0. 0. 0. 0. 0. 0. 0. 0. 0. 0. 0. 0. 0. 0. 0. 0. 0. 0. 0. 0.\n  0. 0. 0. 0. 0. 0. 0. 0. 0. 0. 0. 0.]\n [0. 0. 0. 0. 0. 0. 0. 0. 0. 0. 0. 0. 0. 0. 0. 0. 0. 0. 0. 0. 0. 0. 0. 0.\n  0. 0. 0. 0. 0. 0. 0. 0. 0. 0. 0. 0.]\n [0. 0. 0. 0. 0. 0. 0. 0. 0. 0. 0. 0. 0. 0. 0. 0. 0. 0. 0. 0. 0. 0. 0. 0.\n  0. 0. 0. 0. 0. 0. 0. 0. 0. 0. 0. 0.]]\n"
    }
   ],
   "source": [
    "Q = np.zeros((36,36))\n",
    "print(Q)"
   ]
  },
  {
   "cell_type": "markdown",
   "metadata": {},
   "source": [
    "## Parámetros\n",
    "Apartado para configurar los distintos parámetros que utilizará el algoritmo."
   ]
  },
  {
   "cell_type": "code",
   "execution_count": 191,
   "metadata": {
    "tags": []
   },
   "outputs": [
    {
     "output_type": "stream",
     "name": "stdout",
     "text": "La celda de inicio será la 0 y la celda objetivo será la 30.\nEl número de episodios será 10000 y el factor de aprendizaje gamma es de 0.9.\nEl valor de épsilon es 1 y el de alpha es 0.99.\n"
    }
   ],
   "source": [
    "inicio = 0\n",
    "objetivo = 30\n",
    "episodios = 10000\n",
    "gamma = 0.9\n",
    "epsilon = 1\n",
    "alpha = 0.99\n",
    "tamano = 9 # Número total de casillas de la matriz\n",
    "print(\"La celda de inicio será la \" + str(inicio) + \" y la celda objetivo será la \" + str(objetivo) +\".\")\n",
    "print(\"El número de episodios será \" + str(episodios) + \" y el factor de aprendizaje gamma es de \" + str(gamma) + \".\")\n",
    "print(\"El valor de épsilon es \" + str(epsilon) + \" y el de alpha es \" + str(alpha) + \".\")"
   ]
  },
  {
   "cell_type": "markdown",
   "metadata": {},
   "source": [
    "## Algoritmo\n",
    "La ejecución del algoritmo."
   ]
  },
  {
   "cell_type": "code",
   "execution_count": 184,
   "metadata": {
    "tags": []
   },
   "outputs": [
    {
     "output_type": "stream",
     "name": "stdout",
     "text": "l valor de Q[4][3] a 737.0999999999997.\nActualizamos la celda actual a 3.\nLa lista de siguientes celdas posibles es: [4, 6, 14]\nEl número generado aleatoriamente es mayor o igual que épsilon, se elige el siguiente estado con más valor entre los posibles: 6.\nSe actualiza el valor de Q[3][6] a 818.9999999999997.\nActualizamos la celda actual a 6.\nLa lista de siguientes celdas posibles es: [1, 3, 15, 16, 18, 19, 21, 23]\nEl número generado aleatoriamente es mayor o igual que épsilon, se elige el siguiente estado con más valor entre los posibles: 21.\nSe actualiza el valor de Q[6][21] a 909.9999999999997.\nActualizamos la celda actual a 21.\nLa lista de siguientes celdas posibles es: [6, 14, 18, 28, 30, 34]\nEl número generado aleatoriamente es mayor o igual que épsilon, se elige el siguiente estado con más valor entre los posibles: 30.\nSe actualiza el valor de Q[21][30] a 999.9999999999997.\nActualizamos la celda actual a 30.\nSe actualiza el valor de épsilon a 2.694712722182926e-44.\nSe alcanza la celda objetivo.\n\nEpisodio 9983: Se establece 23 como celda de inicio, y se toma como celda objetivo la 30.\nLa lista de siguientes celdas posibles es: [6, 8, 12, 32]\nEl número generado aleatoriamente es mayor o igual que épsilon, se elige el siguiente estado con más valor entre los posibles: 6.\nSe actualiza el valor de Q[23][6] a 818.9999999999997.\nActualizamos la celda actual a 6.\nLa lista de siguientes celdas posibles es: [1, 3, 15, 16, 18, 19, 21, 23]\nEl número generado aleatoriamente es mayor o igual que épsilon, se elige el siguiente estado con más valor entre los posibles: 21.\nSe actualiza el valor de Q[6][21] a 909.9999999999997.\nActualizamos la celda actual a 21.\nLa lista de siguientes celdas posibles es: [6, 14, 18, 28, 30, 34]\nEl número generado aleatoriamente es mayor o igual que épsilon, se elige el siguiente estado con más valor entre los posibles: 30.\nSe actualiza el valor de Q[21][30] a 999.9999999999997.\nActualizamos la celda actual a 30.\nSe actualiza el valor de épsilon a 2.6677655949610967e-44.\nSe alcanza la celda objetivo.\n\nEpisodio 9984: Se establece 31 como celda de inicio, y se toma como celda objetivo la 30.\nLa lista de siguientes celdas posibles es: [12, 22, 28]\nEl número generado aleatoriamente es mayor o igual que épsilon, se elige el siguiente estado con más valor entre los posibles: 28.\nSe actualiza el valor de Q[31][28] a 818.9999999999997.\nActualizamos la celda actual a 28.\nLa lista de siguientes celdas posibles es: [11, 17, 21, 31]\nEl número generado aleatoriamente es mayor o igual que épsilon, se elige el siguiente estado con más valor entre los posibles: 21.\nSe actualiza el valor de Q[28][21] a 909.9999999999997.\nActualizamos la celda actual a 21.\nLa lista de siguientes celdas posibles es: [6, 14, 18, 28, 30, 34]\nEl número generado aleatoriamente es mayor o igual que épsilon, se elige el siguiente estado con más valor entre los posibles: 30.\nSe actualiza el valor de Q[21][30] a 999.9999999999997.\nActualizamos la celda actual a 30.\nSe actualiza el valor de épsilon a 2.6410879390114856e-44.\nSe alcanza la celda objetivo.\n\nEpisodio 9985: Se establece 27 como celda de inicio, y se toma como celda objetivo la 30.\nLa lista de siguientes celdas posibles es: [10, 12, 16, 20]\nEl número generado aleatoriamente es mayor o igual que épsilon, se elige el siguiente estado con más valor entre los posibles: 10.\nSe actualiza el valor de Q[27][10] a 809.9999999999997.\nActualizamos la celda actual a 10.\nLa lista de siguientes celdas posibles es: [1, 7, 13, 19, 25, 27]\nEl número generado aleatoriamente es mayor o igual que épsilon, se elige el siguiente estado con más valor entre los posibles: 19.\nSe actualiza el valor de Q[10][19] a 899.9999999999997.\nActualizamos la celda actual a 19.\nLa lista de siguientes celdas posibles es: [6, 10, 22, 26, 30, 32]\nEl número generado aleatoriamente es mayor o igual que épsilon, se elige el siguiente estado con más valor entre los posibles: 30.\nSe actualiza el valor de Q[19][30] a 999.9999999999997.\nActualizamos la celda actual a 30.\nSe actualiza el valor de épsilon a 2.6146770596213707e-44.\nSe alcanza la celda objetivo.\n\nEpisodio 9986: Se establece 15 como celda de inicio, y se toma como celda objetivo la 30.\nLa lista de siguientes celdas posibles es: [2, 6, 22, 34]\nEl número generado aleatoriamente es mayor o igual que épsilon, se elige el siguiente estado con más valor entre los posibles: 6.\nSe actualiza el valor de Q[15][6] a 818.9999999999997.\nActualizamos la celda actual a 6.\nLa lista de siguientes celdas posibles es: [1, 3, 15, 16, 18, 19, 21, 23]\nEl número generado aleatoriamente es mayor o igual que épsilon, se elige el siguiente estado con más valor entre los posibles: 21.\nSe actualiza el valor de Q[6][21] a 909.9999999999997.\nActualizamos la celda actual a 21.\nLa lista de siguientes celdas posibles es: [6, 14, 18, 28, 30, 34]\nEl número generado aleatoriamente es mayor o igual que épsilon, se elige el siguiente estado con más valor entre los posibles: 30.\nSe actualiza el valor de Q[21][30] a 999.9999999999997.\nActualizamos la celda actual a 30.\nSe actualiza el valor de épsilon a 2.588530289025157e-44.\nSe alcanza la celda objetivo.\n\nEpisodio 9987: Se establece 35 como celda de inicio, y se toma como celda objetivo la 30.\nLa lista de siguientes celdas posibles es: [14]\nEl número generado aleatoriamente es mayor o igual que épsilon, se elige el siguiente estado con más valor entre los posibles: 14.\nSe actualiza el valor de Q[35][14] a 818.9999999999997.\nActualizamos la celda actual a 14.\nLa lista de siguientes celdas posibles es: [3, 5, 11, 21, 33, 35]\nEl número generado aleatoriamente es mayor o igual que épsilon, se elige el siguiente estado con más valor entre los posibles: 21.\nSe actualiza el valor de Q[14][21] a 909.9999999999997.\nActualizamos la celda actual a 21.\nLa lista de siguientes celdas posibles es: [6, 14, 18, 28, 30, 34]\nEl número generado aleatoriamente es mayor o igual que épsilon, se elige el siguiente estado con más valor entre los posibles: 30.\nSe actualiza el valor de Q[21][30] a 999.9999999999997.\nActualizamos la celda actual a 30.\nSe actualiza el valor de épsilon a 2.5626449861349053e-44.\nSe alcanza la celda objetivo.\n\nEpisodio 9988: Se establece 24 como celda de inicio, y se toma como celda objetivo la 30.\nLa lista de siguientes celdas posibles es: [7, 13, 33]\nEl número generado aleatoriamente es mayor o igual que épsilon, se elige el siguiente estado con más valor entre los posibles: 13.\nSe actualiza el valor de Q[24][13] a 741.5999999999997.\nActualizamos la celda actual a 13.\nLa lista de siguientes celdas posibles es: [2, 8, 10, 18, 20, 24, 32, 34]\nEl número generado aleatoriamente es mayor o igual que épsilon, se elige el siguiente estado con más valor entre los posibles: 18.\nSe actualiza el valor de Q[13][18] a 823.9999999999997.\nActualizamos la celda actual a 18.\nLa lista de siguientes celdas posibles es: [5, 9, 13, 21, 25, 29]\nEl número generado aleatoriamente es mayor o igual que épsilon, se elige el siguiente estado con más valor entre los posibles: 21.\nSe actualiza el valor de Q[18][21] a 909.9999999999997.\nActualizamos la celda actual a 21.\nLa lista de siguientes celdas posibles es: [6, 14, 18, 28, 30, 34]\nEl número generado aleatoriamente es mayor o igual que épsilon, se elige el siguiente estado con más valor entre los posibles: 30.\nSe actualiza el valor de Q[21][30] a 999.9999999999997.\nActualizamos la celda actual a 30.\nSe actualiza el valor de épsilon a 2.537018536273556e-44.\nSe alcanza la celda objetivo.\n\nEpisodio 9989: Se establece 33 como celda de inicio, y se toma como celda objetivo la 30.\nLa lista de siguientes celdas posibles es: [12, 14, 20, 24]\nEl número generado aleatoriamente es mayor o igual que épsilon, se elige el siguiente estado con más valor entre los posibles: 14.\nSe actualiza el valor de Q[33][14] a 818.9999999999997.\nActualizamos la celda actual a 14.\nLa lista de siguientes celdas posibles es: [3, 5, 11, 21, 33, 35]\nEl número generado aleatoriamente es mayor o igual que épsilon, se elige el siguiente estado con más valor entre los posibles: 21.\nSe actualiza el valor de Q[14][21] a 909.9999999999997.\nActualizamos la celda actual a 21.\nLa lista de siguientes celdas posibles es: [6, 14, 18, 28, 30, 34]\nEl número generado aleatoriamente es mayor o igual que épsilon, se elige el siguiente estado con más valor entre los posibles: 30.\nSe actualiza el valor de Q[21][30] a 999.9999999999997.\nActualizamos la celda actual a 30.\nSe actualiza el valor de épsilon a 2.5116483509108205e-44.\nSe alcanza la celda objetivo.\n\nEpisodio 9990: Se establece 8 como celda de inicio, y se toma como celda objetivo la 30.\nLa lista de siguientes celdas posibles es: [1, 5, 13, 23]\nEl número generado aleatoriamente es mayor o igual que épsilon, se elige el siguiente estado con más valor entre los posibles: 5.\nSe actualiza el valor de Q[8][5] a 742.5999999999997.\nActualizamos la celda actual a 5.\nLa lista de siguientes celdas posibles es: [0, 8, 12, 14, 16, 18]\nEl número generado aleatoriamente es mayor o igual que épsilon, se elige el siguiente estado con más valor entre los posibles: 18.\nSe actualiza el valor de Q[5][18] a 823.9999999999997.\nActualizamos la celda actual a 18.\nLa lista de siguientes celdas posibles es: [5, 9, 13, 21, 25, 29]\nEl número generado aleatoriamente es mayor o igual que épsilon, se elige el siguiente estado con más valor entre los posibles: 21.\nSe actualiza el valor de Q[18][21] a 909.9999999999997.\nActualizamos la celda actual a 21.\nLa lista de siguientes celdas posibles es: [6, 14, 18, 28, 30, 34]\nEl número generado aleatoriamente es mayor o igual que épsilon, se elige el siguiente estado con más valor entre los posibles: 30.\nSe actualiza el valor de Q[21][30] a 999.9999999999997.\nActualizamos la celda actual a 30.\nSe actualiza el valor de épsilon a 2.486531867401712e-44.\nSe alcanza la celda objetivo.\n\nEpisodio 9991: Se establece 35 como celda de inicio, y se toma como celda objetivo la 30.\nLa lista de siguientes celdas posibles es: [14]\nEl número generado aleatoriamente es mayor o igual que épsilon, se elige el siguiente estado con más valor entre los posibles: 14.\nSe actualiza el valor de Q[35][14] a 818.9999999999997.\nActualizamos la celda actual a 14.\nLa lista de siguientes celdas posibles es: [3, 5, 11, 21, 33, 35]\nEl número generado aleatoriamente es mayor o igual que épsilon, se elige el siguiente estado con más valor entre los posibles: 21.\nSe actualiza el valor de Q[14][21] a 909.9999999999997.\nActualizamos la celda actual a 21.\nLa lista de siguientes celdas posibles es: [6, 14, 18, 28, 30, 34]\nEl número generado aleatoriamente es mayor o igual que épsilon, se elige el siguiente estado con más valor entre los posibles: 30.\nSe actualiza el valor de Q[21][30] a 999.9999999999997.\nActualizamos la celda actual a 30.\nSe actualiza el valor de épsilon a 2.461666548727695e-44.\nSe alcanza la celda objetivo.\n\nEpisodio 9992: Se establece 13 como celda de inicio, y se toma como celda objetivo la 30.\nLa lista de siguientes celdas posibles es: [2, 8, 10, 18, 20, 24, 32, 34]\nEl número generado aleatoriamente es mayor o igual que épsilon, se elige el siguiente estado con más valor entre los posibles: 18.\nSe actualiza el valor de Q[13][18] a 823.9999999999997.\nActualizamos la celda actual a 18.\nLa lista de siguientes celdas posibles es: [5, 9, 13, 21, 25, 29]\nEl número generado aleatoriamente es mayor o igual que épsilon, se elige el siguiente estado con más valor entre los posibles: 21.\nSe actualiza el valor de Q[18][21] a 909.9999999999997.\nActualizamos la celda actual a 21.\nLa lista de siguientes celdas posibles es: [6, 14, 18, 28, 30, 34]\nEl número generado aleatoriamente es mayor o igual que épsilon, se elige el siguiente estado con más valor entre los posibles: 30.\nSe actualiza el valor de Q[21][30] a 999.9999999999997.\nActualizamos la celda actual a 30.\nSe actualiza el valor de épsilon a 2.4370498832404183e-44.\nSe alcanza la celda objetivo.\n\nEpisodio 9993: Se establece 9 como celda de inicio, y se toma como celda objetivo la 30.\nLa lista de siguientes celdas posibles es: [2, 6, 18, 26]\nEl número generado aleatoriamente es mayor o igual que épsilon, se elige el siguiente estado con más valor entre los posibles: 18.\nSe actualiza el valor de Q[9][18] a 823.9999999999997.\nActualizamos la celda actual a 18.\nLa lista de siguientes celdas posibles es: [5, 9, 13, 21, 25, 29]\nEl número generado aleatoriamente es mayor o igual que épsilon, se elige el siguiente estado con más valor entre los posibles: 21.\nSe actualiza el valor de Q[18][21] a 909.9999999999997.\nActualizamos la celda actual a 21.\nLa lista de siguientes celdas posibles es: [6, 14, 18, 28, 30, 34]\nEl número generado aleatoriamente es mayor o igual que épsilon, se elige el siguiente estado con más valor entre los posibles: 30.\nSe actualiza el valor de Q[21][30] a 999.9999999999997.\nActualizamos la celda actual a 30.\nSe actualiza el valor de épsilon a 2.412679384408014e-44.\nSe alcanza la celda objetivo.\n\nEpisodio 9994: Se establece 6 como celda de inicio, y se toma como celda objetivo la 30.\nLa lista de siguientes celdas posibles es: [1, 3, 15, 16, 18, 19, 21, 23]\nEl número generado aleatoriamente es mayor o igual que épsilon, se elige el siguiente estado con más valor entre los posibles: 21.\nSe actualiza el valor de Q[6][21] a 909.9999999999997.\nActualizamos la celda actual a 21.\nLa lista de siguientes celdas posibles es: [6, 14, 18, 28, 30, 34]\nEl número generado aleatoriamente es mayor o igual que épsilon, se elige el siguiente estado con más valor entre los posibles: 30.\nSe actualiza el valor de Q[21][30] a 999.9999999999997.\nActualizamos la celda actual a 30.\nSe actualiza el valor de épsilon a 2.3885525905639335e-44.\nSe alcanza la celda objetivo.\n\nEpisodio 9995: Se establece 11 como celda de inicio, y se toma como celda objetivo la 30.\nLa lista de siguientes celdas posibles es: [2, 4, 14, 16, 20, 22, 26, 28]\nEl número generado aleatoriamente es mayor o igual que épsilon, se elige el siguiente estado con más valor entre los posibles: 14.\nSe actualiza el valor de Q[11][14] a 818.9999999999997.\nActualizamos la celda actual a 14.\nLa lista de siguientes celdas posibles es: [3, 5, 11, 21, 33, 35]\nEl número generado aleatoriamente es mayor o igual que épsilon, se elige el siguiente estado con más valor entre los posibles: 21.\nSe actualiza el valor de Q[14][21] a 909.9999999999997.\nActualizamos la celda actual a 21.\nLa lista de siguientes celdas posibles es: [6, 14, 18, 28, 30, 34]\nEl número generado aleatoriamente es mayor o igual que épsilon, se elige el siguiente estado con más valor entre los posibles: 30.\nSe actualiza el valor de Q[21][30] a 999.9999999999997.\nActualizamos la celda actual a 30.\nSe actualiza el valor de épsilon a 2.364667064658294e-44.\nSe alcanza la celda objetivo.\n\nEpisodio 9996: Se establece 28 como celda de inicio, y se toma como celda objetivo la 30.\nLa lista de siguientes celdas posibles es: [11, 17, 21, 31]\nEl número generado aleatoriamente es mayor o igual que épsilon, se elige el siguiente estado con más valor entre los posibles: 21.\nSe actualiza el valor de Q[28][21] a 909.9999999999997.\nActualizamos la celda actual a 21.\nLa lista de siguientes celdas posibles es: [6, 14, 18, 28, 30, 34]\nEl número generado aleatoriamente es mayor o igual que épsilon, se elige el siguiente estado con más valor entre los posibles: 30.\nSe actualiza el valor de Q[21][30] a 999.9999999999997.\nActualizamos la celda actual a 30.\nSe actualiza el valor de épsilon a 2.341020394011711e-44.\nSe alcanza la celda objetivo.\n\nEpisodio 9997: Se establece 24 como celda de inicio, y se toma como celda objetivo la 30.\nLa lista de siguientes celdas posibles es: [7, 13, 33]\nEl número generado aleatoriamente es mayor o igual que épsilon, se elige el siguiente estado con más valor entre los posibles: 13.\nSe actualiza el valor de Q[24][13] a 741.5999999999997.\nActualizamos la celda actual a 13.\nLa lista de siguientes celdas posibles es: [2, 8, 10, 18, 20, 24, 32, 34]\nEl número generado aleatoriamente es mayor o igual que épsilon, se elige el siguiente estado con más valor entre los posibles: 18.\nSe actualiza el valor de Q[13][18] a 823.9999999999997.\nActualizamos la celda actual a 18.\nLa lista de siguientes celdas posibles es: [5, 9, 13, 21, 25, 29]\nEl número generado aleatoriamente es mayor o igual que épsilon, se elige el siguiente estado con más valor entre los posibles: 21.\nSe actualiza el valor de Q[18][21] a 909.9999999999997.\nActualizamos la celda actual a 21.\nLa lista de siguientes celdas posibles es: [6, 14, 18, 28, 30, 34]\nEl número generado aleatoriamente es mayor o igual que épsilon, se elige el siguiente estado con más valor entre los posibles: 30.\nSe actualiza el valor de Q[21][30] a 999.9999999999997.\nActualizamos la celda actual a 30.\nSe actualiza el valor de épsilon a 2.317610190071594e-44.\nSe alcanza la celda objetivo.\n\nEpisodio 9998: Se establece 16 como celda de inicio, y se toma como celda objetivo la 30.\nLa lista de siguientes celdas posibles es: [5, 11, 27]\nEl número generado aleatoriamente es mayor o igual que épsilon, se elige el siguiente estado con más valor entre los posibles: 5.\nSe actualiza el valor de Q[16][5] a 742.5999999999997.\nActualizamos la celda actual a 5.\nLa lista de siguientes celdas posibles es: [0, 8, 12, 14, 16, 18]\nEl número generado aleatoriamente es mayor o igual que épsilon, se elige el siguiente estado con más valor entre los posibles: 18.\nSe actualiza el valor de Q[5][18] a 823.9999999999997.\nActualizamos la celda actual a 18.\nLa lista de siguientes celdas posibles es: [5, 9, 13, 21, 25, 29]\nEl número generado aleatoriamente es mayor o igual que épsilon, se elige el siguiente estado con más valor entre los posibles: 21.\nSe actualiza el valor de Q[18][21] a 909.9999999999997.\nActualizamos la celda actual a 21.\nLa lista de siguientes celdas posibles es: [6, 14, 18, 28, 30, 34]\nEl número generado aleatoriamente es mayor o igual que épsilon, se elige el siguiente estado con más valor entre los posibles: 30.\nSe actualiza el valor de Q[21][30] a 999.9999999999997.\nActualizamos la celda actual a 30.\nSe actualiza el valor de épsilon a 2.294434088170878e-44.\nSe alcanza la celda objetivo.\n\nEpisodio 9999: Se establece 14 como celda de inicio, y se toma como celda objetivo la 30.\nLa lista de siguientes celdas posibles es: [3, 5, 11, 21, 33, 35]\nEl número generado aleatoriamente es mayor o igual que épsilon, se elige el siguiente estado con más valor entre los posibles: 21.\nSe actualiza el valor de Q[14][21] a 909.9999999999997.\nActualizamos la celda actual a 21.\nLa lista de siguientes celdas posibles es: [6, 14, 18, 28, 30, 34]\nEl número generado aleatoriamente es mayor o igual que épsilon, se elige el siguiente estado con más valor entre los posibles: 30.\nSe actualiza el valor de Q[21][30] a 999.9999999999997.\nActualizamos la celda actual a 30.\nSe actualiza el valor de épsilon a 2.271489747289169e-44.\nSe alcanza la celda objetivo.\n\nEpisodio 10000: Se establece 33 como celda de inicio, y se toma como celda objetivo la 30.\nLa lista de siguientes celdas posibles es: [12, 14, 20, 24]\nEl número generado aleatoriamente es mayor o igual que épsilon, se elige el siguiente estado con más valor entre los posibles: 14.\nSe actualiza el valor de Q[33][14] a 818.9999999999997.\nActualizamos la celda actual a 14.\nLa lista de siguientes celdas posibles es: [3, 5, 11, 21, 33, 35]\nEl número generado aleatoriamente es mayor o igual que épsilon, se elige el siguiente estado con más valor entre los posibles: 21.\nSe actualiza el valor de Q[14][21] a 909.9999999999997.\nActualizamos la celda actual a 21.\nLa lista de siguientes celdas posibles es: [6, 14, 18, 28, 30, 34]\nEl número generado aleatoriamente es mayor o igual que épsilon, se elige el siguiente estado con más valor entre los posibles: 30.\nSe actualiza el valor de Q[21][30] a 999.9999999999997.\nActualizamos la celda actual a 30.\nSe actualiza el valor de épsilon a 2.2487748498162775e-44.\nSe alcanza la celda objetivo.\n"
    }
   ],
   "source": [
    "#Iniciamos el contador de tiempo para medidas de rendimiento\n",
    "start = time.time()\n",
    "\n",
    "rango = range(episodios)\n",
    "\n",
    "for x in rango:\n",
    "    inicio = randint(0, tamano-1)\n",
    "    print(\"\\nEpisodio \" + str(x+1) + \": Se establece \" + str(inicio) + \" como celda de inicio, y se toma como celda objetivo la \" + str(objetivo) + \".\")\n",
    "    actual = inicio\n",
    "    while actual != objetivo:\n",
    "        posibles = []\n",
    "        for y in range(tamano):\n",
    "            if R[actual][y] != -1:\n",
    "                posibles.append(y)\n",
    "        print(\"La lista de siguientes celdas posibles es: \" + str(posibles))\n",
    "        # Implementación epsilon fase 2\n",
    "        aleatorioEpsilon = random.uniform(0,1)\n",
    "\n",
    "        # Si el valor aleatorio es menor que epsilon\n",
    "        if aleatorioEpsilon < epsilon:\n",
    "            # Elegimos aleatoriamente el estado siguiente\n",
    "            aleatorioPosibles = randint(0,int(len(posibles)-1))\n",
    "            aleatorio = posibles[aleatorioPosibles]\n",
    "            print(\"El número generado aleatoriamente es menor que épsilon, el siguiente estado se elige al azar: \" + str(aleatorio) + \".\")\n",
    "        # Si el valor aleatorio es mayor que epsilon\n",
    "        else:\n",
    "            posiblesValor = []\n",
    "            for posible in posibles:\n",
    "                supuestosPosible = []\n",
    "                # Analizamos cuales son las celdas viables segun la matriz R\n",
    "                for aux in range(tamano):\n",
    "                    if R[posible][aux] != -1:\n",
    "                        # Calculamos el valor de dicha celda en nuestra matriz Q\n",
    "                        valor = Q[posible][aux]\n",
    "                        supuestosPosible.append(valor)\n",
    "                # Seleccionamos la celda con mayor valor en nuestra matriz\n",
    "                maximoSupuestosPosible = max(supuestosPosible)\n",
    "                posiblesValor.append(R[actual][posible] + gamma * maximoSupuestosPosible)\n",
    "            aleatorio = posibles[np.argmax(posiblesValor)]\n",
    "            print(\"El número generado aleatoriamente es mayor o igual que épsilon, se elige el siguiente estado con más valor entre los posibles: \" + str(aleatorio) + \".\")\n",
    "        ##---------------------\n",
    "        supuestos = []\n",
    "        for z in range(tamano):\n",
    "            if R[aleatorio][z] != -1:\n",
    "                calculo = Q[aleatorio][z]\n",
    "                supuestos.append(calculo)\n",
    "        maximoSupuestos = max(supuestos)\n",
    "        # Actualizamos el valor de Q segun los estados seleccionados\n",
    "        Q[actual][aleatorio] = R[actual][aleatorio] + gamma * maximoSupuestos\n",
    "        print(\"Se actualiza el valor de Q[\" + str(actual) + \"]\" + \"[\" + str(aleatorio) + \"] a \" + str(Q[actual][aleatorio]) + \".\" )\n",
    "        actual = aleatorio\n",
    "        print(\"Actualizamos la celda actual a \" + str(actual) + \".\")\n",
    "    # Actualizamos el valor de Q para la celda objetivo\n",
    "    Q[actual][actual] = R[actual][actual] + gamma * Q[actual][actual]\n",
    "    # Actualizamos el valor de epsilon en base al alpha definido y repetimos la iteracion hasta el ultimo episodio\n",
    "    epsilon = epsilon * alpha\n",
    "    print(\"Se actualiza el valor de épsilon a \" + str(epsilon) + \".\")\n",
    "    print(\"Se alcanza la celda objetivo.\")\n",
    "\n",
    "#Finalizamos el contador de tiempo para medidas de rendimiento\n",
    "end = time.time()"
   ]
  },
  {
   "cell_type": "markdown",
   "metadata": {},
   "source": [
    "## Matriz Q resultante\n",
    "Así queda la matriz Q después de completar todos los episodios."
   ]
  },
  {
   "cell_type": "code",
   "execution_count": 185,
   "metadata": {
    "tags": []
   },
   "outputs": [
    {
     "output_type": "stream",
     "name": "stdout",
     "text": "[[   0.            0.            0.            0.            0.\n   742.6           0.          728.99999798    0.            0.\n     0.            0.            0.            0.            0.\n     0.            0.            0.            0.            0.\n     0.            0.            0.            0.            0.\n     0.            0.            0.            0.            0.\n     0.            0.            0.            0.            0.\n     0.        ]\n [   0.            0.            0.            0.            0.\n     0.          819.            0.          610.190263      0.\n   808.93888339    0.            0.            0.            0.\n     0.            0.            0.            0.            0.\n     0.            0.            0.            0.            0.\n     0.            0.            0.            0.            0.\n     0.            0.            0.            0.            0.\n     0.        ]\n [   0.            0.            0.            0.            0.\n     0.            0.            0.            0.          741.6\n     0.          736.68890168    0.          741.6           0.\n   712.57679673    0.            0.            0.            0.\n     0.            0.            0.            0.            0.\n     0.            0.            0.            0.            0.\n     0.            0.            0.            0.            0.\n     0.        ]\n [   0.            0.            0.            0.          541.81334541\n     0.          819.            0.            0.            0.\n     0.            0.            0.            0.          819.\n     0.            0.            0.            0.            0.\n     0.            0.            0.            0.            0.\n     0.            0.            0.            0.            0.\n     0.            0.            0.            0.            0.\n     0.        ]\n [   0.            0.            0.          737.1           0.\n     0.            0.          384.59886791    0.            0.\n     0.          712.57679673    0.            0.            0.\n     0.            0.          737.1           0.            0.\n     0.            0.            0.            0.            0.\n     0.            0.            0.            0.            0.\n     0.            0.            0.            0.            0.\n     0.        ]\n [ 668.33999997    0.            0.            0.            0.\n     0.            0.            0.          668.33999982    0.\n     0.            0.          668.33998652    0.          818.9996074\n     0.          668.33601328    0.          824.            0.\n     0.            0.            0.            0.            0.\n     0.            0.            0.            0.            0.\n     0.            0.            0.            0.            0.\n     0.        ]\n [   0.          737.09997182    0.          737.09999985    0.\n     0.            0.            0.            0.            0.\n     0.            0.            0.            0.            0.\n   726.32473634  668.33999984    0.          823.7815255   899.54322409\n     0.          910.            0.          737.1           0.\n     0.            0.            0.            0.            0.\n     0.            0.            0.            0.            0.\n     0.        ]\n [ 631.06844495    0.            0.            0.          427.33207545\n     0.            0.            0.            0.            0.\n   810.            0.          668.33999881    0.            0.\n     0.            0.            0.            0.            0.\n     0.            0.          809.99999775    0.          553.97101087\n     0.            0.            0.            0.            0.\n     0.            0.            0.            0.            0.\n     0.        ]\n [   0.          730.03034951    0.            0.            0.\n   742.6           0.            0.            0.            0.\n     0.            0.            0.          730.82473634    0.\n     0.            0.            0.            0.            0.\n     0.            0.            0.          735.92098154    0.\n     0.            0.            0.            0.            0.\n     0.            0.            0.            0.            0.\n     0.        ]\n [   0.            0.          657.7422627     0.            0.\n     0.          818.99788129    0.            0.            0.\n     0.            0.            0.            0.            0.\n     0.            0.            0.          824.            0.\n     0.            0.            0.            0.            0.\n     0.          803.63731456    0.            0.            0.\n     0.            0.            0.            0.            0.\n     0.        ]\n [   0.          719.3022627     0.            0.            0.\n     0.            0.          728.04499505    0.            0.\n     0.            0.            0.          740.28997949    0.\n     0.            0.            0.            0.          900.\n     0.            0.            0.            0.            0.\n   730.82473634    0.          728.66701036    0.            0.\n     0.            0.            0.            0.            0.\n     0.        ]\n [   0.            0.          657.7422627     0.          583.62355692\n     0.            0.            0.            0.            0.\n     0.            0.            0.            0.          819.\n     0.          610.190263      0.            0.            0.\n   658.75160231    0.          800.3022627     0.            0.\n     0.          795.21911706    0.          818.99999478    0.\n     0.            0.            0.            0.            0.\n     0.        ]\n [   0.            0.            0.            0.            0.\n   742.6           0.          619.58101087    0.            0.\n     0.            0.            0.            0.            0.\n     0.            0.          735.10332189    0.            0.\n     0.            0.            0.          734.36107255    0.\n     0.            0.          719.3022627     0.          741.6\n     0.          665.31020123    0.          615.52334541    0.\n     0.        ]\n [   0.            0.          667.40720815    0.            0.\n     0.            0.            0.          668.33990021    0.\n   808.93888339    0.            0.            0.            0.\n     0.            0.            0.          824.            0.\n   667.26303565    0.            0.            0.          667.44\n     0.            0.            0.            0.            0.\n     0.            0.          809.95501804    0.          784.6631618\n     0.        ]\n [   0.            0.            0.          736.64322409    0.\n   742.59874892    0.            0.            0.            0.\n     0.          737.0999953     0.            0.            0.\n     0.            0.            0.            0.            0.\n     0.          910.            0.            0.            0.\n     0.            0.            0.            0.            0.\n     0.            0.            0.          737.09999954    0.\n   736.94073209]\n [   0.            0.          641.31911706    0.            0.\n     0.          819.            0.            0.            0.\n     0.            0.            0.            0.            0.\n     0.            0.            0.            0.            0.\n     0.            0.          795.21911706    0.            0.\n     0.            0.            0.            0.            0.\n     0.            0.            0.            0.          818.99998336\n     0.        ]\n [   0.            0.            0.            0.            0.\n   742.6           0.            0.            0.            0.\n     0.          737.09976817    0.            0.            0.\n     0.            0.            0.            0.            0.\n     0.            0.            0.            0.            0.\n     0.            0.          728.43607913    0.            0.\n     0.            0.            0.            0.            0.\n     0.        ]\n [   0.            0.            0.            0.          641.31911706\n     0.          819.            0.            0.            0.\n     0.            0.          110.15919       0.            0.\n     0.            0.            0.            0.            0.\n     0.            0.            0.            0.            0.\n     0.            0.            0.          818.99999922    0.\n     0.            0.            0.            0.            0.\n     0.        ]\n [   0.            0.            0.            0.            0.\n   742.59999867    0.            0.            0.          741.58970957\n     0.            0.            0.          741.59709368    0.\n     0.            0.            0.            0.            0.\n     0.          910.            0.            0.            0.\n   741.599831      0.            0.            0.          741.6\n     0.            0.            0.            0.            0.\n     0.        ]\n [   0.            0.            0.            0.            0.\n     0.          818.9999942     0.            0.            0.\n   809.92382265    0.            0.            0.            0.\n     0.            0.            0.            0.            0.\n     0.            0.          809.99999892    0.            0.\n     0.          810.            0.            0.            0.\n  1000.            0.          809.99809316    0.            0.\n     0.        ]\n [   0.            0.            0.            0.            0.\n     0.            0.            0.            0.            0.\n     0.          736.94073209    0.          741.6           0.\n     0.            0.            0.            0.            0.\n     0.            0.            0.            0.            0.\n     0.            0.          728.43607913    0.            0.\n     0.            0.            0.          737.1           0.\n     0.        ]\n [   0.            0.            0.            0.            0.\n     0.          818.99999577    0.            0.            0.\n     0.            0.            0.            0.          819.\n     0.            0.            0.          824.            0.\n     0.            0.            0.            0.            0.\n     0.            0.            0.          819.            0.\n  1000.            0.            0.            0.          819.\n     0.        ]\n [   0.            0.            0.            0.            0.\n     0.            0.          708.72444041    0.            0.\n     0.          737.07609474    0.            0.            0.\n   686.60884172    0.            0.            0.          900.\n     0.            0.            0.            0.            0.\n     0.            0.            0.            0.            0.\n     0.          665.31020123    0.            0.            0.\n   731.94622479]\n [   0.            0.            0.            0.            0.\n     0.          819.            0.          668.33073861    0.\n     0.            0.          664.95860809    0.            0.\n     0.            0.            0.            0.            0.\n     0.            0.            0.            0.            0.\n     0.            0.            0.            0.            0.\n     0.            0.          809.37342125    0.            0.\n     0.        ]\n [   0.            0.            0.            0.            0.\n     0.            0.          715.69720535    0.            0.\n     0.            0.            0.          741.6           0.\n     0.            0.            0.            0.            0.\n     0.            0.            0.            0.            0.\n     0.            0.            0.            0.            0.\n     0.            0.            0.          737.1           0.\n     0.        ]\n [   0.            0.            0.            0.            0.\n     0.            0.            0.            0.            0.\n   809.97848527    0.            0.            0.            0.\n     0.            0.            0.          824.            0.\n     0.            0.            0.            0.            0.\n     0.            0.            0.            0.            0.\n     0.            0.            0.            0.            0.\n     0.        ]\n [   0.            0.            0.            0.            0.\n     0.            0.            0.            0.          741.58970957\n     0.          736.85725055    0.            0.            0.\n     0.            0.            0.            0.          900.\n     0.            0.            0.            0.            0.\n     0.            0.            0.            0.            0.\n     0.            0.            0.            0.            0.\n     0.        ]\n [   0.            0.            0.            0.            0.\n     0.            0.            0.            0.            0.\n   810.            0.          664.95860809    0.            0.\n     0.          667.77607913    0.            0.            0.\n   667.26303565    0.            0.            0.            0.\n     0.            0.            0.            0.            0.\n     0.            0.            0.            0.            0.\n     0.        ]\n [   0.            0.            0.            0.            0.\n     0.            0.            0.            0.            0.\n     0.          736.92303565    0.            0.            0.\n     0.            0.          737.07848527    0.            0.\n     0.          910.            0.            0.            0.\n     0.            0.            0.            0.            0.\n     0.          523.10886791    0.            0.            0.\n     0.        ]\n [   0.            0.            0.            0.            0.\n     0.            0.            0.            0.            0.\n     0.            0.          657.7422627     0.            0.\n     0.            0.            0.          824.            0.\n     0.            0.            0.            0.            0.\n     0.            0.            0.            0.            0.\n     0.            0.          800.3022627     0.            0.\n     0.        ]\n [   0.            0.            0.            0.            0.\n     0.            0.            0.            0.            0.\n     0.            0.            0.            0.            0.\n     0.            0.            0.            0.            0.\n     0.            0.            0.            0.            0.\n     0.            0.            0.            0.            0.\n  1000.            0.            0.            0.            0.\n     0.        ]\n [   0.            0.            0.            0.            0.\n     0.            0.            0.            0.            0.\n     0.            0.          657.7422627     0.            0.\n     0.            0.            0.            0.            0.\n     0.            0.          581.23207545    0.            0.\n     0.            0.            0.          819.            0.\n     0.            0.            0.            0.            0.\n     0.        ]\n [   0.            0.            0.            0.            0.\n     0.            0.            0.            0.            0.\n     0.            0.            0.          741.59999999    0.\n     0.            0.            0.            0.          900.\n     0.            0.            0.          734.36107255    0.\n     0.            0.            0.            0.          730.82473634\n     0.            0.            0.            0.            0.\n     0.        ]\n [   0.            0.            0.            0.            0.\n     0.            0.            0.            0.            0.\n     0.            0.          668.33998502    0.          819.\n     0.            0.            0.            0.            0.\n   658.75160231    0.            0.            0.          663.27389369\n     0.            0.            0.            0.            0.\n     0.            0.            0.            0.            0.\n     0.        ]\n [   0.            0.            0.            0.            0.\n     0.            0.            0.            0.            0.\n     0.            0.            0.          737.84289787    0.\n   736.68890168    0.            0.            0.            0.\n     0.          910.          688.42334541    0.            0.\n     0.            0.            0.            0.            0.\n     0.            0.            0.            0.            0.\n     0.        ]\n [   0.            0.            0.            0.            0.\n     0.            0.            0.            0.            0.\n     0.            0.            0.            0.          819.\n     0.            0.            0.            0.            0.\n     0.            0.            0.            0.            0.\n     0.            0.            0.            0.            0.\n     0.            0.            0.            0.            0.\n     0.        ]]\n"
    }
   ],
   "source": [
    "print(Q)"
   ]
  },
  {
   "cell_type": "markdown",
   "metadata": {},
   "source": [
    "## Comprobante\n",
    "Se comprueba que una vez entrenada la matriz Q el agente encuentra el mejor camino, que, por ejemplo partiendo de 0 con las recompensas asignadas debería ser (0 -> 5 -> 18 -> 21 -> 30)."
   ]
  },
  {
   "cell_type": "code",
   "execution_count": 186,
   "metadata": {
    "tags": []
   },
   "outputs": [
    {
     "output_type": "stream",
     "name": "stdout",
     "text": "[0, 5, 18, 21, 30]\n"
    }
   ],
   "source": [
    "inicio = 0\n",
    "objetivo = 30\n",
    "camino = []\n",
    "camino.append(inicio)\n",
    "actual = inicio\n",
    "while actual != objetivo:\n",
    "    siguiente = np.argmax(Q[actual])\n",
    "    camino.append(siguiente)\n",
    "    actual = siguiente\n",
    "print(camino)\n"
   ]
  },
  {
   "cell_type": "markdown",
   "metadata": {},
   "source": [
    "## Rendimiento\n",
    "\n",
    "Se considerarán como medidas de rendimiento:\n",
    "* La suma de todos los valores de Q divididos entre el máximo valor de Q multiplicados por 100.\n",
    "* El tiempo total de la ejecución."
   ]
  },
  {
   "cell_type": "code",
   "execution_count": null,
   "metadata": {},
   "outputs": [],
   "source": [
    "# Obtenemos el valor máximo de la matriz Q\n",
    "maxQ = np.max(Q)\n",
    "# Dividimos cada elemento de la matriz Q por el valor máximo y lo multiplicamos por 100\n",
    "divQ = Q/maxQ*100\n",
    "# Sumamos todos los elementos de la matriz Q\n",
    "sumQ = divQ.sum()\n",
    "#Imprimimos los resultados de rendimiento\n",
    "print(\"El valor del rendimiento siguiendo la fórmula mencionada es: \" + str(divQ.sum()))\n",
    "print(\"El tiempo total de ejecución en segundos es: \" + str(end - start))"
   ]
  },
  {
   "cell_type": "code",
   "execution_count": null,
   "metadata": {},
   "outputs": [],
   "source": [
    "# Imprimimos la matriz normalizada\n",
    "print(divQ)"
   ]
  }
 ],
 "metadata": {
  "language_info": {
   "codemirror_mode": {
    "name": "ipython",
    "version": 3
   },
   "file_extension": ".py",
   "mimetype": "text/x-python",
   "name": "python",
   "nbconvert_exporter": "python",
   "pygments_lexer": "ipython3",
   "version": "3.8.2-final"
  },
  "orig_nbformat": 2,
  "kernelspec": {
   "name": "python38264bitc4c343130ed4464485181525644477d7",
   "display_name": "Python 3.8.2 64-bit"
  }
 },
 "nbformat": 4,
 "nbformat_minor": 2
}