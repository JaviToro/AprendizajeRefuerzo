{
 "cells": [
  {
   "cell_type": "markdown",
   "metadata": {},
   "source": [
    "### Importaciones\n",
    "Necesarias para el correcto funcionamiento del proyecto.\n",
    "\n",
    "Random: para la generación de números aleatorios\n",
    "Numpy: para poder trabajar con los tableros (matrices)"
   ]
  },
  {
   "cell_type": "code",
   "execution_count": 142,
   "metadata": {},
   "outputs": [],
   "source": [
    "import time\n",
    "import numpy as np\n",
    "import random\n",
    "from random import randint\n",
    "np.set_printoptions(threshold=sys.maxsize)"
   ]
  },
  {
   "cell_type": "markdown",
   "metadata": {},
   "source": [
    "# Aprendizaje por Refuerzo\n",
    "## Tablero\n",
    "Definimos el tablero descrito en el enunciado de la Fase 1."
   ]
  },
  {
   "cell_type": "code",
   "execution_count": 143,
   "metadata": {
    "tags": []
   },
   "outputs": [
    {
     "output_type": "stream",
     "name": "stdout",
     "text": "[[8 7 6]\n [3 2 5]\n [0 1 4]]\n"
    }
   ],
   "source": [
    "T = np.array([[8,7,6],\n",
    "              [3,2,5],\n",
    "              [0,1,4]])\n",
    "print(T)"
   ]
  },
  {
   "cell_type": "markdown",
   "metadata": {},
   "source": [
    "## Matriz R\n",
    "Definimos la matriz R calculada a partir de los posibles movimientos del tablero, definido según el enunciado de la Fase 1."
   ]
  },
  {
   "cell_type": "code",
   "execution_count": 144,
   "metadata": {
    "tags": []
   },
   "outputs": [
    {
     "output_type": "stream",
     "name": "stdout",
     "text": "[[ -1   0   0   0  -1  -1  -1  -1  -1]\n [  0  -1   0   0   0   0  -1  -1  -1]\n [  0   0  -1   0   0   0 100   0   0]\n [  0   0   0  -1  -1  -1  -1   0   0]\n [ -1   0   0  -1  -1   0  -1  -1  -1]\n [ -1   0   0  -1   0  -1 100   0  -1]\n [ -1  -1   0  -1  -1   0 100   0  -1]\n [ -1  -1   0   0  -1   0 100  -1   0]\n [ -1  -1   0   0  -1  -1  -1   0  -1]]\n"
    }
   ],
   "source": [
    "R = np.array([[-1,0,0,0,-1,-1,-1,-1,-1],\n",
    "              [0,-1,0,0,0,0,-1,-1,-1],\n",
    "              [0,0,-1,0,0,0,100,0,0],\n",
    "              [0,0,0,-1,-1,-1,-1,0,0],\n",
    "              [-1,0,0,-1,-1,0,-1,-1,-1],\n",
    "              [-1,0,0,-1,0,-1,100,0,-1],\n",
    "              [-1,-1,0,-1,-1,0,100,0,-1],\n",
    "              [-1,-1,0,0,-1,0,100,-1,0],\n",
    "              [-1,-1,0,0,-1,-1,-1,0,-1]])\n",
    "print(R)"
   ]
  },
  {
   "cell_type": "markdown",
   "metadata": {},
   "source": [
    "## Matriz Q\n",
    "Inicializamos Q como una matriz de 0s del mismo tamaño que la matriz R."
   ]
  },
  {
   "cell_type": "code",
   "execution_count": 145,
   "metadata": {
    "tags": []
   },
   "outputs": [
    {
     "output_type": "stream",
     "name": "stdout",
     "text": "[[0. 0. 0. 0. 0. 0. 0. 0. 0.]\n [0. 0. 0. 0. 0. 0. 0. 0. 0.]\n [0. 0. 0. 0. 0. 0. 0. 0. 0.]\n [0. 0. 0. 0. 0. 0. 0. 0. 0.]\n [0. 0. 0. 0. 0. 0. 0. 0. 0.]\n [0. 0. 0. 0. 0. 0. 0. 0. 0.]\n [0. 0. 0. 0. 0. 0. 0. 0. 0.]\n [0. 0. 0. 0. 0. 0. 0. 0. 0.]\n [0. 0. 0. 0. 0. 0. 0. 0. 0.]]\n"
    }
   ],
   "source": [
    "Q = np.zeros((9,9))\n",
    "print(Q)"
   ]
  },
  {
   "cell_type": "markdown",
   "metadata": {},
   "source": [
    "## Parámetros\n",
    "Apartado para configurar los distintos parámetros que utilizará el algoritmo."
   ]
  },
  {
   "cell_type": "code",
   "execution_count": 146,
   "metadata": {
    "tags": []
   },
   "outputs": [
    {
     "output_type": "stream",
     "name": "stdout",
     "text": "La celda de inicio será la 0 y la celda objetivo será la 6.\nEl número de episodios será 1000 y el factor de aprendizaje gamma es de 0.9.\n"
    }
   ],
   "source": [
    "inicio = 0\n",
    "objetivo = 6\n",
    "episodios = 1000\n",
    "gamma = 0.9\n",
    "tamano = 9 # Número total de casillas de la matriz\n",
    "print(\"La celda de inicio será la \" + str(inicio) + \" y la celda objetivo será la \" + str(objetivo) +\".\")\n",
    "print(\"El número de episodios será \" + str(episodios) + \" y el factor de aprendizaje gamma es de \" + str(gamma) + \".\")"
   ]
  },
  {
   "cell_type": "markdown",
   "metadata": {},
   "source": [
    "## Algoritmo\n",
    "Definimos el algoritmo en base al pseudo-código que aparece en el enunciado del trabajo."
   ]
  },
  {
   "cell_type": "code",
   "execution_count": 147,
   "metadata": {
    "tags": [
     "outputPrepend"
    ]
   },
   "outputs": [
    {
     "output_type": "stream",
     "name": "stdout",
     "text": "999999997.\nActualizamos la celda actual a 2.\nLa lista de siguientes celdas posibles es: [0, 1, 3, 4, 5, 6, 7, 8]\nSe elige aleatoriamente la celda 3.\nSe actualiza el valor de Q[2][3] a 809.9999999999997.\nActualizamos la celda actual a 3.\nLa lista de siguientes celdas posibles es: [0, 1, 2, 7, 8]\nSe elige aleatoriamente la celda 1.\nSe actualiza el valor de Q[3][1] a 809.9999999999997.\nActualizamos la celda actual a 1.\nLa lista de siguientes celdas posibles es: [0, 2, 3, 4, 5]\nSe elige aleatoriamente la celda 3.\nSe actualiza el valor de Q[1][3] a 809.9999999999997.\nActualizamos la celda actual a 3.\nLa lista de siguientes celdas posibles es: [0, 1, 2, 7, 8]\nSe elige aleatoriamente la celda 0.\nSe actualiza el valor de Q[3][0] a 809.9999999999997.\nActualizamos la celda actual a 0.\nLa lista de siguientes celdas posibles es: [1, 2, 3]\nSe elige aleatoriamente la celda 2.\nSe actualiza el valor de Q[0][2] a 899.9999999999997.\nActualizamos la celda actual a 2.\nLa lista de siguientes celdas posibles es: [0, 1, 3, 4, 5, 6, 7, 8]\nSe elige aleatoriamente la celda 5.\nSe actualiza el valor de Q[2][5] a 899.9999999999997.\nActualizamos la celda actual a 5.\nLa lista de siguientes celdas posibles es: [1, 2, 4, 6, 7]\nSe elige aleatoriamente la celda 7.\nSe actualiza el valor de Q[5][7] a 899.9999999999997.\nActualizamos la celda actual a 7.\nLa lista de siguientes celdas posibles es: [2, 3, 5, 6, 8]\nSe elige aleatoriamente la celda 2.\nSe actualiza el valor de Q[7][2] a 899.9999999999997.\nActualizamos la celda actual a 2.\nLa lista de siguientes celdas posibles es: [0, 1, 3, 4, 5, 6, 7, 8]\nSe elige aleatoriamente la celda 5.\nSe actualiza el valor de Q[2][5] a 899.9999999999997.\nActualizamos la celda actual a 5.\nLa lista de siguientes celdas posibles es: [1, 2, 4, 6, 7]\nSe elige aleatoriamente la celda 6.\nSe actualiza el valor de Q[5][6] a 999.9999999999997.\nActualizamos la celda actual a 6.\nSe alcanza la celda objetivo.\n\nEpisodio 991: Se establece 0 como celda de inicio, y se toma como celda objetivo la 6.\nLa lista de siguientes celdas posibles es: [1, 2, 3]\nSe elige aleatoriamente la celda 1.\nSe actualiza el valor de Q[0][1] a 809.9999999999997.\nActualizamos la celda actual a 1.\nLa lista de siguientes celdas posibles es: [0, 2, 3, 4, 5]\nSe elige aleatoriamente la celda 3.\nSe actualiza el valor de Q[1][3] a 809.9999999999997.\nActualizamos la celda actual a 3.\nLa lista de siguientes celdas posibles es: [0, 1, 2, 7, 8]\nSe elige aleatoriamente la celda 0.\nSe actualiza el valor de Q[3][0] a 809.9999999999997.\nActualizamos la celda actual a 0.\nLa lista de siguientes celdas posibles es: [1, 2, 3]\nSe elige aleatoriamente la celda 2.\nSe actualiza el valor de Q[0][2] a 899.9999999999997.\nActualizamos la celda actual a 2.\nLa lista de siguientes celdas posibles es: [0, 1, 3, 4, 5, 6, 7, 8]\nSe elige aleatoriamente la celda 7.\nSe actualiza el valor de Q[2][7] a 899.9999999999997.\nActualizamos la celda actual a 7.\nLa lista de siguientes celdas posibles es: [2, 3, 5, 6, 8]\nSe elige aleatoriamente la celda 2.\nSe actualiza el valor de Q[7][2] a 899.9999999999997.\nActualizamos la celda actual a 2.\nLa lista de siguientes celdas posibles es: [0, 1, 3, 4, 5, 6, 7, 8]\nSe elige aleatoriamente la celda 0.\nSe actualiza el valor de Q[2][0] a 809.9999999999997.\nActualizamos la celda actual a 0.\nLa lista de siguientes celdas posibles es: [1, 2, 3]\nSe elige aleatoriamente la celda 3.\nSe actualiza el valor de Q[0][3] a 809.9999999999997.\nActualizamos la celda actual a 3.\nLa lista de siguientes celdas posibles es: [0, 1, 2, 7, 8]\nSe elige aleatoriamente la celda 1.\nSe actualiza el valor de Q[3][1] a 809.9999999999997.\nActualizamos la celda actual a 1.\nLa lista de siguientes celdas posibles es: [0, 2, 3, 4, 5]\nSe elige aleatoriamente la celda 2.\nSe actualiza el valor de Q[1][2] a 899.9999999999997.\nActualizamos la celda actual a 2.\nLa lista de siguientes celdas posibles es: [0, 1, 3, 4, 5, 6, 7, 8]\nSe elige aleatoriamente la celda 8.\nSe actualiza el valor de Q[2][8] a 809.9999999999997.\nActualizamos la celda actual a 8.\nLa lista de siguientes celdas posibles es: [2, 3, 7]\nSe elige aleatoriamente la celda 7.\nSe actualiza el valor de Q[8][7] a 899.9999999999997.\nActualizamos la celda actual a 7.\nLa lista de siguientes celdas posibles es: [2, 3, 5, 6, 8]\nSe elige aleatoriamente la celda 5.\nSe actualiza el valor de Q[7][5] a 899.9999999999997.\nActualizamos la celda actual a 5.\nLa lista de siguientes celdas posibles es: [1, 2, 4, 6, 7]\nSe elige aleatoriamente la celda 6.\nSe actualiza el valor de Q[5][6] a 999.9999999999997.\nActualizamos la celda actual a 6.\nSe alcanza la celda objetivo.\n\nEpisodio 992: Se establece 0 como celda de inicio, y se toma como celda objetivo la 6.\nLa lista de siguientes celdas posibles es: [1, 2, 3]\nSe elige aleatoriamente la celda 2.\nSe actualiza el valor de Q[0][2] a 899.9999999999997.\nActualizamos la celda actual a 2.\nLa lista de siguientes celdas posibles es: [0, 1, 3, 4, 5, 6, 7, 8]\nSe elige aleatoriamente la celda 3.\nSe actualiza el valor de Q[2][3] a 809.9999999999997.\nActualizamos la celda actual a 3.\nLa lista de siguientes celdas posibles es: [0, 1, 2, 7, 8]\nSe elige aleatoriamente la celda 2.\nSe actualiza el valor de Q[3][2] a 899.9999999999997.\nActualizamos la celda actual a 2.\nLa lista de siguientes celdas posibles es: [0, 1, 3, 4, 5, 6, 7, 8]\nSe elige aleatoriamente la celda 6.\nSe actualiza el valor de Q[2][6] a 999.9999999999997.\nActualizamos la celda actual a 6.\nSe alcanza la celda objetivo.\n\nEpisodio 993: Se establece 8 como celda de inicio, y se toma como celda objetivo la 6.\nLa lista de siguientes celdas posibles es: [2, 3, 7]\nSe elige aleatoriamente la celda 7.\nSe actualiza el valor de Q[8][7] a 899.9999999999997.\nActualizamos la celda actual a 7.\nLa lista de siguientes celdas posibles es: [2, 3, 5, 6, 8]\nSe elige aleatoriamente la celda 6.\nSe actualiza el valor de Q[7][6] a 999.9999999999997.\nActualizamos la celda actual a 6.\nSe alcanza la celda objetivo.\n\nEpisodio 994: Se establece 4 como celda de inicio, y se toma como celda objetivo la 6.\nLa lista de siguientes celdas posibles es: [1, 2, 5]\nSe elige aleatoriamente la celda 1.\nSe actualiza el valor de Q[4][1] a 809.9999999999997.\nActualizamos la celda actual a 1.\nLa lista de siguientes celdas posibles es: [0, 2, 3, 4, 5]\nSe elige aleatoriamente la celda 5.\nSe actualiza el valor de Q[1][5] a 899.9999999999997.\nActualizamos la celda actual a 5.\nLa lista de siguientes celdas posibles es: [1, 2, 4, 6, 7]\nSe elige aleatoriamente la celda 7.\nSe actualiza el valor de Q[5][7] a 899.9999999999997.\nActualizamos la celda actual a 7.\nLa lista de siguientes celdas posibles es: [2, 3, 5, 6, 8]\nSe elige aleatoriamente la celda 6.\nSe actualiza el valor de Q[7][6] a 999.9999999999997.\nActualizamos la celda actual a 6.\nSe alcanza la celda objetivo.\n\nEpisodio 995: Se establece 3 como celda de inicio, y se toma como celda objetivo la 6.\nLa lista de siguientes celdas posibles es: [0, 1, 2, 7, 8]\nSe elige aleatoriamente la celda 2.\nSe actualiza el valor de Q[3][2] a 899.9999999999997.\nActualizamos la celda actual a 2.\nLa lista de siguientes celdas posibles es: [0, 1, 3, 4, 5, 6, 7, 8]\nSe elige aleatoriamente la celda 8.\nSe actualiza el valor de Q[2][8] a 809.9999999999997.\nActualizamos la celda actual a 8.\nLa lista de siguientes celdas posibles es: [2, 3, 7]\nSe elige aleatoriamente la celda 7.\nSe actualiza el valor de Q[8][7] a 899.9999999999997.\nActualizamos la celda actual a 7.\nLa lista de siguientes celdas posibles es: [2, 3, 5, 6, 8]\nSe elige aleatoriamente la celda 3.\nSe actualiza el valor de Q[7][3] a 809.9999999999997.\nActualizamos la celda actual a 3.\nLa lista de siguientes celdas posibles es: [0, 1, 2, 7, 8]\nSe elige aleatoriamente la celda 7.\nSe actualiza el valor de Q[3][7] a 899.9999999999997.\nActualizamos la celda actual a 7.\nLa lista de siguientes celdas posibles es: [2, 3, 5, 6, 8]\nSe elige aleatoriamente la celda 5.\nSe actualiza el valor de Q[7][5] a 899.9999999999997.\nActualizamos la celda actual a 5.\nLa lista de siguientes celdas posibles es: [1, 2, 4, 6, 7]\nSe elige aleatoriamente la celda 6.\nSe actualiza el valor de Q[5][6] a 999.9999999999997.\nActualizamos la celda actual a 6.\nSe alcanza la celda objetivo.\n\nEpisodio 996: Se establece 2 como celda de inicio, y se toma como celda objetivo la 6.\nLa lista de siguientes celdas posibles es: [0, 1, 3, 4, 5, 6, 7, 8]\nSe elige aleatoriamente la celda 5.\nSe actualiza el valor de Q[2][5] a 899.9999999999997.\nActualizamos la celda actual a 5.\nLa lista de siguientes celdas posibles es: [1, 2, 4, 6, 7]\nSe elige aleatoriamente la celda 7.\nSe actualiza el valor de Q[5][7] a 899.9999999999997.\nActualizamos la celda actual a 7.\nLa lista de siguientes celdas posibles es: [2, 3, 5, 6, 8]\nSe elige aleatoriamente la celda 2.\nSe actualiza el valor de Q[7][2] a 899.9999999999997.\nActualizamos la celda actual a 2.\nLa lista de siguientes celdas posibles es: [0, 1, 3, 4, 5, 6, 7, 8]\nSe elige aleatoriamente la celda 1.\nSe actualiza el valor de Q[2][1] a 809.9999999999997.\nActualizamos la celda actual a 1.\nLa lista de siguientes celdas posibles es: [0, 2, 3, 4, 5]\nSe elige aleatoriamente la celda 2.\nSe actualiza el valor de Q[1][2] a 899.9999999999997.\nActualizamos la celda actual a 2.\nLa lista de siguientes celdas posibles es: [0, 1, 3, 4, 5, 6, 7, 8]\nSe elige aleatoriamente la celda 7.\nSe actualiza el valor de Q[2][7] a 899.9999999999997.\nActualizamos la celda actual a 7.\nLa lista de siguientes celdas posibles es: [2, 3, 5, 6, 8]\nSe elige aleatoriamente la celda 3.\nSe actualiza el valor de Q[7][3] a 809.9999999999997.\nActualizamos la celda actual a 3.\nLa lista de siguientes celdas posibles es: [0, 1, 2, 7, 8]\nSe elige aleatoriamente la celda 0.\nSe actualiza el valor de Q[3][0] a 809.9999999999997.\nActualizamos la celda actual a 0.\nLa lista de siguientes celdas posibles es: [1, 2, 3]\nSe elige aleatoriamente la celda 3.\nSe actualiza el valor de Q[0][3] a 809.9999999999997.\nActualizamos la celda actual a 3.\nLa lista de siguientes celdas posibles es: [0, 1, 2, 7, 8]\nSe elige aleatoriamente la celda 7.\nSe actualiza el valor de Q[3][7] a 899.9999999999997.\nActualizamos la celda actual a 7.\nLa lista de siguientes celdas posibles es: [2, 3, 5, 6, 8]\nSe elige aleatoriamente la celda 2.\nSe actualiza el valor de Q[7][2] a 899.9999999999997.\nActualizamos la celda actual a 2.\nLa lista de siguientes celdas posibles es: [0, 1, 3, 4, 5, 6, 7, 8]\nSe elige aleatoriamente la celda 5.\nSe actualiza el valor de Q[2][5] a 899.9999999999997.\nActualizamos la celda actual a 5.\nLa lista de siguientes celdas posibles es: [1, 2, 4, 6, 7]\nSe elige aleatoriamente la celda 4.\nSe actualiza el valor de Q[5][4] a 809.9999999999997.\nActualizamos la celda actual a 4.\nLa lista de siguientes celdas posibles es: [1, 2, 5]\nSe elige aleatoriamente la celda 1.\nSe actualiza el valor de Q[4][1] a 809.9999999999997.\nActualizamos la celda actual a 1.\nLa lista de siguientes celdas posibles es: [0, 2, 3, 4, 5]\nSe elige aleatoriamente la celda 2.\nSe actualiza el valor de Q[1][2] a 899.9999999999997.\nActualizamos la celda actual a 2.\nLa lista de siguientes celdas posibles es: [0, 1, 3, 4, 5, 6, 7, 8]\nSe elige aleatoriamente la celda 8.\nSe actualiza el valor de Q[2][8] a 809.9999999999997.\nActualizamos la celda actual a 8.\nLa lista de siguientes celdas posibles es: [2, 3, 7]\nSe elige aleatoriamente la celda 2.\nSe actualiza el valor de Q[8][2] a 899.9999999999997.\nActualizamos la celda actual a 2.\nLa lista de siguientes celdas posibles es: [0, 1, 3, 4, 5, 6, 7, 8]\nSe elige aleatoriamente la celda 8.\nSe actualiza el valor de Q[2][8] a 809.9999999999997.\nActualizamos la celda actual a 8.\nLa lista de siguientes celdas posibles es: [2, 3, 7]\nSe elige aleatoriamente la celda 7.\nSe actualiza el valor de Q[8][7] a 899.9999999999997.\nActualizamos la celda actual a 7.\nLa lista de siguientes celdas posibles es: [2, 3, 5, 6, 8]\nSe elige aleatoriamente la celda 8.\nSe actualiza el valor de Q[7][8] a 809.9999999999997.\nActualizamos la celda actual a 8.\nLa lista de siguientes celdas posibles es: [2, 3, 7]\nSe elige aleatoriamente la celda 7.\nSe actualiza el valor de Q[8][7] a 899.9999999999997.\nActualizamos la celda actual a 7.\nLa lista de siguientes celdas posibles es: [2, 3, 5, 6, 8]\nSe elige aleatoriamente la celda 8.\nSe actualiza el valor de Q[7][8] a 809.9999999999997.\nActualizamos la celda actual a 8.\nLa lista de siguientes celdas posibles es: [2, 3, 7]\nSe elige aleatoriamente la celda 3.\nSe actualiza el valor de Q[8][3] a 809.9999999999997.\nActualizamos la celda actual a 3.\nLa lista de siguientes celdas posibles es: [0, 1, 2, 7, 8]\nSe elige aleatoriamente la celda 2.\nSe actualiza el valor de Q[3][2] a 899.9999999999997.\nActualizamos la celda actual a 2.\nLa lista de siguientes celdas posibles es: [0, 1, 3, 4, 5, 6, 7, 8]\nSe elige aleatoriamente la celda 1.\nSe actualiza el valor de Q[2][1] a 809.9999999999997.\nActualizamos la celda actual a 1.\nLa lista de siguientes celdas posibles es: [0, 2, 3, 4, 5]\nSe elige aleatoriamente la celda 5.\nSe actualiza el valor de Q[1][5] a 899.9999999999997.\nActualizamos la celda actual a 5.\nLa lista de siguientes celdas posibles es: [1, 2, 4, 6, 7]\nSe elige aleatoriamente la celda 1.\nSe actualiza el valor de Q[5][1] a 809.9999999999997.\nActualizamos la celda actual a 1.\nLa lista de siguientes celdas posibles es: [0, 2, 3, 4, 5]\nSe elige aleatoriamente la celda 2.\nSe actualiza el valor de Q[1][2] a 899.9999999999997.\nActualizamos la celda actual a 2.\nLa lista de siguientes celdas posibles es: [0, 1, 3, 4, 5, 6, 7, 8]\nSe elige aleatoriamente la celda 4.\nSe actualiza el valor de Q[2][4] a 809.9999999999997.\nActualizamos la celda actual a 4.\nLa lista de siguientes celdas posibles es: [1, 2, 5]\nSe elige aleatoriamente la celda 5.\nSe actualiza el valor de Q[4][5] a 899.9999999999997.\nActualizamos la celda actual a 5.\nLa lista de siguientes celdas posibles es: [1, 2, 4, 6, 7]\nSe elige aleatoriamente la celda 1.\nSe actualiza el valor de Q[5][1] a 809.9999999999997.\nActualizamos la celda actual a 1.\nLa lista de siguientes celdas posibles es: [0, 2, 3, 4, 5]\nSe elige aleatoriamente la celda 5.\nSe actualiza el valor de Q[1][5] a 899.9999999999997.\nActualizamos la celda actual a 5.\nLa lista de siguientes celdas posibles es: [1, 2, 4, 6, 7]\nSe elige aleatoriamente la celda 6.\nSe actualiza el valor de Q[5][6] a 999.9999999999997.\nActualizamos la celda actual a 6.\nSe alcanza la celda objetivo.\n\nEpisodio 997: Se establece 2 como celda de inicio, y se toma como celda objetivo la 6.\nLa lista de siguientes celdas posibles es: [0, 1, 3, 4, 5, 6, 7, 8]\nSe elige aleatoriamente la celda 5.\nSe actualiza el valor de Q[2][5] a 899.9999999999997.\nActualizamos la celda actual a 5.\nLa lista de siguientes celdas posibles es: [1, 2, 4, 6, 7]\nSe elige aleatoriamente la celda 1.\nSe actualiza el valor de Q[5][1] a 809.9999999999997.\nActualizamos la celda actual a 1.\nLa lista de siguientes celdas posibles es: [0, 2, 3, 4, 5]\nSe elige aleatoriamente la celda 3.\nSe actualiza el valor de Q[1][3] a 809.9999999999997.\nActualizamos la celda actual a 3.\nLa lista de siguientes celdas posibles es: [0, 1, 2, 7, 8]\nSe elige aleatoriamente la celda 8.\nSe actualiza el valor de Q[3][8] a 809.9999999999997.\nActualizamos la celda actual a 8.\nLa lista de siguientes celdas posibles es: [2, 3, 7]\nSe elige aleatoriamente la celda 7.\nSe actualiza el valor de Q[8][7] a 899.9999999999997.\nActualizamos la celda actual a 7.\nLa lista de siguientes celdas posibles es: [2, 3, 5, 6, 8]\nSe elige aleatoriamente la celda 6.\nSe actualiza el valor de Q[7][6] a 999.9999999999997.\nActualizamos la celda actual a 6.\nSe alcanza la celda objetivo.\n\nEpisodio 998: Se establece 7 como celda de inicio, y se toma como celda objetivo la 6.\nLa lista de siguientes celdas posibles es: [2, 3, 5, 6, 8]\nSe elige aleatoriamente la celda 2.\nSe actualiza el valor de Q[7][2] a 899.9999999999997.\nActualizamos la celda actual a 2.\nLa lista de siguientes celdas posibles es: [0, 1, 3, 4, 5, 6, 7, 8]\nSe elige aleatoriamente la celda 3.\nSe actualiza el valor de Q[2][3] a 809.9999999999997.\nActualizamos la celda actual a 3.\nLa lista de siguientes celdas posibles es: [0, 1, 2, 7, 8]\nSe elige aleatoriamente la celda 0.\nSe actualiza el valor de Q[3][0] a 809.9999999999997.\nActualizamos la celda actual a 0.\nLa lista de siguientes celdas posibles es: [1, 2, 3]\nSe elige aleatoriamente la celda 3.\nSe actualiza el valor de Q[0][3] a 809.9999999999997.\nActualizamos la celda actual a 3.\nLa lista de siguientes celdas posibles es: [0, 1, 2, 7, 8]\nSe elige aleatoriamente la celda 7.\nSe actualiza el valor de Q[3][7] a 899.9999999999997.\nActualizamos la celda actual a 7.\nLa lista de siguientes celdas posibles es: [2, 3, 5, 6, 8]\nSe elige aleatoriamente la celda 3.\nSe actualiza el valor de Q[7][3] a 809.9999999999997.\nActualizamos la celda actual a 3.\nLa lista de siguientes celdas posibles es: [0, 1, 2, 7, 8]\nSe elige aleatoriamente la celda 1.\nSe actualiza el valor de Q[3][1] a 809.9999999999997.\nActualizamos la celda actual a 1.\nLa lista de siguientes celdas posibles es: [0, 2, 3, 4, 5]\nSe elige aleatoriamente la celda 5.\nSe actualiza el valor de Q[1][5] a 899.9999999999997.\nActualizamos la celda actual a 5.\nLa lista de siguientes celdas posibles es: [1, 2, 4, 6, 7]\nSe elige aleatoriamente la celda 2.\nSe actualiza el valor de Q[5][2] a 899.9999999999997.\nActualizamos la celda actual a 2.\nLa lista de siguientes celdas posibles es: [0, 1, 3, 4, 5, 6, 7, 8]\nSe elige aleatoriamente la celda 8.\nSe actualiza el valor de Q[2][8] a 809.9999999999997.\nActualizamos la celda actual a 8.\nLa lista de siguientes celdas posibles es: [2, 3, 7]\nSe elige aleatoriamente la celda 3.\nSe actualiza el valor de Q[8][3] a 809.9999999999997.\nActualizamos la celda actual a 3.\nLa lista de siguientes celdas posibles es: [0, 1, 2, 7, 8]\nSe elige aleatoriamente la celda 2.\nSe actualiza el valor de Q[3][2] a 899.9999999999997.\nActualizamos la celda actual a 2.\nLa lista de siguientes celdas posibles es: [0, 1, 3, 4, 5, 6, 7, 8]\nSe elige aleatoriamente la celda 3.\nSe actualiza el valor de Q[2][3] a 809.9999999999997.\nActualizamos la celda actual a 3.\nLa lista de siguientes celdas posibles es: [0, 1, 2, 7, 8]\nSe elige aleatoriamente la celda 8.\nSe actualiza el valor de Q[3][8] a 809.9999999999997.\nActualizamos la celda actual a 8.\nLa lista de siguientes celdas posibles es: [2, 3, 7]\nSe elige aleatoriamente la celda 7.\nSe actualiza el valor de Q[8][7] a 899.9999999999997.\nActualizamos la celda actual a 7.\nLa lista de siguientes celdas posibles es: [2, 3, 5, 6, 8]\nSe elige aleatoriamente la celda 6.\nSe actualiza el valor de Q[7][6] a 999.9999999999997.\nActualizamos la celda actual a 6.\nSe alcanza la celda objetivo.\n\nEpisodio 999: Se establece 2 como celda de inicio, y se toma como celda objetivo la 6.\nLa lista de siguientes celdas posibles es: [0, 1, 3, 4, 5, 6, 7, 8]\nSe elige aleatoriamente la celda 1.\nSe actualiza el valor de Q[2][1] a 809.9999999999997.\nActualizamos la celda actual a 1.\nLa lista de siguientes celdas posibles es: [0, 2, 3, 4, 5]\nSe elige aleatoriamente la celda 3.\nSe actualiza el valor de Q[1][3] a 809.9999999999997.\nActualizamos la celda actual a 3.\nLa lista de siguientes celdas posibles es: [0, 1, 2, 7, 8]\nSe elige aleatoriamente la celda 1.\nSe actualiza el valor de Q[3][1] a 809.9999999999997.\nActualizamos la celda actual a 1.\nLa lista de siguientes celdas posibles es: [0, 2, 3, 4, 5]\nSe elige aleatoriamente la celda 5.\nSe actualiza el valor de Q[1][5] a 899.9999999999997.\nActualizamos la celda actual a 5.\nLa lista de siguientes celdas posibles es: [1, 2, 4, 6, 7]\nSe elige aleatoriamente la celda 7.\nSe actualiza el valor de Q[5][7] a 899.9999999999997.\nActualizamos la celda actual a 7.\nLa lista de siguientes celdas posibles es: [2, 3, 5, 6, 8]\nSe elige aleatoriamente la celda 6.\nSe actualiza el valor de Q[7][6] a 999.9999999999997.\nActualizamos la celda actual a 6.\nSe alcanza la celda objetivo.\n\nEpisodio 1000: Se establece 6 como celda de inicio, y se toma como celda objetivo la 6.\nSe alcanza la celda objetivo.\n"
    }
   ],
   "source": [
    "#Iniciamos el contador de tiempo para medidas de rendimiento\n",
    "start = time.time()\n",
    "\n",
    "# Asignamos el número de episodios del algoritmo en base al valor definido\n",
    "rango = range(episodios)\n",
    "\n",
    "# Definimos el bucle del algoritmo que se irá ejecutando hasta que finalicen los episodios\n",
    "for x in rango:\n",
    "    # Iniciamos en una casilla aleatoria del tablero\n",
    "    inicio = randint(0, (tamano-1))\n",
    "    print(\"\\nEpisodio \" + str(x+1) + \": Se establece \" + str(inicio) + \" como celda de inicio, y se toma como celda objetivo la \" + str(objetivo) + \".\")\n",
    "    # Establecemos que el episodio en ejecucion comience en la casilla de inicio \n",
    "    actual = inicio\n",
    "    # Definimos el bucle que se ejecutara hasta que se llegue a la celda objetivo\n",
    "    while actual != objetivo:\n",
    "        # Inicializamos una lista donde añadimos las posibles celdas para el siguiente estado\n",
    "        # en base a lo definido en la matriz R \n",
    "        posibles = []\n",
    "        for y in range(tamano):\n",
    "            if R[actual][y] != -1:\n",
    "                posibles.append(y)\n",
    "        print(\"La lista de siguientes celdas posibles es: \" + str(posibles))\n",
    "        # Elegimos aleatoriamente, entre las celdas posibles, la siguiente\n",
    "        aleatorioPosibles = randint(0,int(len(posibles)-1))\n",
    "        aleatorio = posibles[aleatorioPosibles]\n",
    "        print(\"Se elige aleatoriamente la celda \" + str(aleatorio) + \".\")\n",
    "        # Inicializamos una lista donde evaluamos los posibles siguientes estados (en base a la matriz Q)\n",
    "        supuestos = []\n",
    "        for z in range(tamano):\n",
    "            if R[aleatorio][z] != -1:\n",
    "                calculo = Q[aleatorio][z]\n",
    "                supuestos.append(calculo)\n",
    "        # Seleccionamos el mayor valor de todos los posibles supuestos\n",
    "        maximoSupuestos = max(supuestos)\n",
    "        # Actualizamos la matriz Q con el maximo localizado\n",
    "        Q[actual][aleatorio] = R[actual][aleatorio] + gamma * maximoSupuestos\n",
    "        print(\"Se actualiza el valor de Q[\" + str(actual) + \"]\" + \"[\" + str(aleatorio) + \"] a \" + str(Q[actual][aleatorio]) + \".\" )\n",
    "        # Pasamos a la celda elegida aleatoriamente y volvemos a iterar\n",
    "        actual = aleatorio\n",
    "        print(\"Actualizamos la celda actual a \" + str(actual) + \".\")\n",
    "    # Actualizamos el valor de Q para la celda objetivo\n",
    "    Q[actual][actual] = R[actual][actual] + gamma * Q[actual][actual]\n",
    "    print(\"Se alcanza la celda objetivo.\")\n",
    "\n",
    "#Finalizamos el contador de tiempo para medidas de rendimiento\n",
    "end = time.time()"
   ]
  },
  {
   "cell_type": "markdown",
   "metadata": {},
   "source": [
    "## Matriz Q resultante\n",
    "Así queda la matriz Q después de completar todos los episodios."
   ]
  },
  {
   "cell_type": "code",
   "execution_count": 148,
   "metadata": {
    "tags": []
   },
   "outputs": [
    {
     "output_type": "stream",
     "name": "stdout",
     "text": "[[   0.  810.  900.  810.    0.    0.    0.    0.    0.]\n [ 810.    0.  900.  810.  810.  900.    0.    0.    0.]\n [ 810.  810.    0.  810.  810.  900. 1000.  900.  810.]\n [ 810.  810.  900.    0.    0.    0.    0.  900.  810.]\n [   0.  810.  900.    0.    0.  900.    0.    0.    0.]\n [   0.  810.  900.    0.  810.    0. 1000.  900.    0.]\n [   0.    0.    0.    0.    0.    0. 1000.    0.    0.]\n [   0.    0.  900.  810.    0.  900. 1000.    0.  810.]\n [   0.    0.  900.  810.    0.    0.    0.  900.    0.]]\n"
    }
   ],
   "source": [
    "print(Q)"
   ]
  },
  {
   "cell_type": "markdown",
   "metadata": {},
   "source": [
    "## Comprobante\n",
    "Se comprueba que una vez entrenada la matriz Q el agente encuentra el mejor camino, que, por ejemplo partiendo de 0 debería ser (0 -> 2 -> 6)."
   ]
  },
  {
   "cell_type": "code",
   "execution_count": 149,
   "metadata": {
    "tags": []
   },
   "outputs": [
    {
     "output_type": "stream",
     "name": "stdout",
     "text": "[0, 2, 6]\n"
    }
   ],
   "source": [
    "inicio = 0\n",
    "objetivo = 6\n",
    "camino = []\n",
    "# Establecemos como primera casilla la definida como inicio\n",
    "camino.append(inicio)\n",
    "actual = inicio\n",
    "# Hacemos un bucle que irá seleccionando como siguiente celda la que mayor recompensa obtenga segun\n",
    "# nuestra matriz Q calculada con nuestro algoritmo anteriormente\n",
    "while actual != objetivo:\n",
    "    siguiente = np.argmax(Q[actual])\n",
    "    camino.append(siguiente)\n",
    "    actual = siguiente\n",
    "# Mostramos el resultado obtenido con el bucle\n",
    "print(camino)\n"
   ]
  },
  {
   "cell_type": "code",
   "execution_count": 150,
   "metadata": {},
   "outputs": [
    {
     "output_type": "error",
     "ename": "SyntaxError",
     "evalue": "invalid syntax (<ipython-input-150-d1e332516ea1>, line 3)",
     "traceback": [
      "\u001b[1;36m  File \u001b[1;32m\"<ipython-input-150-d1e332516ea1>\"\u001b[1;36m, line \u001b[1;32m3\u001b[0m\n\u001b[1;33m    Se considerarán como medidas de rendimiento:\u001b[0m\n\u001b[1;37m       ^\u001b[0m\n\u001b[1;31mSyntaxError\u001b[0m\u001b[1;31m:\u001b[0m invalid syntax\n"
     ]
    }
   ],
   "source": [
    "## Rendimiento\n",
    "\n",
    "Se considerarán como medidas de rendimiento:\n",
    "* La suma de todos los valores de Q divididos entre el máximo valor de Q multiplicados por 100.\n",
    "* El tiempo total de la ejecución.\n"
   ]
  },
  {
   "cell_type": "code",
   "execution_count": 151,
   "metadata": {
    "tags": []
   },
   "outputs": [
    {
     "output_type": "stream",
     "name": "stdout",
     "text": "El valor del rendimiento siguiendo la fórmula mencionada es: 3289.0\nEl tiempo total de ejecución en segundos es: 3.560783624649048\n"
    }
   ],
   "source": [
    "# Obtenemos el valor máximo de la matriz Q\n",
    "maxQ = np.max(Q)\n",
    "# Dividimos cada elemento de la matriz Q por el valor máximo y lo multiplicamos por 100\n",
    "divQ = Q/maxQ*100\n",
    "# Sumamos todos los elementos de la matriz Q\n",
    "sumQ = divQ.sum()\n",
    "#Imprimimos los resultados de rendimiento\n",
    "print(\"El valor del rendimiento siguiendo la fórmula mencionada es: \" + str(divQ.sum()))\n",
    "print(\"El tiempo total de ejecución en segundos es: \" + str(end - start))"
   ]
  },
  {
   "cell_type": "code",
   "execution_count": 152,
   "metadata": {
    "tags": []
   },
   "outputs": [
    {
     "output_type": "stream",
     "name": "stdout",
     "text": "[[  0.  81.  90.  81.   0.   0.   0.   0.   0.]\n [ 81.   0.  90.  81.  81.  90.   0.   0.   0.]\n [ 81.  81.   0.  81.  81.  90. 100.  90.  81.]\n [ 81.  81.  90.   0.   0.   0.   0.  90.  81.]\n [  0.  81.  90.   0.   0.  90.   0.   0.   0.]\n [  0.  81.  90.   0.  81.   0. 100.  90.   0.]\n [  0.   0.   0.   0.   0.   0. 100.   0.   0.]\n [  0.   0.  90.  81.   0.  90. 100.   0.  81.]\n [  0.   0.  90.  81.   0.   0.   0.  90.   0.]]\n"
    }
   ],
   "source": [
    "# Imprimimos la matriz normalizada\n",
    "print(divQ)"
   ]
  },
  {
   "cell_type": "code",
   "execution_count": null,
   "metadata": {},
   "outputs": [],
   "source": []
  }
 ],
 "metadata": {
  "language_info": {
   "codemirror_mode": {
    "name": "ipython",
    "version": 3
   },
   "file_extension": ".py",
   "mimetype": "text/x-python",
   "name": "python",
   "nbconvert_exporter": "python",
   "pygments_lexer": "ipython3",
   "version": "3.8.2-final"
  },
  "orig_nbformat": 2,
  "kernelspec": {
   "name": "python38264bitc4c343130ed4464485181525644477d7",
   "display_name": "Python 3.8.2 64-bit"
  }
 },
 "nbformat": 4,
 "nbformat_minor": 2
}