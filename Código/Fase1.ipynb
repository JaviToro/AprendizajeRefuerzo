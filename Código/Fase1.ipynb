{
 "cells": [
  {
   "cell_type": "markdown",
   "metadata": {},
   "source": [
    "### Importaciones\n",
    "Necesarias para el correcto funcionamiento del proyecto.\n",
    "\n",
    "Random: para la generación de números aleatorios\n",
    "Numpy: para poder trabajar con los tableros (matrices)"
   ]
  },
  {
   "cell_type": "code",
   "execution_count": 1,
   "metadata": {},
   "outputs": [],
   "source": [
    "import numpy as np\n",
    "from random import randint"
   ]
  },
  {
   "cell_type": "markdown",
   "metadata": {},
   "source": [
    "# Aprendizaje por Refuerzo\n",
    "## Tablero\n",
    "Definimos el tablero descrito en el enunciado de la Fase 1."
   ]
  },
  {
   "cell_type": "code",
   "execution_count": 2,
   "metadata": {
    "tags": []
   },
   "outputs": [
    {
     "output_type": "stream",
     "name": "stdout",
     "text": "[[8 7 6]\n [3 2 5]\n [0 1 4]]\n"
    }
   ],
   "source": [
    "T = np.array([[8,7,6],\n",
    "              [3,2,5],\n",
    "              [0,1,4]])\n",
    "print(T)"
   ]
  },
  {
   "cell_type": "markdown",
   "metadata": {},
   "source": [
    "## Matriz R\n",
    "Definimos la matriz R calculada a partir de los posibles movimientos del tablero, definido según el enunciado de la Fase 1."
   ]
  },
  {
   "cell_type": "code",
   "execution_count": 3,
   "metadata": {
    "tags": []
   },
   "outputs": [
    {
     "output_type": "stream",
     "name": "stdout",
     "text": "[[ -1   0   0   0  -1  -1  -1  -1  -1]\n [  0  -1   0   0   0   0  -1  -1  -1]\n [  0   0  -1   0   0   0 100   0   0]\n [  0   0   0  -1  -1  -1  -1   0   0]\n [ -1   0   0  -1  -1   0  -1  -1  -1]\n [ -1   0   0  -1   0  -1 100   0  -1]\n [ -1  -1   0  -1  -1   0 100   0  -1]\n [ -1  -1   0   0  -1   0 100  -1   0]\n [ -1  -1   0   0  -1  -1  -1   0  -1]]\n"
    }
   ],
   "source": [
    "R = np.array([[-1,0,0,0,-1,-1,-1,-1,-1],\n",
    "              [0,-1,0,0,0,0,-1,-1,-1],\n",
    "              [0,0,-1,0,0,0,100,0,0],\n",
    "              [0,0,0,-1,-1,-1,-1,0,0],\n",
    "              [-1,0,0,-1,-1,0,-1,-1,-1],\n",
    "              [-1,0,0,-1,0,-1,100,0,-1],\n",
    "              [-1,-1,0,-1,-1,0,100,0,-1],\n",
    "              [-1,-1,0,0,-1,0,100,-1,0],\n",
    "              [-1,-1,0,0,-1,-1,-1,0,-1]])\n",
    "print(R)"
   ]
  },
  {
   "cell_type": "markdown",
   "metadata": {},
   "source": [
    "## Matriz Q\n",
    "Inicializamos Q como una matriz de 0s del mismo tamaño que la matriz R."
   ]
  },
  {
   "cell_type": "code",
   "execution_count": 4,
   "metadata": {
    "tags": []
   },
   "outputs": [
    {
     "output_type": "stream",
     "name": "stdout",
     "text": "[[0. 0. 0. 0. 0. 0. 0. 0. 0.]\n [0. 0. 0. 0. 0. 0. 0. 0. 0.]\n [0. 0. 0. 0. 0. 0. 0. 0. 0.]\n [0. 0. 0. 0. 0. 0. 0. 0. 0.]\n [0. 0. 0. 0. 0. 0. 0. 0. 0.]\n [0. 0. 0. 0. 0. 0. 0. 0. 0.]\n [0. 0. 0. 0. 0. 0. 0. 0. 0.]\n [0. 0. 0. 0. 0. 0. 0. 0. 0.]\n [0. 0. 0. 0. 0. 0. 0. 0. 0.]]\n"
    }
   ],
   "source": [
    "Q = np.zeros((9,9))\n",
    "print(Q)"
   ]
  },
  {
   "cell_type": "markdown",
   "metadata": {},
   "source": [
    "## Parámetros\n",
    "Apartado para configurar los distintos parámetros que utilizará el algoritmo."
   ]
  },
  {
   "cell_type": "code",
   "execution_count": 5,
   "metadata": {
    "tags": []
   },
   "outputs": [
    {
     "output_type": "stream",
     "name": "stdout",
     "text": "La celda de inicio será la 0 y la celda objetivo será la 6.\nEl número de episodios será 10000 y el factor de aprendizaje gamma será de 0.8.\n"
    }
   ],
   "source": [
    "inicio = 0\n",
    "objetivo = 6\n",
    "episodios = 10000\n",
    "gamma = 0.8\n",
    "print(\"La celda de inicio será la \" + str(inicio) + \" y la celda objetivo será la \" + str(objetivo) +\".\")\n",
    "print(\"El número de episodios será \" + str(episodios) + \" y el factor de aprendizaje gamma es de \" + str(gamma) + \".\")"
   ]
  },
  {
   "cell_type": "markdown",
   "metadata": {},
   "source": [
    "## Algoritmo\n",
    "Definimos el algoritmo en base al pseudo-código que aparece en el enunciado del trabajo."
   ]
  },
  {
   "cell_type": "code",
   "execution_count": null,
   "metadata": {
    "tags": []
   },
   "outputs": [],
   "source": [
    "# Asignamos el número de episodios del algoritmo en base al valor definido\n",
    "rango = range(episodios)\n",
    "\n",
    "# Definimos el bucle del algoritmo que se irá ejecutando hasta que finalicen los episodios\n",
    "for x in rango:\n",
    "    # Iniciamos en una casilla aleatoria del tablero\n",
    "    inicio = randint(0, 8)\n",
    "    print(\"\\nEpisodio \" + str(x+1) + \": Se establece \" + str(inicio) + \" como celda de inicio, y se toma como celda objetivo la \" + str(objetivo) + \".\")\n",
    "    # Establecemos que el episodio en ejecucion comience en la casilla de inicio \n",
    "    actual = inicio\n",
    "    # Definimos el bucle que se ejecutara hasta que se llegue a la celda objetivo\n",
    "    while actual != objetivo:\n",
    "        # Inicializamos una lista donde añadimos las posibles celdas para el siguiente estado\n",
    "        # en base a lo definido en la matriz R \n",
    "        posibles = []\n",
    "        for y in range(9):\n",
    "            if R[actual][y] == 0 or R[actual][y] == 100:\n",
    "                posibles.append(y)\n",
    "        print(\"La lista de siguientes celdas posibles es: \" + str(posibles))\n",
    "        # Elegimos aleatoriamente, entre las celdas posibles, la siguiente\n",
    "        aleatorioPosibles = randint(0,int(len(posibles)-1))\n",
    "        aleatorio = posibles[aleatorioPosibles]\n",
    "        print(\"Se elige aleatoriamente la celda \" + str(aleatorio) + \".\")\n",
    "        # Inicializamos una lista donde evaluamos los posibles siguientes estados (en base a la matriz Q)\n",
    "        supuestos = []\n",
    "        for z in range(9):\n",
    "            if R[aleatorio][z] == 0 or R[aleatorio][z] == 100:\n",
    "                calculo = Q[aleatorio][z]\n",
    "                supuestos.append(calculo)\n",
    "        # Seleccionamos el mayor valor de todos los posibles supuestos\n",
    "        maximoSupuestos = max(supuestos)\n",
    "        # Actualizamos la matriz Q con el maximo localizado\n",
    "        Q[actual][aleatorio] = R[actual][aleatorio] + gamma * maximoSupuestos\n",
    "        print(\"Se actualiza el valor de Q[\" + str(actual) + \"]\" + \"[\" + str(aleatorio) + \"] a \" + str(Q[actual][aleatorio]) + \".\" )\n",
    "        # Pasamos a la celda elegida aleatoriamente y volvemos a iterar\n",
    "        actual = aleatorio\n",
    "        print(\"Actualizamos la celda actual a \" + str(actual) + \".\")\n",
    "    print(\"Se alcanza la celda objetivo.\")"
   ]
  },
  {
   "cell_type": "markdown",
   "metadata": {},
   "source": [
    "## Matriz Q resultante\n",
    "Así queda la matriz Q después de completar todos los episodios."
   ]
  },
  {
   "cell_type": "code",
   "execution_count": 7,
   "metadata": {
    "tags": []
   },
   "outputs": [
    {
     "output_type": "stream",
     "name": "stdout",
     "text": "[[  0.  64.  80.  64.   0.   0.   0.   0.   0.]\n [ 64.   0.  80.  64.  64.  80.   0.   0.   0.]\n [ 64.  64.   0.  64.  64.  80. 100.  80.  64.]\n [ 64.  64.  80.   0.   0.   0.   0.  80.  64.]\n [  0.  64.  80.   0.   0.  80.   0.   0.   0.]\n [  0.  64.  80.   0.  64.   0. 100.  80.   0.]\n [  0.   0.   0.   0.   0.   0.   0.   0.   0.]\n [  0.   0.  80.  64.   0.  80. 100.   0.  64.]\n [  0.   0.  80.  64.   0.   0.   0.  80.   0.]]\n"
    }
   ],
   "source": [
    "print(Q)"
   ]
  },
  {
   "cell_type": "markdown",
   "metadata": {},
   "source": [
    "## Comprobante\n",
    "Se comprueba que una vez entrenada la matriz Q el agente encuentra el mejor camino, que, por ejemplo partiendo de 0 debería ser 0, 2, 6."
   ]
  },
  {
   "cell_type": "code",
   "execution_count": 8,
   "metadata": {
    "tags": []
   },
   "outputs": [
    {
     "output_type": "stream",
     "name": "stdout",
     "text": "[0, 2, 6]\n"
    }
   ],
   "source": [
    "inicio = 0\n",
    "objetivo = 6\n",
    "camino = []\n",
    "# Establecemos como primera casilla la definida como inicio\n",
    "camino.append(inicio)\n",
    "actual = inicio\n",
    "# Hacemos un bucle que irá seleccionando como siguiente celda la que mayor recompensa obtenga segun\n",
    "# nuestra matriz Q calculada con nuestro algoritmo anteriormente\n",
    "while actual != objetivo:\n",
    "    siguiente = np.argmax(Q[actual])\n",
    "    camino.append(siguiente)\n",
    "    actual = siguiente\n",
    "# Mostramos el resultado obtenido con el bucle\n",
    "print(camino)\n"
   ]
  }
 ],
 "metadata": {
  "language_info": {
   "codemirror_mode": {
    "name": "ipython",
    "version": 3
   },
   "file_extension": ".py",
   "mimetype": "text/x-python",
   "name": "python",
   "nbconvert_exporter": "python",
   "pygments_lexer": "ipython3",
   "version": "3.8.2-final"
  },
  "orig_nbformat": 2,
  "kernelspec": {
   "name": "python38264bit19594017814c45149cc4d01e7f46d5d6",
   "display_name": "Python 3.8.2 64-bit"
  }
 },
 "nbformat": 4,
 "nbformat_minor": 2
}